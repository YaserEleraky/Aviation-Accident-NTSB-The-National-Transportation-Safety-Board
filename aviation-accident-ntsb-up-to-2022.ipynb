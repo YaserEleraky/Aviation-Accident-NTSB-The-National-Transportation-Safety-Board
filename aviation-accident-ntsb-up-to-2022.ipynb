{
 "cells": [
  {
   "cell_type": "markdown",
   "id": "a25f9eb2",
   "metadata": {
    "papermill": {
     "duration": 0.039114,
     "end_time": "2024-04-29T08:36:49.893266",
     "exception": false,
     "start_time": "2024-04-29T08:36:49.854152",
     "status": "completed"
    },
    "tags": []
   },
   "source": [
    "> ### URL : __[My Kaggle link To All My Datasets Which I used in this NoteBook](https://www.kaggle.com/datasets/yassereleraky/aviation-accident-ntsb)__\n",
    "\n",
    "> ### URL : __[My Drive for All My Datasets Which I used in this NoteBook](https://www.kaggle.com/datasets/yassereleraky/aviation-accident-ntsb)__\n",
    "\n"
   ]
  },
  {
   "cell_type": "markdown",
   "id": "cb1b7685",
   "metadata": {
    "papermill": {
     "duration": 0.038637,
     "end_time": "2024-04-29T08:36:49.971010",
     "exception": false,
     "start_time": "2024-04-29T08:36:49.932373",
     "status": "completed"
    },
    "tags": []
   },
   "source": [
    "<style>\n",
    "    .container {\n",
    "        text-align: center;\n",
    "        max-width: 1200px;\n",
    "        margin: 0 auto;\n",
    "    }\n",
    "\n",
    "    .container img {\n",
    "        max-width: 400px; /* Adjust the width as needed */\n",
    "        height: auto;\n",
    "        margin-bottom: 20px;\n",
    "    }\n",
    "\n",
    "    ul {\n",
    "        list-style-type: none;\n",
    "        padding: 0;\n",
    "    }\n",
    "\n",
    "    li {\n",
    "        margin-bottom: 5px;\n",
    "    }\n",
    "</style>\n",
    "\n",
    "<div class=\"container\">\n",
    "    <a class=\"navbar-brand\" href=\"/\">\n",
    "        <img src=\"https://www.ntsb.gov/_layouts/15/NTSBPublicWeb/img/top-logo.png\" alt=\"NTSB Logo\">\n",
    "    </a>\n",
    "    <div id=\"ctl00_header1_EditModePanel5_MasterPageNavigation1_EditModePanel6\">\n",
    "        <p><strong>The National Transportation Safety Board (NTSB) is an independent federal agency in the United States dedicated to investigating transportation accidents, including aviation accidents. Here's a brief description of NTSB's role and responsibilities in aviation accident investigation:</strong></p>\n",
    "        <ul>\n",
    "            <li><strong>Investigation Mandate:</strong> The NTSB is responsible for investigating civil aviation accidents and incidents in the United States and its territories. It also investigates significant accidents involving U.S.-registered aircraft worldwide.</li>\n",
    "            <li><strong>Objective:</strong> The primary objective of NTSB investigations is to determine the probable cause(s) of accidents and incidents, with the goal of enhancing transportation safety and preventing future accidents.</li>\n",
    "            <li><strong>Investigation Process:</strong> When an aviation accident occurs, the NTSB dispatches a team of investigators to the accident site. These investigators collect evidence, interview witnesses, analyze data, and reconstruct the sequence of events leading to the accident.</li>\n",
    "            <li><strong>Probable Cause Determination:</strong> After completing its investigation, the NTSB issues a final report that includes its findings and conclusions regarding the probable cause(s) of the accident. The report may also contain safety recommendations aimed at preventing similar accidents in the future.</li>\n",
    "            <li><strong>Safety Recommendations:</strong> In addition to determining probable causes, the NTSB issues safety recommendations to address systemic safety issues identified during investigations. These recommendations may target regulatory agencies, industry stakeholders, or other relevant parties.</li>\n",
    "            <li><strong>Advocacy and Outreach:</strong> The NTSB advocates for safety improvements in various transportation modes, including aviation. It conducts outreach activities, disseminates safety information, and promotes awareness of transportation safety issues among stakeholders and the public.</li>\n",
    "        </ul>\n",
    "    </div>\n",
    "</div>\n",
    "\n",
    "> ### URL : __[The National Transportation Safety Board (NTSB)](https://www.ntsb.gov/Pages/AviationQueryV2.aspx)__\n",
    "\n",
    "> ###   URL: [Kaggle Data Base](https://www.kaggle.com/datasets/khsamaha/aviation-accident-database-synopses/data)"
   ]
  },
  {
   "cell_type": "markdown",
   "id": "9d57c7fc",
   "metadata": {
    "papermill": {
     "duration": 0.09351,
     "end_time": "2024-04-29T08:36:50.103234",
     "exception": false,
     "start_time": "2024-04-29T08:36:50.009724",
     "status": "completed"
    },
    "tags": []
   },
   "source": [
    "<!-- <div style=\"text-align: center;padding: 0px; font-weight: bold; font-size: 50px; font-family: 'Times New Roman', Times, serif;\">\n",
    "    <span>Aviation Accident Database from 1962 up to 2023.</span><ul></ul> -->\n",
    "<!-- <div class=\"alert alert-block alert-info\" style=\"background-color: #c91e9e; color: white; text-align: center; padding: 5px; border-radius: 0px;\">\n",
    "  <b style=\"font-size: 35px;\">Aviation Accident Database from 1962 up to 2023.</b><br>\n",
    "</div> -->\n",
    "\n",
    "  </div>\n",
    "</div>\n",
    "\n",
    "</div>\n",
    "\n",
    "</div>\n",
    "<style>\n",
    "    .container {\n",
    "        text-align: center;\n",
    "        max-width: 5000px;\n",
    "        margin: 0 auto;\n",
    "    }\n",
    "    .container img {\n",
    "        max-width: 400px; /* Adjust the width as needed */\n",
    "        height: auto;\n",
    "        margin-bottom: 20px;\n",
    "    }\n",
    "\n",
    "    ul {\n",
    "        list-style-type: none;\n",
    "        padding: 0;\n",
    "    }\n",
    "\n",
    "    li {\n",
    "        margin-bottom: 5px;\n",
    "        text-align: left; /* Align list items to the left */\n",
    "    }\n",
    "</style>\n",
    "<div class=\"container\">\n",
    "    <a class=\"navbar-brand\" href=\"/\">\n",
    "        <img src=\"https://www.smarttechid.com/wp-content/uploads/2014/11/DATACARD-LOGO.jpg\" alt=\"NTSB Logo\">\n",
    "    </a>\n",
    "    <div id=\"ctl00_header1_EditModePanel5_MasterPageNavigation1_EditModePanel6\">\n",
    "    <div class=\"alert alert-block alert-info\" style=\"background-color: #001529; color: white; text-align: center; padding: 5px; border-radius: 0px;\">\n",
    "  <b style=\"font-size: 35px;\">🛫Aviation Accident Database from 1962 up to 2023 🛬</b><br>\n",
    "        <p><strong>The NTSB aviation accident database contains information from 1962 and later about civil aviation accidents and selected incidents within the United States, its territories and possessions, and in international waters:</strong></p>\n",
    "<ul>\n",
    "    <li><strong>Event.Id:</strong> Unique identifier assigned to each aviation accident event in the database.</li>\n",
    "    <li><strong>Investigation.Type:</strong> Type of investigation conducted for the accident, such as \"Incident,\" \"Accident,\" etc.</li>\n",
    "    <li><strong>Accident.Number:</strong> Unique identifier assigned to each aviation accident.</li>\n",
    "    <li><strong>Event.Date:</strong> Date when the accident occurred.</li>\n",
    "    <li><strong>Location:</strong> Geographical location where the accident took place, including city, state, and country.</li>\n",
    "    <li><strong>Country:</strong> Country where the accident occurred.</li>\n",
    "    <li><strong>Latitude:</strong> Geographical latitude coordinate of the accident location.</li>\n",
    "    <li><strong>Longitude:</strong> Geographical longitude coordinate of the accident location.</li>\n",
    "    <li><strong>Airport.Code:</strong> Code assigned to the airport nearest to the accident site.</li>\n",
    "    <li><strong>Airport.Name:</strong> Name of the airport nearest to the accident site.</li>\n",
    "    <li><strong>Injury.Severity:</strong> Severity of injuries sustained by individuals involved in the accident, ranging from minor to fatal.</li>\n",
    "    <li><strong>Aircraft.damage:</strong> Extent of damage sustained by the aircraft involved in the accident, categorized as minor, substantial, destroyed, etc.</li>\n",
    "    <li><strong>Aircraft.Category:</strong> Category of aircraft involved in the accident, such as airplane, helicopter, glider, etc.</li>\n",
    "    <li><strong>Registration.Number:</strong> Unique registration number assigned to the aircraft.</li>\n",
    "    <li><strong>Make:</strong> Make or manufacturer of the aircraft.</li>\n",
    "    <li><strong>Model:</strong> Model of the aircraft.</li>\n",
    "    <li><strong>Amateur.Built:</strong> Indicates whether the aircraft involved was built by amateur constructors.</li>\n",
    "    <li><strong>Number.of.Engines:</strong> Number of engines installed on the aircraft.</li>\n",
    "    <li><strong>Engine.Type:</strong> Type of engine(s) installed on the aircraft, such as reciprocating, turbojet, turboprop, etc.</li>\n",
    "    <li><strong>FAR.Description:</strong> Description of the Federal Aviation Regulation (FAR) under which the aircraft operates.</li>\n",
    "    <li><strong>Schedule:</strong> Indicates whether the flight was scheduled or unscheduled.</li>\n",
    "    <li><strong>Purpose.of.flight:</strong> Purpose of the flight at the time of the accident, such as personal, commercial, instructional, etc.</li>\n",
    "    <li><strong>Air.carrier:</strong> Air carrier associated with the flight, if applicable.</li>\n",
    "    <li><strong>Total.Fatal.Injuries:</strong> Total number of fatal injuries resulting from the accident.</li>\n",
    "    <li><strong>Total.Serious.Injuries:</strong> Total number of serious injuries resulting from the accident.</li>\n",
    "    <li><strong>Total.Minor.Injuries:</strong> Total number of minor injuries resulting from the accident.</li>\n",
    "    <li><strong>Total.Uninjured:</strong> Total number of individuals who were uninjured in the accident.</li>\n",
    "    <li><strong>Weather.Condition:</strong> Prevailing weather conditions at the time of the accident.</li>\n",
    "    <li><strong>Broad.phase.of.flight:</strong> Phase of flight during which the accident occurred, such as takeoff, climb, cruise, descent, etc.</li>\n",
    "    <li><strong>Report.Status:</strong> Status of the accident investigation report.</li>\n",
    "    <li><strong>Publication.Date:</strong> Date when the accident investigation report was published.</li>\n",
    "</ul>\n",
    "    </div>\n",
    "</div>\n",
    "\n"
   ]
  },
  {
   "cell_type": "markdown",
   "id": "bd57d903",
   "metadata": {
    "papermill": {
     "duration": 0.040584,
     "end_time": "2024-04-29T08:36:50.184907",
     "exception": false,
     "start_time": "2024-04-29T08:36:50.144323",
     "status": "completed"
    },
    "tags": []
   },
   "source": [
    "<div class=\"alert alert-block alert-info\" style=\"background-color: #2C0316; color: white; padding: 10px; border-radius: 5px; border: 1px solid black;\">\n",
    "  <b style=\"font-size: 35px;\">🛫 Import Libraries 🛬</b>\n",
    "</div>\n",
    "\n",
    "# 🛫 Import Libraries 🛬"
   ]
  },
  {
   "cell_type": "code",
   "execution_count": 2,
   "id": "721562f5",
   "metadata": {
    "execution": {
     "iopub.execute_input": "2024-04-29T08:36:50.270467Z",
     "iopub.status.busy": "2024-04-29T08:36:50.269710Z",
     "iopub.status.idle": "2024-04-29T08:36:50.755898Z",
     "shell.execute_reply": "2024-04-29T08:36:50.754360Z"
    },
    "papermill": {
     "duration": 0.531648,
     "end_time": "2024-04-29T08:36:50.758172",
     "exception": true,
     "start_time": "2024-04-29T08:36:50.226524",
     "status": "failed"
    },
    "tags": []
   },
   "outputs": [
    {
     "ename": "ModuleNotFoundError",
     "evalue": "No module named 'selenium'",
     "output_type": "error",
     "traceback": [
      "\u001b[0;31m---------------------------------------------------------------------------\u001b[0m",
      "\u001b[0;31mModuleNotFoundError\u001b[0m                       Traceback (most recent call last)",
      "Cell \u001b[0;32mIn[2], line 8\u001b[0m\n\u001b[1;32m      6\u001b[0m \u001b[38;5;28;01mimport\u001b[39;00m \u001b[38;5;21;01mrequests\u001b[39;00m  \n\u001b[1;32m      7\u001b[0m \u001b[38;5;28;01mfrom\u001b[39;00m \u001b[38;5;21;01mbs4\u001b[39;00m \u001b[38;5;28;01mimport\u001b[39;00m BeautifulSoup\n\u001b[0;32m----> 8\u001b[0m \u001b[38;5;28;01mfrom\u001b[39;00m \u001b[38;5;21;01mselenium\u001b[39;00m\u001b[38;5;21;01m.\u001b[39;00m\u001b[38;5;21;01mwebdriver\u001b[39;00m \u001b[38;5;28;01mimport\u001b[39;00m Chrome\n\u001b[1;32m      9\u001b[0m \u001b[38;5;28;01mfrom\u001b[39;00m \u001b[38;5;21;01mselenium\u001b[39;00m\u001b[38;5;21;01m.\u001b[39;00m\u001b[38;5;21;01mwebdriver\u001b[39;00m\u001b[38;5;21;01m.\u001b[39;00m\u001b[38;5;21;01mchrome\u001b[39;00m\u001b[38;5;21;01m.\u001b[39;00m\u001b[38;5;21;01mservice\u001b[39;00m \u001b[38;5;28;01mimport\u001b[39;00m Service\n\u001b[1;32m     10\u001b[0m \u001b[38;5;28;01mfrom\u001b[39;00m \u001b[38;5;21;01mwebdriver_manager\u001b[39;00m\u001b[38;5;21;01m.\u001b[39;00m\u001b[38;5;21;01mchrome\u001b[39;00m \u001b[38;5;28;01mimport\u001b[39;00m ChromeDriverManager\n",
      "\u001b[0;31mModuleNotFoundError\u001b[0m: No module named 'selenium'"
     ]
    }
   ],
   "source": [
    "import os\n",
    "import time\n",
    "import pandas as pd\n",
    "import numpy as np \n",
    "# Scrapping Libraries\n",
    "import requests  \n",
    "from bs4 import BeautifulSoup\n",
    "from selenium.webdriver import Chrome\n",
    "from selenium.webdriver.chrome.service import Service\n",
    "from webdriver_manager.chrome import ChromeDriverManager\n",
    "# Imputer library from sklearn\n",
    "from sklearn.impute import KNNImputer\n",
    "# Impotring for geopy for placing \n",
    "from geopy.distance import great_circle\n",
    "from geopy.geocoders import Nominatim\n",
    "import geopandas as gpd\n",
    "from shapely.geometry import Point\n",
    "# Importing for plottinل\n",
    "import plotly.graph_objects as go\n",
    "import plotly.express as px\n",
    "from plotly.subplots import make_subplots"
   ]
  },
  {
   "cell_type": "markdown",
   "id": "cc4aa0c1",
   "metadata": {
    "papermill": {
     "duration": null,
     "end_time": null,
     "exception": null,
     "start_time": null,
     "status": "pending"
    },
    "tags": []
   },
   "source": [
    "<div class=\"alert alert-block alert-info\" style=\"background-color: #032C2A; color: white; padding: 10px; border-radius: 5px; border: 1px solid black;\">\n",
    "  <b style=\"font-size: 35px;\">🛫 Import Dateset And Exploration 🛬</b>\n",
    "</div>\n",
    "\n",
    "# 🛫 Import Dateset And Exploration 🛬"
   ]
  },
  {
   "cell_type": "code",
   "execution_count": null,
   "id": "84e5589e",
   "metadata": {
    "papermill": {
     "duration": null,
     "end_time": null,
     "exception": null,
     "start_time": null,
     "status": "pending"
    },
    "tags": []
   },
   "outputs": [],
   "source": [
    "Main_path = input(\"Enter Your path folder which has all files and data sets\")"
   ]
  },
  {
   "cell_type": "code",
   "execution_count": null,
   "id": "1db77301",
   "metadata": {
    "papermill": {
     "duration": null,
     "end_time": null,
     "exception": null,
     "start_time": null,
     "status": "pending"
    },
    "tags": []
   },
   "outputs": [],
   "source": [
    "aviation = pd.read_csv(rf\"{Main_path}\\AviationData.csv\", encoding='mac_roman', low_memory=False)\n",
    "aviation"
   ]
  },
  {
   "cell_type": "code",
   "execution_count": null,
   "id": "8afe386f",
   "metadata": {
    "papermill": {
     "duration": null,
     "end_time": null,
     "exception": null,
     "start_time": null,
     "status": "pending"
    },
    "tags": []
   },
   "outputs": [],
   "source": [
    "aviation.columns "
   ]
  },
  {
   "cell_type": "code",
   "execution_count": null,
   "id": "d828b8ea",
   "metadata": {
    "papermill": {
     "duration": null,
     "end_time": null,
     "exception": null,
     "start_time": null,
     "status": "pending"
    },
    "tags": []
   },
   "outputs": [],
   "source": [
    "aviation.info() "
   ]
  },
  {
   "cell_type": "code",
   "execution_count": null,
   "id": "523f67bd",
   "metadata": {
    "papermill": {
     "duration": null,
     "end_time": null,
     "exception": null,
     "start_time": null,
     "status": "pending"
    },
    "tags": []
   },
   "outputs": [],
   "source": [
    "aviation.describe().T"
   ]
  },
  {
   "cell_type": "code",
   "execution_count": null,
   "id": "1b64854a",
   "metadata": {
    "papermill": {
     "duration": null,
     "end_time": null,
     "exception": null,
     "start_time": null,
     "status": "pending"
    },
    "tags": []
   },
   "outputs": [],
   "source": [
    "''' Edit Columns Name To the Title ''' \n",
    "aviation.columns = aviation.columns.str.replace('.',\" \").str.title().str.strip()\n",
    "aviation.columns "
   ]
  },
  {
   "cell_type": "code",
   "execution_count": null,
   "id": "ba9283e0",
   "metadata": {
    "papermill": {
     "duration": null,
     "end_time": null,
     "exception": null,
     "start_time": null,
     "status": "pending"
    },
    "tags": []
   },
   "outputs": [],
   "source": [
    "''' Explore for unique values in every columns ''' \n",
    "\n",
    "# loop for each column in the DataFrame\n",
    "for column in aviation.columns:\n",
    "    # Get the unique values for the current column\n",
    "    unique_values = aviation[column].value_counts()\n",
    "    # Print the column name\n",
    "    print(f\"Unique values for column '{column}': {unique_values}\")\n",
    "    print('🛬'*50)\n",
    "\n"
   ]
  },
  {
   "cell_type": "code",
   "execution_count": null,
   "id": "57bf393a",
   "metadata": {
    "papermill": {
     "duration": null,
     "end_time": null,
     "exception": null,
     "start_time": null,
     "status": "pending"
    },
    "tags": []
   },
   "outputs": [],
   "source": [
    "aviation"
   ]
  },
  {
   "cell_type": "code",
   "execution_count": null,
   "id": "38d9ef31",
   "metadata": {
    "papermill": {
     "duration": null,
     "end_time": null,
     "exception": null,
     "start_time": null,
     "status": "pending"
    },
    "tags": []
   },
   "outputs": [],
   "source": [
    "''' Explore for NAN values in every columns '''\n",
    "\n",
    "NAN_Values = aviation.isnull().sum()\n",
    "NAN_Values\n"
   ]
  },
  {
   "cell_type": "code",
   "execution_count": null,
   "id": "ffcf64c8",
   "metadata": {
    "papermill": {
     "duration": null,
     "end_time": null,
     "exception": null,
     "start_time": null,
     "status": "pending"
    },
    "tags": []
   },
   "outputs": [],
   "source": [
    "''' Calculate the percentage of missing values for each column''' \n",
    "\n",
    "missing_percentage = (aviation.isnull().sum() / len(aviation)) * 100\n",
    "# Display the result\n",
    "print(missing_percentage)\n"
   ]
  },
  {
   "cell_type": "code",
   "execution_count": null,
   "id": "2692b89d",
   "metadata": {
    "papermill": {
     "duration": null,
     "end_time": null,
     "exception": null,
     "start_time": null,
     "status": "pending"
    },
    "tags": []
   },
   "outputs": [],
   "source": [
    "aviation.info()"
   ]
  },
  {
   "cell_type": "markdown",
   "id": "97648d0b",
   "metadata": {
    "papermill": {
     "duration": null,
     "end_time": null,
     "exception": null,
     "start_time": null,
     "status": "pending"
    },
    "tags": []
   },
   "source": [
    "<div class=\"alert alert-block alert-info\">\n",
    "<b>Notice :</b> We Have In some Columns NAN Values more than 60 % and we need to fill this nan values ☺\n",
    "</div>"
   ]
  },
  {
   "cell_type": "markdown",
   "id": "9322d21b",
   "metadata": {
    "papermill": {
     "duration": null,
     "end_time": null,
     "exception": null,
     "start_time": null,
     "status": "pending"
    },
    "tags": []
   },
   "source": [
    "<div class=\"alert alert-block alert-info\" style=\"background-color: #F67C09; color: white; padding: 10px; border-radius: 5px; border: 1px solid black;\">\n",
    "  <b style=\"font-size: 35px;\">❗️🛫 Explore Every Column and Trying To Fill NAN 🛬❗️</b>\n",
    "</div>\n",
    "\n",
    "# 🛫 Cleaning And New Feature 🛬\n",
    "## 🛫 Explore Every Column and Trying To Fill NAN 🛬"
   ]
  },
  {
   "cell_type": "markdown",
   "id": "e98f1307",
   "metadata": {
    "papermill": {
     "duration": null,
     "end_time": null,
     "exception": null,
     "start_time": null,
     "status": "pending"
    },
    "tags": []
   },
   "source": [
    "# 🛫 **Event ID**  : Unique identifier assigned to each aviation accident event in the database 🛬\n"
   ]
  },
  {
   "cell_type": "code",
   "execution_count": null,
   "id": "b48d042a",
   "metadata": {
    "papermill": {
     "duration": null,
     "end_time": null,
     "exception": null,
     "start_time": null,
     "status": "pending"
    },
    "tags": []
   },
   "outputs": [],
   "source": [
    "aviation['Event Id'].value_counts ()\n",
    "\n",
    "# almost the columns has a unique value"
   ]
  },
  {
   "cell_type": "code",
   "execution_count": null,
   "id": "0d5587ba",
   "metadata": {
    "papermill": {
     "duration": null,
     "end_time": null,
     "exception": null,
     "start_time": null,
     "status": "pending"
    },
    "tags": []
   },
   "outputs": [],
   "source": [
    "# Check nan values \n",
    "aviation['Event Id'].isna().sum()"
   ]
  },
  {
   "cell_type": "markdown",
   "id": "c3ef60b0",
   "metadata": {
    "papermill": {
     "duration": null,
     "end_time": null,
     "exception": null,
     "start_time": null,
     "status": "pending"
    },
    "tags": []
   },
   "source": [
    "<div class=\"alert alert-block alert-success\" style=\"background-color: #106F22; color: white; padding: 10px; border-radius: 5px; border: 1px solid black;\">\n",
    "  <b style=\"font-size: 35px;\"> ✅ The Columns is Clean without nan values</b>\n",
    "    <ul style=\"font-size: 35px;\"> 🟡 if we will tryng to search by unique ID from Event Id We will find application wiht the In-Depth Access to Aviation Accident Reports connected with database OF NTSB and iside this application i found the reports \n",
    "    about all th accident in (Analysis , Factual Information) \n",
    "    so I will scrap this data </ul>\n",
    "</div>\n",
    "\n",
    "> ###   URL: [Main Page of Application ](https://www.accidents.app/index.html)\n",
    "> ###   URL: [Link of links which changed with Every Id in [Event Id] for id =20001212X19172  ](https://www.accidents.app/summaries/accident/20001212X19172)\n",
    "\n",
    "## 🛫 Code OF Scraping Scraping 🛬"
   ]
  },
  {
   "cell_type": "code",
   "execution_count": null,
   "id": "f9757a30",
   "metadata": {
    "papermill": {
     "duration": null,
     "end_time": null,
     "exception": null,
     "start_time": null,
     "status": "pending"
    },
    "tags": []
   },
   "outputs": [],
   "source": [
    "# #original link (https://www.accidents.app/summaries/accident/20001212X19172)\n",
    "# # Sample of data to trying Coding \n",
    "# s_aviation = aviation.sample(n=50)\n",
    "# s_aviation\n",
    "# # Initialize WebDriver and variables\n",
    "# service = Service(ChromeDriverManager().install())\n",
    "# driver = Chrome(service=service)\n",
    "# # Empty Dictianary to collect my Data \n",
    "# scrap_dic = {}\n",
    "# # Counter of my scrapping \n",
    "# count=0\n",
    "# # Process URLs\n",
    "# for id in s_aviation['Event Id']:\n",
    "# # for id in aviation['Event Id']:\n",
    "#     url = f'https://www.accidents.app/summaries/accident/{id}'\n",
    "#     driver.get(url)\n",
    "\n",
    "#     # Get the HTML content\n",
    "#     html_content = driver.page_source\n",
    "\n",
    "#     # Convert HTML to Beautiful Soup object\n",
    "#     soup = BeautifulSoup(html_content, 'html.parser')\n",
    "\n",
    "#     analysis_text = []\n",
    "#     factual_text = []\n",
    "\n",
    "#     # Extract text, handling missing elements\n",
    "#     analysis_heading = soup.find(\"h3\", class_=\"h3-left\", text=\"Analysis\")\n",
    "#     if analysis_heading:\n",
    "#         analysis_paragraph = analysis_heading.find_next_sibling(\"p\")\n",
    "#         if analysis_paragraph:\n",
    "#             analysis_text.append(analysis_paragraph.text)\n",
    "#         else:\n",
    "#             analysis_text.append(np.nan)\n",
    "\n",
    "#     factual_heading = soup.find(\"h3\", class_=\"h3-left\", text=\"Factual Information\")\n",
    "#     if factual_heading:\n",
    "#         factual_paragraph = factual_heading.find_next_sibling(\"p\")\n",
    "#         if factual_paragraph:\n",
    "#             factual_text.append(factual_paragraph.text)\n",
    "#         else:\n",
    "#             factual_text.append(np.nan)\n",
    "#     count+=1\n",
    "#     print(count)\n",
    "\n",
    "#     # Store in dictionary, handling missing values and duplicates\n",
    "#     scrap_dic[id] = {\n",
    "#         'Analysis': '\\n'.join(analysis_text) if analysis_text else np.nan,\n",
    "#         'Factual Information': '\\n'.join(factual_text) if factual_text else np.nan\n",
    "#     }\n",
    "   \n",
    "    \n",
    "# driver.quit()\n",
    "# print(scrap_dic)\n",
    "\n",
    "# # Convert dictionary to DataFrame\n",
    "# Sample_aviation = pd.DataFrame.from_dict(scrap_dic)\n",
    "# Sample_aviation = Sample_aviation.transpose()\n",
    "# Sample_aviation = Sample_aviation.reset_index()\n",
    "# Sample_aviation.head()\n"
   ]
  },
  {
   "cell_type": "markdown",
   "id": "92335cb7",
   "metadata": {
    "papermill": {
     "duration": null,
     "end_time": null,
     "exception": null,
     "start_time": null,
     "status": "pending"
    },
    "tags": []
   },
   "source": [
    "<div class=\"alert alert-block alert-success\" style=\"background-color: #9607D5; color: white; padding: 10px; border-radius: 5px; border: 1px solid black;\">\n",
    "  <b style=\"font-size: 35px;\"> 🔴 i have done this scrap for all scrap and save it to CSV file </b>\n",
    "    <ul style=\"font-size: 35px;\"> 🟡 and now if we will look ww will find the missing values and now i will export this csv and we will merege the two dataframe (on aviation['Event Id']) this primary key and filling missing values </ul>\n",
    "</div>\n",
    "\n",
    "\n",
    "## 🛫 Importing analysis dataframe after scrapping and Analysis and report dataframe and filling missing values🛬"
   ]
  },
  {
   "cell_type": "code",
   "execution_count": null,
   "id": "b2948f4a",
   "metadata": {
    "papermill": {
     "duration": null,
     "end_time": null,
     "exception": null,
     "start_time": null,
     "status": "pending"
    },
    "tags": []
   },
   "outputs": [],
   "source": [
    "report_df = pd.read_csv(rf'{Main_path}\\Analysis Avation Reports.csv')\n",
    "report_df.head()"
   ]
  },
  {
   "cell_type": "code",
   "execution_count": null,
   "id": "dfe307b6",
   "metadata": {
    "papermill": {
     "duration": null,
     "end_time": null,
     "exception": null,
     "start_time": null,
     "status": "pending"
    },
    "tags": []
   },
   "outputs": [],
   "source": [
    "# cleaning this values and name of columns \n",
    "report_df = report_df.drop(index=[0, 1]).reset_index(drop=True)\n"
   ]
  },
  {
   "cell_type": "code",
   "execution_count": null,
   "id": "f2d32404",
   "metadata": {
    "papermill": {
     "duration": null,
     "end_time": null,
     "exception": null,
     "start_time": null,
     "status": "pending"
    },
    "tags": []
   },
   "outputs": [],
   "source": [
    "report_df.columns = report_df.columns.str.title().str.strip()"
   ]
  },
  {
   "cell_type": "code",
   "execution_count": null,
   "id": "4105f5b8",
   "metadata": {
    "papermill": {
     "duration": null,
     "end_time": null,
     "exception": null,
     "start_time": null,
     "status": "pending"
    },
    "tags": []
   },
   "outputs": [],
   "source": [
    "report_df.isnull().sum()"
   ]
  },
  {
   "cell_type": "code",
   "execution_count": null,
   "id": "b83a841c",
   "metadata": {
    "papermill": {
     "duration": null,
     "end_time": null,
     "exception": null,
     "start_time": null,
     "status": "pending"
    },
    "tags": []
   },
   "outputs": [],
   "source": [
    "# tring to less this nan values (filling nan) by columns \n",
    "# filling aviation['Analysis'] by report_df['Factual Information']\n",
    "report_df['Analysis'] = report_df['Analysis'].fillna(report_df['Factual Information'])\n",
    "# filling report_df['Factual Information'] by  report_df['Analysis']\n",
    "report_df['Factual Information'] = report_df['Factual Information'].fillna(report_df['Analysis'])\n",
    "# check nan vlaues \n",
    "report_df.isnull().sum()"
   ]
  },
  {
   "cell_type": "markdown",
   "id": "5917f169",
   "metadata": {
    "papermill": {
     "duration": null,
     "end_time": null,
     "exception": null,
     "start_time": null,
     "status": "pending"
    },
    "tags": []
   },
   "source": [
    "<div class=\"alert alert-block alert-warning\">\n",
    "<b>Notice :</b> we will find the nan valus i lessed but not all this because we have nan values in two columns and no we will make merege to data frame and we will filling with anothe columns \n",
    "</div>"
   ]
  },
  {
   "cell_type": "code",
   "execution_count": null,
   "id": "7a97f01c",
   "metadata": {
    "papermill": {
     "duration": null,
     "end_time": null,
     "exception": null,
     "start_time": null,
     "status": "pending"
    },
    "tags": []
   },
   "outputs": [],
   "source": [
    "# merege two data frame \n",
    "avia_with_report_df = pd.merge(aviation, report_df, on=['Event Id'], how='left')\n",
    "avia_with_report_df"
   ]
  },
  {
   "cell_type": "markdown",
   "id": "90e7fa43",
   "metadata": {
    "papermill": {
     "duration": null,
     "end_time": null,
     "exception": null,
     "start_time": null,
     "status": "pending"
    },
    "tags": []
   },
   "source": [
    "<div class=\"alert alert-block alert-success\" style=\"background-color: #071AD5; color: white; padding: 10px; border-radius: 5px; border: 1px solid black;\">\n",
    "  <b style=\"font-size: 35px;\"> 🔴according to Report Status columns we will find he is look like my scrappind data frame analyssis and report </b>\n",
    "    <ul style=\"font-size: 35px;\"> 🟡 we will find also missing values and the values not usful if we will look on unique values so we will use it to fill our analysis column and drop this  </ul>\n",
    "</div>\n",
    "\n",
    "## 🛫Report Status column and Analysis and report dataframe🛬"
   ]
  },
  {
   "cell_type": "code",
   "execution_count": null,
   "id": "1dbaf9bd",
   "metadata": {
    "papermill": {
     "duration": null,
     "end_time": null,
     "exception": null,
     "start_time": null,
     "status": "pending"
    },
    "tags": []
   },
   "outputs": [],
   "source": [
    "avia_with_report_df['Report Status'].unique()"
   ]
  },
  {
   "cell_type": "code",
   "execution_count": null,
   "id": "179f9b4a",
   "metadata": {
    "papermill": {
     "duration": null,
     "end_time": null,
     "exception": null,
     "start_time": null,
     "status": "pending"
    },
    "tags": []
   },
   "outputs": [],
   "source": [
    "avia_with_report_df['Report Status'].value_counts()"
   ]
  },
  {
   "cell_type": "code",
   "execution_count": null,
   "id": "8a63baea",
   "metadata": {
    "papermill": {
     "duration": null,
     "end_time": null,
     "exception": null,
     "start_time": null,
     "status": "pending"
    },
    "tags": []
   },
   "outputs": [],
   "source": [
    "avia_with_report_df['Report Status'].isnull().sum()"
   ]
  },
  {
   "cell_type": "code",
   "execution_count": null,
   "id": "094a87ba",
   "metadata": {
    "papermill": {
     "duration": null,
     "end_time": null,
     "exception": null,
     "start_time": null,
     "status": "pending"
    },
    "tags": []
   },
   "outputs": [],
   "source": [
    "# tring to less this nan values (filling nan) by columns \n",
    "# filling aviation['Analysis'] by avia_with_report_df['Analysis']\n",
    "avia_with_report_df['Analysis'] = avia_with_report_df['Analysis'].fillna(avia_with_report_df['Report Status'])\n",
    "# filling report_df['Factual Information'] by  avia_with_report_df['Analysis']\n",
    "avia_with_report_df['Factual Information'] = avia_with_report_df['Factual Information'].fillna(avia_with_report_df['Report Status'])\n",
    "# chech filling \n",
    "avia_with_report_df['Report Status'] = avia_with_report_df['Report Status'].fillna(avia_with_report_df['Analysis'])\n",
    "# check nan vlaues \n",
    "avia_with_report_df.isnull().sum()"
   ]
  },
  {
   "cell_type": "markdown",
   "id": "07497bd9",
   "metadata": {
    "papermill": {
     "duration": null,
     "end_time": null,
     "exception": null,
     "start_time": null,
     "status": "pending"
    },
    "tags": []
   },
   "source": [
    "> We found the nan values is \n",
    "- Analysis                   1121\n",
    "- Factual Information        1121\n",
    "- Report Status              1121\n",
    "> we notice missing values now is the same and according to all information in dataset this nan values unknown we will fill this nan values with UNK and drop two anothe columns [Factual Information , Report Status]"
   ]
  },
  {
   "cell_type": "code",
   "execution_count": null,
   "id": "ae40cf59",
   "metadata": {
    "papermill": {
     "duration": null,
     "end_time": null,
     "exception": null,
     "start_time": null,
     "status": "pending"
    },
    "tags": []
   },
   "outputs": [],
   "source": [
    "avia_with_report_df['Analysis'] = avia_with_report_df['Analysis'].fillna('UNK')\n"
   ]
  },
  {
   "cell_type": "code",
   "execution_count": null,
   "id": "e543a7cc",
   "metadata": {
    "papermill": {
     "duration": null,
     "end_time": null,
     "exception": null,
     "start_time": null,
     "status": "pending"
    },
    "tags": []
   },
   "outputs": [],
   "source": [
    "avia_with_report_df.isnull().sum()"
   ]
  },
  {
   "cell_type": "code",
   "execution_count": null,
   "id": "b589942b",
   "metadata": {
    "papermill": {
     "duration": null,
     "end_time": null,
     "exception": null,
     "start_time": null,
     "status": "pending"
    },
    "tags": []
   },
   "outputs": [],
   "source": [
    "avia_with_report_df.drop(columns=['Factual Information' , 'Report Status'], inplace=True)"
   ]
  },
  {
   "cell_type": "code",
   "execution_count": null,
   "id": "172f812d",
   "metadata": {
    "papermill": {
     "duration": null,
     "end_time": null,
     "exception": null,
     "start_time": null,
     "status": "pending"
    },
    "tags": []
   },
   "outputs": [],
   "source": [
    "avia_with_report_df.info()"
   ]
  },
  {
   "cell_type": "markdown",
   "id": "b94c6afd",
   "metadata": {
    "papermill": {
     "duration": null,
     "end_time": null,
     "exception": null,
     "start_time": null,
     "status": "pending"
    },
    "tags": []
   },
   "source": [
    "## 🛫Result Analysis 🛬\n",
    "<div class=\"alert alert-block alert-success\">\n",
    "<b> ✅</b> Missing value of report and analysis is null up to real values .\n",
    "</div>"
   ]
  },
  {
   "cell_type": "markdown",
   "id": "40c83fbd",
   "metadata": {
    "papermill": {
     "duration": null,
     "end_time": null,
     "exception": null,
     "start_time": null,
     "status": "pending"
    },
    "tags": []
   },
   "source": [
    "<div class=\"alert alert-block alert-success\" style=\"background-color: #26BBC8; color: white; padding: 10px; border-radius: 5px; border: 1px solid black;\">\n",
    "  <b style=\"font-size: 35px;\"> 🔴now we will start to explore location , country , latitude , longtiude</b>\n",
    "    <ul style=\"font-size: 35px;\"> 🟡 and now if we will look ww will find the missing values and according to geopy we will fill the country , longtiude and latitude depend on location  </ul>\n",
    "</div>\n",
    "\n",
    "# 🛫columns [ location , country , latitude , longtiude ] explore and filling missing values🛬"
   ]
  },
  {
   "cell_type": "code",
   "execution_count": null,
   "id": "4a2ef3d3",
   "metadata": {
    "papermill": {
     "duration": null,
     "end_time": null,
     "exception": null,
     "start_time": null,
     "status": "pending"
    },
    "tags": []
   },
   "outputs": [],
   "source": [
    "#columns city \n",
    "avia_with_report_df['City']=avia_with_report_df['Location'].str.split(',').str[0].str.strip()\n",
    "avia_with_report_df['City']"
   ]
  },
  {
   "cell_type": "code",
   "execution_count": null,
   "id": "d013b9c5",
   "metadata": {
    "papermill": {
     "duration": null,
     "end_time": null,
     "exception": null,
     "start_time": null,
     "status": "pending"
    },
    "tags": []
   },
   "outputs": [],
   "source": [
    "#extract unique value of cities\n",
    "city_df = avia_with_report_df['City'].unique()\n",
    "city_df = pd.DataFrame(city_df , columns=['City'])\n",
    "city_df['City'] = city_df['City'].str.lower().str.strip()\n",
    "city_df"
   ]
  },
  {
   "cell_type": "markdown",
   "id": "70a4ad88",
   "metadata": {
    "papermill": {
     "duration": null,
     "end_time": null,
     "exception": null,
     "start_time": null,
     "status": "pending"
    },
    "tags": []
   },
   "source": [
    "## 🛫Code to filling the longtiude and latitude of unique cities🛬"
   ]
  },
  {
   "cell_type": "code",
   "execution_count": null,
   "id": "05cdf637",
   "metadata": {
    "papermill": {
     "duration": null,
     "end_time": null,
     "exception": null,
     "start_time": null,
     "status": "pending"
    },
    "tags": []
   },
   "outputs": [],
   "source": [
    "# from geopandas.tools import geocode\n",
    "\n",
    "# for index, row in city_df.iterrows():\n",
    "#     try:\n",
    "#         information = geocode(row['City'], provider='nominatim', user_agent='Myapp')\n",
    "#         if not information.empty:\n",
    "#             city_df.loc[index, 'Longitude'] = information.geometry.x[0]\n",
    "#             city_df.loc[index, 'Latitude'] = information.geometry.y[0]\n",
    "#             city_df.loc[index, 'Address'] = information.address[0]\n",
    "#         else:\n",
    "#             city_df.loc[index, 'Longitude'] = None\n",
    "#             city_df.loc[index, 'Latitude'] = None\n",
    "#             city_df.loc[index, 'Address'] = None\n",
    "#     except Exception as e:\n",
    "#         print(f\"Error geocoding {row['City']}: {e}\")\n",
    "\n",
    "# city_df"
   ]
  },
  {
   "cell_type": "markdown",
   "id": "13037050",
   "metadata": {
    "papermill": {
     "duration": null,
     "end_time": null,
     "exception": null,
     "start_time": null,
     "status": "pending"
    },
    "tags": []
   },
   "source": [
    "## 🛫Code to filling missing values of the longtiude and latitude of cities after scrapping🛬\n",
    "\n",
    "> try one of them "
   ]
  },
  {
   "cell_type": "code",
   "execution_count": null,
   "id": "f8b9e9b9",
   "metadata": {
    "papermill": {
     "duration": null,
     "end_time": null,
     "exception": null,
     "start_time": null,
     "status": "pending"
    },
    "tags": []
   },
   "outputs": [],
   "source": [
    "# # Assuming you have a DataFrame named 'df' with columns 'City', 'Longitude', 'Latitude', and 'Address'\n",
    "# # Replace 0 values with NaN\n",
    "# city_df['Longitude'].replace(0, np.nan, inplace=True)\n",
    "# city_df['Latitude'].replace(0, np.nan, inplace=True)\n",
    "\n",
    "# # Interpolate missing values using GeoPandas spatial operations\n",
    "# city_df['Longitude'] = city_df['Longitude'].interpolate(method='nearest')\n",
    "# city_df['Latitude'] = city_df['Latitude'].interpolate(method='nearest')\n",
    "\n",
    "# # Create a GeoDataFrame with Point geometries\n",
    "# gdf = gpd.GeoDataFrame(city_df)\n",
    "\n",
    "# # Create Point geometries\n",
    "# geometry = [Point(lon, lat) for lon, lat in zip(gdf['Longitude'], gdf['Latitude'])]\n",
    "# gdf['geometry'] = geometry\n",
    "\n",
    "# # Set the geometry column\n",
    "# gdf = gdf.set_geometry('geometry')\n",
    "\n",
    "# # Set the coordinate reference system (CRS)\n",
    "# # Example CRS: EPSG 4326 (WGS84)\n",
    "# gdf.crs = 'EPSG:4326'\n",
    "\n",
    "# # Print the GeoDataFrame\n",
    "# gdf\n"
   ]
  },
  {
   "cell_type": "code",
   "execution_count": null,
   "id": "a69aece0",
   "metadata": {
    "papermill": {
     "duration": null,
     "end_time": null,
     "exception": null,
     "start_time": null,
     "status": "pending"
    },
    "tags": []
   },
   "outputs": [],
   "source": [
    "# # Assuming you have a DataFrame named 'df' with columns 'City', 'Longitude', 'Latitude', and 'Address'\n",
    "# # Create a GeoDataFrame with Point geometries\n",
    "# geometry = [Point(lon, lat) if pd.notnull(lon) and pd.notnull(lat) else None for lon, lat in zip(city_df['Longitude'], city_df['Latitude'])]\n",
    "# gdf = gpd.GeoDataFrame(avia_cities, geometry=geometry)\n",
    "\n",
    "# # Remove rows with missing geometry\n",
    "# gdf = gdf.dropna(subset=['geometry'])\n",
    "\n",
    "# # Optionally, set the coordinate reference system (CRS)\n",
    "# # Example CRS: EPSG 4326 (WGS84)\n",
    "# gdf.crs = 'EPSG:4326'\n",
    "\n",
    "# # Print the GeoDataFrame\n",
    "# gdf"
   ]
  },
  {
   "cell_type": "code",
   "execution_count": null,
   "id": "8a90caae",
   "metadata": {
    "papermill": {
     "duration": null,
     "end_time": null,
     "exception": null,
     "start_time": null,
     "status": "pending"
    },
    "tags": []
   },
   "outputs": [],
   "source": [
    "# i want to know mode of key of country\n",
    "avia_with_report_df['Location'].str.split(',').str[1].mode()[0]"
   ]
  },
  {
   "cell_type": "code",
   "execution_count": null,
   "id": "d11dc6f1",
   "metadata": {
    "papermill": {
     "duration": null,
     "end_time": null,
     "exception": null,
     "start_time": null,
     "status": "pending"
    },
    "tags": []
   },
   "outputs": [],
   "source": [
    "# filling mising value of location by mode \n",
    "avia_with_report_df['Location']=avia_with_report_df['Location'].fillna(avia_with_report_df['Location'].mode()[0])"
   ]
  },
  {
   "cell_type": "code",
   "execution_count": null,
   "id": "f8755737",
   "metadata": {
    "papermill": {
     "duration": null,
     "end_time": null,
     "exception": null,
     "start_time": null,
     "status": "pending"
    },
    "tags": []
   },
   "outputs": [],
   "source": [
    "# filling mising value of country by mode of key country of location \n",
    "avia_with_report_df['Country'] =avia_with_report_df['Country'] .fillna(avia_with_report_df['Location'].str.split(',').str[1].mode()[0])"
   ]
  },
  {
   "cell_type": "code",
   "execution_count": null,
   "id": "70dd86b9",
   "metadata": {
    "papermill": {
     "duration": null,
     "end_time": null,
     "exception": null,
     "start_time": null,
     "status": "pending"
    },
    "tags": []
   },
   "outputs": [],
   "source": [
    "# change CA Canda because ca this key of canada \n",
    "avia_with_report_df['Country'] = avia_with_report_df['Country'].str.replace(' CA' , 'Canada')\n",
    "avia_with_report_df['Country'].value_counts()\n"
   ]
  },
  {
   "cell_type": "code",
   "execution_count": null,
   "id": "f733c18e",
   "metadata": {
    "papermill": {
     "duration": null,
     "end_time": null,
     "exception": null,
     "start_time": null,
     "status": "pending"
    },
    "tags": []
   },
   "outputs": [],
   "source": [
    "avia_with_report_df['Country'].value_counts()"
   ]
  },
  {
   "cell_type": "code",
   "execution_count": null,
   "id": "563bfd93",
   "metadata": {
    "papermill": {
     "duration": null,
     "end_time": null,
     "exception": null,
     "start_time": null,
     "status": "pending"
    },
    "tags": []
   },
   "outputs": [],
   "source": [
    "# filling missing value of city by mode \n",
    "avia_with_report_df['City']=avia_with_report_df['City'].fillna(avia_with_report_df['City'].mode()[0])"
   ]
  },
  {
   "cell_type": "code",
   "execution_count": null,
   "id": "cc20f714",
   "metadata": {
    "papermill": {
     "duration": null,
     "end_time": null,
     "exception": null,
     "start_time": null,
     "status": "pending"
    },
    "tags": []
   },
   "outputs": [],
   "source": [
    "# make columns in lower case for merege datafram\n",
    "avia_with_report_df['City']=avia_with_report_df['City'].str.lower().str.strip()"
   ]
  },
  {
   "cell_type": "markdown",
   "id": "13383c5b",
   "metadata": {
    "papermill": {
     "duration": null,
     "end_time": null,
     "exception": null,
     "start_time": null,
     "status": "pending"
    },
    "tags": []
   },
   "source": [
    "## 🛫 Importing Cities data frame with longtiude and latitude dataframe after scrapping🛬"
   ]
  },
  {
   "cell_type": "code",
   "execution_count": null,
   "id": "e1c90028",
   "metadata": {
    "papermill": {
     "duration": null,
     "end_time": null,
     "exception": null,
     "start_time": null,
     "status": "pending"
    },
    "tags": []
   },
   "outputs": [],
   "source": [
    "cities = pd.read_csv(rf\"{Main_path}\\geo pandas expect .csv\")"
   ]
  },
  {
   "cell_type": "code",
   "execution_count": null,
   "id": "eb3e4c85",
   "metadata": {
    "papermill": {
     "duration": null,
     "end_time": null,
     "exception": null,
     "start_time": null,
     "status": "pending"
    },
    "tags": []
   },
   "outputs": [],
   "source": [
    "cities.columns"
   ]
  },
  {
   "cell_type": "code",
   "execution_count": null,
   "id": "7e46fe01",
   "metadata": {
    "papermill": {
     "duration": null,
     "end_time": null,
     "exception": null,
     "start_time": null,
     "status": "pending"
    },
    "tags": []
   },
   "outputs": [],
   "source": [
    "cities.drop(columns=['Unnamed: 0'],inplace=True)\n",
    "cities.columns"
   ]
  },
  {
   "cell_type": "code",
   "execution_count": null,
   "id": "8db16176",
   "metadata": {
    "papermill": {
     "duration": null,
     "end_time": null,
     "exception": null,
     "start_time": null,
     "status": "pending"
    },
    "tags": []
   },
   "outputs": [],
   "source": [
    "cities.isnull().sum()"
   ]
  },
  {
   "cell_type": "code",
   "execution_count": null,
   "id": "065d5d34",
   "metadata": {
    "papermill": {
     "duration": null,
     "end_time": null,
     "exception": null,
     "start_time": null,
     "status": "pending"
    },
    "tags": []
   },
   "outputs": [],
   "source": [
    "avia_cities=avia_with_report_df.merge(cities ,how='left' , on=['City'])\n",
    "avia_cities"
   ]
  },
  {
   "cell_type": "code",
   "execution_count": null,
   "id": "af59b2ae",
   "metadata": {
    "papermill": {
     "duration": null,
     "end_time": null,
     "exception": null,
     "start_time": null,
     "status": "pending"
    },
    "tags": []
   },
   "outputs": [],
   "source": [
    "avia_cities.isnull().sum()"
   ]
  },
  {
   "cell_type": "code",
   "execution_count": null,
   "id": "2a27283f",
   "metadata": {
    "papermill": {
     "duration": null,
     "end_time": null,
     "exception": null,
     "start_time": null,
     "status": "pending"
    },
    "tags": []
   },
   "outputs": [],
   "source": [
    "avia_cities['Event Id'].duplicated().sum()"
   ]
  },
  {
   "cell_type": "code",
   "execution_count": null,
   "id": "61a502b5",
   "metadata": {
    "papermill": {
     "duration": null,
     "end_time": null,
     "exception": null,
     "start_time": null,
     "status": "pending"
    },
    "tags": []
   },
   "outputs": [],
   "source": [
    "# we found the dublicated of Event Id so we need to drop this \n",
    "avia_cities.drop_duplicates(subset=['Event Id'], inplace=True)"
   ]
  },
  {
   "cell_type": "code",
   "execution_count": null,
   "id": "c1b7830d",
   "metadata": {
    "papermill": {
     "duration": null,
     "end_time": null,
     "exception": null,
     "start_time": null,
     "status": "pending"
    },
    "tags": []
   },
   "outputs": [],
   "source": [
    "avia_cities.isnull().sum()"
   ]
  },
  {
   "cell_type": "markdown",
   "id": "f9adb11e",
   "metadata": {
    "papermill": {
     "duration": null,
     "end_time": null,
     "exception": null,
     "start_time": null,
     "status": "pending"
    },
    "tags": []
   },
   "source": [
    " ## 🛫 code to filling missing of longtiude and latitude of dataframe after merege🛬\n",
    "i did it before and after merege To reduce duplicate information and so that the percentage of real information is greater"
   ]
  },
  {
   "cell_type": "code",
   "execution_count": null,
   "id": "de0b9fd5",
   "metadata": {
    "papermill": {
     "duration": null,
     "end_time": null,
     "exception": null,
     "start_time": null,
     "status": "pending"
    },
    "tags": []
   },
   "outputs": [],
   "source": [
    "import numpy as np\n",
    "import geopandas as gpd\n",
    "from shapely.geometry import Point\n",
    "\n",
    "# Assuming you have a DataFrame named 'df' with columns 'City', 'Longitude', 'Latitude', and 'Address'\n",
    "# Replace 0 values with NaN\n",
    "avia_cities['Longitude_y'].replace(0, np.nan, inplace=True)\n",
    "avia_cities['Latitude_y'].replace(0, np.nan, inplace=True)\n",
    "\n",
    "# Interpolate missing values using GeoPandas spatial operations\n",
    "avia_cities['Longitude_y'] = avia_cities['Longitude_y'].interpolate(method='nearest')\n",
    "avia_cities['Latitude_y'] = avia_cities['Latitude_y'].interpolate(method='nearest')\n",
    "\n",
    "# Create a GeoDataFrame with Point geometries\n",
    "gdf = gpd.GeoDataFrame(avia_cities)\n",
    "\n",
    "# Create Point geometries\n",
    "geometry = [Point(lon, lat) for lon, lat in zip(gdf['Longitude_y'], gdf['Latitude_y'])]\n",
    "gdf['geometry'] = geometry\n",
    "\n",
    "# Set the geometry column\n",
    "gdf = gdf.set_geometry('geometry')\n",
    "\n",
    "# Set the coordinate reference system (CRS)\n",
    "# Example CRS: EPSG 4326 (WGS84)\n",
    "gdf.crs = 'EPSG:4326'\n",
    "\n",
    "# Print the GeoDataFrame\n",
    "print(gdf)\n"
   ]
  },
  {
   "cell_type": "code",
   "execution_count": null,
   "id": "660db71e",
   "metadata": {
    "papermill": {
     "duration": null,
     "end_time": null,
     "exception": null,
     "start_time": null,
     "status": "pending"
    },
    "tags": []
   },
   "outputs": [],
   "source": [
    "gdf.isnull().sum()"
   ]
  },
  {
   "cell_type": "code",
   "execution_count": null,
   "id": "9f64c020",
   "metadata": {
    "papermill": {
     "duration": null,
     "end_time": null,
     "exception": null,
     "start_time": null,
     "status": "pending"
    },
    "tags": []
   },
   "outputs": [],
   "source": [
    "gdf[gdf['Longitude_y']==0]"
   ]
  },
  {
   "cell_type": "code",
   "execution_count": null,
   "id": "1a40ae16",
   "metadata": {
    "papermill": {
     "duration": null,
     "end_time": null,
     "exception": null,
     "start_time": null,
     "status": "pending"
    },
    "tags": []
   },
   "outputs": [],
   "source": [
    "gdf.isnull().sum()"
   ]
  },
  {
   "cell_type": "code",
   "execution_count": null,
   "id": "5783df24",
   "metadata": {
    "papermill": {
     "duration": null,
     "end_time": null,
     "exception": null,
     "start_time": null,
     "status": "pending"
    },
    "tags": []
   },
   "outputs": [],
   "source": [
    "avia_cities = gdf"
   ]
  },
  {
   "cell_type": "code",
   "execution_count": null,
   "id": "91475de1",
   "metadata": {
    "papermill": {
     "duration": null,
     "end_time": null,
     "exception": null,
     "start_time": null,
     "status": "pending"
    },
    "tags": []
   },
   "outputs": [],
   "source": [
    "avia_cities.isnull().sum()"
   ]
  },
  {
   "cell_type": "code",
   "execution_count": null,
   "id": "496effb7",
   "metadata": {
    "papermill": {
     "duration": null,
     "end_time": null,
     "exception": null,
     "start_time": null,
     "status": "pending"
    },
    "tags": []
   },
   "outputs": [],
   "source": [
    "avia_cities.rename(columns={'Longitude_y':'Longitude' ,'Latitude_y':'Latitude'},inplace=True)"
   ]
  },
  {
   "cell_type": "code",
   "execution_count": null,
   "id": "4e4ce01b",
   "metadata": {
    "papermill": {
     "duration": null,
     "end_time": null,
     "exception": null,
     "start_time": null,
     "status": "pending"
    },
    "tags": []
   },
   "outputs": [],
   "source": [
    "avia_cities.drop(columns=['Location','Latitude_x','Longitude_x','Accident Number'],inplace=True)"
   ]
  },
  {
   "cell_type": "code",
   "execution_count": null,
   "id": "c404e1db",
   "metadata": {
    "papermill": {
     "duration": null,
     "end_time": null,
     "exception": null,
     "start_time": null,
     "status": "pending"
    },
    "tags": []
   },
   "outputs": [],
   "source": [
    "avia_cities.shape"
   ]
  },
  {
   "cell_type": "code",
   "execution_count": null,
   "id": "3cf7aaf6",
   "metadata": {
    "papermill": {
     "duration": null,
     "end_time": null,
     "exception": null,
     "start_time": null,
     "status": "pending"
    },
    "tags": []
   },
   "outputs": [],
   "source": [
    "avia_cities.isnull().sum()\n"
   ]
  },
  {
   "cell_type": "markdown",
   "id": "9a1f2358",
   "metadata": {
    "papermill": {
     "duration": null,
     "end_time": null,
     "exception": null,
     "start_time": null,
     "status": "pending"
    },
    "tags": []
   },
   "source": [
    "## 🛫Result of Longtiude and Latitude 🛬\n",
    "<div class=\"alert alert-block alert-success\">\n",
    "<b> ✅</b> Missing value of Longtiude and Latitude and City and Country up to real values .\n",
    "</div>\n"
   ]
  },
  {
   "cell_type": "markdown",
   "id": "c9011e75",
   "metadata": {
    "papermill": {
     "duration": null,
     "end_time": null,
     "exception": null,
     "start_time": null,
     "status": "pending"
    },
    "tags": []
   },
   "source": [
    "<div class=\"alert alert-block alert-success\" style=\"background-color: #2C0FBB; color: white; padding: 10px; border-radius: 5px; border: 1px solid black;\">\n",
    "  <b style=\"font-size: 35px;\"> 🔴now we will start to explore Airport code & Airport name </b>\n",
    "    <ul style=\"font-size: 35px;\"> 🟡 and now if we will look we will find the missing values and according to analysis column we can to place accident in this report and we can expect the place of accident  </ul>\n",
    "</div>\n",
    "\n",
    "# 🛫columns [ Airport Name , Airport Code , Analysis ] explore Filling Airport and expect place 🛬"
   ]
  },
  {
   "cell_type": "code",
   "execution_count": null,
   "id": "6faa651d",
   "metadata": {
    "papermill": {
     "duration": null,
     "end_time": null,
     "exception": null,
     "start_time": null,
     "status": "pending"
    },
    "tags": []
   },
   "outputs": [],
   "source": [
    "# According to airport name this same of airport code so we will filling two columns together to reduce thi sum of missing values and amke conact for colum\n",
    "avia_cities['Airport Name'] = avia_cities['Airport Name'].fillna(avia_cities['Airport Code'])\n",
    "avia_cities['Airport Code'] = avia_cities['Airport Code'].fillna(avia_cities['Airport Name'])\n",
    "avia_cities['Airport Name']=avia_cities['Airport Name']+','+avia_cities['Airport Code']\n",
    "avia_cities.drop(columns='Airport Code' , inplace=True)\n",
    "avia_cities.head()"
   ]
  },
  {
   "cell_type": "code",
   "execution_count": null,
   "id": "d6dffe9e",
   "metadata": {
    "papermill": {
     "duration": null,
     "end_time": null,
     "exception": null,
     "start_time": null,
     "status": "pending"
    },
    "tags": []
   },
   "outputs": [],
   "source": [
    "avia_cities.isna().sum()"
   ]
  },
  {
   "cell_type": "markdown",
   "id": "63977b5e",
   "metadata": {
    "papermill": {
     "duration": null,
     "end_time": null,
     "exception": null,
     "start_time": null,
     "status": "pending"
    },
    "tags": []
   },
   "source": [
    "## 🛫 Function expect place and airport🛬"
   ]
  },
  {
   "cell_type": "code",
   "execution_count": null,
   "id": "a1a74c77",
   "metadata": {
    "papermill": {
     "duration": null,
     "end_time": null,
     "exception": null,
     "start_time": null,
     "status": "pending"
    },
    "tags": []
   },
   "outputs": [],
   "source": [
    "# from Airport name \n",
    "def expect_airport(airport_name):\n",
    "    if pd.notna(airport_name):\n",
    "        return 'Airport'\n",
    "    else:\n",
    "        return np.nan\n",
    "\n",
    "avia_cities['Expect_Airport'] = avia_cities['Airport Name'].apply(expect_airport)\n",
    "avia_cities['Expect_Airport'].value_counts\n"
   ]
  },
  {
   "cell_type": "code",
   "execution_count": null,
   "id": "df6b32a5",
   "metadata": {
    "papermill": {
     "duration": null,
     "end_time": null,
     "exception": null,
     "start_time": null,
     "status": "pending"
    },
    "tags": []
   },
   "outputs": [],
   "source": [
    "# from analysis column\n",
    "def find_location_in_analysis(row):\n",
    "    keywords = {\n",
    "        \"airport\": [\"airport\", \"runway\", \"terminal\", \"airfield\", \"taxiway\", \"apron\", \"hangar\"],\n",
    "        \"sea\": [\"sea\", \"ocean\", \"gulf\", \"bay\", \"strait\", \"channel\", \"coast\", \"shore\", \"marine\"],\n",
    "        \"mountain\": [\"mountain\", \"peak\", \"summit\", \"ridge\", \"pass\", \"slope\", \"valley\"]\n",
    "    }\n",
    "    analysis_text = row['Analysis'].lower()\n",
    "    for key, words in keywords.items():\n",
    "        for word in words:\n",
    "            if word in analysis_text:\n",
    "                return key\n",
    "    return \"unknown\"\n"
   ]
  },
  {
   "cell_type": "code",
   "execution_count": null,
   "id": "b810132e",
   "metadata": {
    "papermill": {
     "duration": null,
     "end_time": null,
     "exception": null,
     "start_time": null,
     "status": "pending"
    },
    "tags": []
   },
   "outputs": [],
   "source": [
    "# Filter rows with missing 'Expect_Airport' values\n",
    "missing_values_df = avia_cities[avia_cities['Expect_Airport'].isna()]\n",
    "\n",
    "# Apply the function to fill missing values\n",
    "missing_values_df['Expect_Airport'] = missing_values_df.apply(find_location_in_analysis, axis=1)\n",
    "\n",
    "# Update the original DataFrame with the filled values\n",
    "avia_cities.update(missing_values_df)\n"
   ]
  },
  {
   "cell_type": "code",
   "execution_count": null,
   "id": "580eaaf1",
   "metadata": {
    "papermill": {
     "duration": null,
     "end_time": null,
     "exception": null,
     "start_time": null,
     "status": "pending"
    },
    "tags": []
   },
   "outputs": [],
   "source": [
    "avia_cities['Expect_Airport'].isna().sum()\n"
   ]
  },
  {
   "cell_type": "markdown",
   "id": "4bd14f6d",
   "metadata": {
    "papermill": {
     "duration": null,
     "end_time": null,
     "exception": null,
     "start_time": null,
     "status": "pending"
    },
    "tags": []
   },
   "source": [
    "### 🛫 Missing value = 0 🛬"
   ]
  },
  {
   "cell_type": "code",
   "execution_count": null,
   "id": "33c39b50",
   "metadata": {
    "papermill": {
     "duration": null,
     "end_time": null,
     "exception": null,
     "start_time": null,
     "status": "pending"
    },
    "tags": []
   },
   "outputs": [],
   "source": [
    "avia_cities['Expect_Airport'].value_counts()"
   ]
  },
  {
   "cell_type": "code",
   "execution_count": null,
   "id": "22e551a3",
   "metadata": {
    "papermill": {
     "duration": null,
     "end_time": null,
     "exception": null,
     "start_time": null,
     "status": "pending"
    },
    "tags": []
   },
   "outputs": [],
   "source": [
    "avia_cities.isna().sum()"
   ]
  },
  {
   "cell_type": "code",
   "execution_count": null,
   "id": "5448004d",
   "metadata": {
    "papermill": {
     "duration": null,
     "end_time": null,
     "exception": null,
     "start_time": null,
     "status": "pending"
    },
    "tags": []
   },
   "outputs": [],
   "source": [
    "avia_cities.rename(columns={'Expect_Airport': 'Place'}, inplace=True)"
   ]
  },
  {
   "cell_type": "code",
   "execution_count": null,
   "id": "942c90c4",
   "metadata": {
    "papermill": {
     "duration": null,
     "end_time": null,
     "exception": null,
     "start_time": null,
     "status": "pending"
    },
    "tags": []
   },
   "outputs": [],
   "source": [
    "avia_cities.drop(columns=['Airport Name'],inplace=True)"
   ]
  },
  {
   "cell_type": "code",
   "execution_count": null,
   "id": "79435bbb",
   "metadata": {
    "papermill": {
     "duration": null,
     "end_time": null,
     "exception": null,
     "start_time": null,
     "status": "pending"
    },
    "tags": []
   },
   "outputs": [],
   "source": [
    "avia_cities.head()"
   ]
  },
  {
   "cell_type": "markdown",
   "id": "93ac1c02",
   "metadata": {
    "papermill": {
     "duration": null,
     "end_time": null,
     "exception": null,
     "start_time": null,
     "status": "pending"
    },
    "tags": []
   },
   "source": [
    "## 🛫Result Expect Place of Accident 🛬\n",
    "<div class=\"alert alert-block alert-success\">\n",
    "<b> ✅</b> Exported from original infpormation and Analysis Accident  up to real values .\n",
    "</div>"
   ]
  },
  {
   "cell_type": "code",
   "execution_count": null,
   "id": "4a0987d4",
   "metadata": {
    "papermill": {
     "duration": null,
     "end_time": null,
     "exception": null,
     "start_time": null,
     "status": "pending"
    },
    "tags": []
   },
   "outputs": [],
   "source": [
    "avia_cities.isnull().sum()"
   ]
  },
  {
   "cell_type": "markdown",
   "id": "4ed70d79",
   "metadata": {
    "papermill": {
     "duration": null,
     "end_time": null,
     "exception": null,
     "start_time": null,
     "status": "pending"
    },
    "tags": []
   },
   "source": [
    "<div class=\"alert alert-block alert-success\" style=\"background-color: #CD1362; color: white; padding: 10px; border-radius: 5px; border: 1px solid black;\">\n",
    "  <b style=\"font-size: 35px;\"> 🔴now we will start to explore Aircraft Category , Make , Model , Number Of Engines , Engine Type</b>\n",
    "    <ul style=\"font-size: 35px;\"> 🟡 and now if we will look ww will find the missing values and according to database of FAA AIRCRAFT REGISTRATION MASTER FILE\n",
    "Contains the records of all U.S. Civil Aircraft maintained by the FAA, Civil Aviation Registry, Aircraft \n",
    "Registration Branch, AFS-750 (in downloading database Aircraft model this ACFTREF.txt) </ul>\n",
    "</div>\n",
    "\n",
    "> ### URL : __[FAA AIRCRAFT REGISTRATION MASTER FIL](https://www.faa.gov/licenses_certificates/aircraft_certification/aircraft_registry/releasable_aircraft_download)__\n",
    "\n",
    "# 🛫Columns [Aircraft Category , Make , Model , Number Of Engines , Engine Type] explore and filling missing values🛬\n",
    "## 🛫Importing Aircraft Dataframe 🛬"
   ]
  },
  {
   "cell_type": "code",
   "execution_count": null,
   "id": "f89c0b32",
   "metadata": {
    "papermill": {
     "duration": null,
     "end_time": null,
     "exception": null,
     "start_time": null,
     "status": "pending"
    },
    "tags": []
   },
   "outputs": [],
   "source": [
    "#Reading database of aircraft\n",
    "aircraft = pd.read_csv(rf\"{Main_path}\\aircraft model.csv\")\n",
    "aircraft.head()"
   ]
  },
  {
   "cell_type": "code",
   "execution_count": null,
   "id": "78b3649e",
   "metadata": {
    "papermill": {
     "duration": null,
     "end_time": null,
     "exception": null,
     "start_time": null,
     "status": "pending"
    },
    "tags": []
   },
   "outputs": [],
   "source": [
    "aircraft.columns = aircraft.columns.str.title().str.strip()\n",
    "aircraft.columns = aircraft.columns . str.replace('-',' ')"
   ]
  },
  {
   "cell_type": "code",
   "execution_count": null,
   "id": "541b9ef5",
   "metadata": {
    "papermill": {
     "duration": null,
     "end_time": null,
     "exception": null,
     "start_time": null,
     "status": "pending"
    },
    "tags": []
   },
   "outputs": [],
   "source": [
    "# mfr this make columns in original dataframe\n",
    "aircraft['Mfr']=aircraft['Mfr'].str.lower().str.strip()\n",
    "aircraft['Model']=aircraft['Model'].str.lower().str.strip()"
   ]
  },
  {
   "cell_type": "code",
   "execution_count": null,
   "id": "c8b4ab92",
   "metadata": {
    "papermill": {
     "duration": null,
     "end_time": null,
     "exception": null,
     "start_time": null,
     "status": "pending"
    },
    "tags": []
   },
   "outputs": [],
   "source": [
    "avia_cities['Make']=avia_cities['Make'].str.lower().str.strip()\n",
    "avia_cities['Model']=avia_cities['Model'].str.lower().str.strip()"
   ]
  },
  {
   "cell_type": "code",
   "execution_count": null,
   "id": "a2080bf6",
   "metadata": {
    "papermill": {
     "duration": null,
     "end_time": null,
     "exception": null,
     "start_time": null,
     "status": "pending"
    },
    "tags": []
   },
   "outputs": [],
   "source": [
    "aircraft=aircraft.rename(columns={'Mfr':'Make'})"
   ]
  },
  {
   "cell_type": "code",
   "execution_count": null,
   "id": "fb4eb74e",
   "metadata": {
    "papermill": {
     "duration": null,
     "end_time": null,
     "exception": null,
     "start_time": null,
     "status": "pending"
    },
    "tags": []
   },
   "outputs": [],
   "source": [
    "aircraft.columns"
   ]
  },
  {
   "cell_type": "code",
   "execution_count": null,
   "id": "29cdf132",
   "metadata": {
    "papermill": {
     "duration": null,
     "end_time": null,
     "exception": null,
     "start_time": null,
     "status": "pending"
    },
    "tags": []
   },
   "outputs": [],
   "source": [
    "aircraft.drop(columns=(['Code','Ac Cat','Build Cert Ind', 'Ac Weight','Tc Data Sheet', 'Tc Data Holder','Speed']),inplace=True)"
   ]
  },
  {
   "cell_type": "code",
   "execution_count": null,
   "id": "93f0d212",
   "metadata": {
    "papermill": {
     "duration": null,
     "end_time": null,
     "exception": null,
     "start_time": null,
     "status": "pending"
    },
    "tags": []
   },
   "outputs": [],
   "source": [
    "aircraft.head()"
   ]
  },
  {
   "cell_type": "markdown",
   "id": "c9a15e51",
   "metadata": {
    "papermill": {
     "duration": null,
     "end_time": null,
     "exception": null,
     "start_time": null,
     "status": "pending"
    },
    "tags": []
   },
   "source": [
    "## 🛫According to guide PDF ardata.pdf in downloading database we will find 🛬\n",
    "> Type Aircraft\n",
    "1 - Glider\n",
    "2 - Balloon\n",
    "3 - Blimp/Dirigible\n",
    "4 - Fixed wing single engine\n",
    "5 - Fixed wing multi engine\n",
    "6 - Rotorcraft\n",
    "7 - Weight-shift-control\n",
    "8 - Powered Parachute\n",
    "9 - Gyroplane\n",
    "H - Hybrid Lift\n",
    "O - Other\n",
    " \n",
    "> Type Engine  \n",
    "0 - None\n",
    "1 - Reciprocating\n",
    "2 - Turbo-prop\n",
    "3 - Turbo-shaft\n",
    "4 - Turbo-jet\n",
    "5 - Turbo-fan\n",
    "6 - Ramjet\n",
    "7 - 2 Cycle\n",
    "8 - 4 Cycle\n",
    "9 – Unknown\n",
    "10 – Electric\n",
    "11 - Rotary\n"
   ]
  },
  {
   "cell_type": "code",
   "execution_count": null,
   "id": "eef67c62",
   "metadata": {
    "papermill": {
     "duration": null,
     "end_time": null,
     "exception": null,
     "start_time": null,
     "status": "pending"
    },
    "tags": []
   },
   "outputs": [],
   "source": [
    "# i will change all to numric data to be easy for imputing\n",
    "aircraft['Type Acft']=aircraft['Type Acft'].str.replace('H',\"10\").str.replace('O',\"11\")"
   ]
  },
  {
   "cell_type": "code",
   "execution_count": null,
   "id": "d8ff2c60",
   "metadata": {
    "papermill": {
     "duration": null,
     "end_time": null,
     "exception": null,
     "start_time": null,
     "status": "pending"
    },
    "tags": []
   },
   "outputs": [],
   "source": [
    "aircraft['Type Acft']=aircraft['Type Acft'].astype(int)\n",
    "aircraft['Type Eng']=aircraft['Type Eng'].astype(int)\n",
    "aircraft['No Eng']=aircraft['No Eng'].astype(int)\n",
    "aircraft['No Seats']=aircraft['No Seats'].astype(int)"
   ]
  },
  {
   "cell_type": "markdown",
   "id": "bcb3f63a",
   "metadata": {
    "papermill": {
     "duration": null,
     "end_time": null,
     "exception": null,
     "start_time": null,
     "status": "pending"
    },
    "tags": []
   },
   "source": [
    "### 🛫 function to convert Aircraft🛬"
   ]
  },
  {
   "cell_type": "code",
   "execution_count": null,
   "id": "6936bac1",
   "metadata": {
    "papermill": {
     "duration": null,
     "end_time": null,
     "exception": null,
     "start_time": null,
     "status": "pending"
    },
    "tags": []
   },
   "outputs": [],
   "source": [
    "def typeaircraft(aircraft):\n",
    "    if aircraft == 1 :\n",
    "        return 'Glider'\n",
    "    elif aircraft == 2:\n",
    "        return 'Balloon'\n",
    "    elif aircraft == 3 :\n",
    "        return 'Blimp/Dirigible'\n",
    "    elif aircraft == 4 :\n",
    "        return 'Fixed wing single engine'\n",
    "    elif aircraft == 5 :\n",
    "        return 'Fixed wing multi engine'\n",
    "    elif aircraft == 6 :\n",
    "        return 'Rotorcraft'\n",
    "    elif aircraft == 7 :\n",
    "        return 'Weight-shift-control'\n",
    "    elif aircraft == 8 :\n",
    "        return 'Powered Parachute'\n",
    "    elif aircraft == 9 :\n",
    "        return 'Gyroplane'\n",
    "    elif aircraft == 10 :\n",
    "        return 'Hybrid Lift'\n",
    "    else :\n",
    "        return np.nan"
   ]
  },
  {
   "cell_type": "code",
   "execution_count": null,
   "id": "f95aada6",
   "metadata": {
    "papermill": {
     "duration": null,
     "end_time": null,
     "exception": null,
     "start_time": null,
     "status": "pending"
    },
    "tags": []
   },
   "outputs": [],
   "source": [
    "aircraft['Aircraft Category']=aircraft['Type Acft'].apply(typeaircraft)\n",
    "aircraft"
   ]
  },
  {
   "cell_type": "markdown",
   "id": "47aa80de",
   "metadata": {
    "papermill": {
     "duration": null,
     "end_time": null,
     "exception": null,
     "start_time": null,
     "status": "pending"
    },
    "tags": []
   },
   "source": [
    "### 🛫Function to convert engine type🛬"
   ]
  },
  {
   "cell_type": "code",
   "execution_count": null,
   "id": "15a9b222",
   "metadata": {
    "papermill": {
     "duration": null,
     "end_time": null,
     "exception": null,
     "start_time": null,
     "status": "pending"
    },
    "tags": []
   },
   "outputs": [],
   "source": [
    "def typeengine(engine):\n",
    "    if engine == 0 :\n",
    "        return 'Without Engine'\n",
    "    elif engine == 1 :\n",
    "        return 'Reciprocating'\n",
    "    elif engine == 2:\n",
    "        return 'Turbo-prop'\n",
    "    elif engine == 3:\n",
    "        return 'Turbo-shaft'\n",
    "    elif engine == 4:\n",
    "        return 'Turbo-jet'\n",
    "    elif engine == 5 :\n",
    "        return 'Turbo-fan'\n",
    "    elif engine == 6 :\n",
    "        return 'Ramjet'\n",
    "    elif engine == 7 :\n",
    "        return '2 Cycle'\n",
    "    elif engine == 8 :\n",
    "        return '4 Cycle'\n",
    "    elif engine == 9 :    \n",
    "        return np.nan\n",
    "    elif engine == 10 :\n",
    "        return 'Electric'\n",
    "    elif engine == 11 :\n",
    "        return 'Rotary'\n",
    "    else : \n",
    "        np.nan"
   ]
  },
  {
   "cell_type": "code",
   "execution_count": null,
   "id": "87511b95",
   "metadata": {
    "papermill": {
     "duration": null,
     "end_time": null,
     "exception": null,
     "start_time": null,
     "status": "pending"
    },
    "tags": []
   },
   "outputs": [],
   "source": [
    "aircraft['Engine Type']=aircraft['Type Eng'].apply(typeengine)\n",
    "aircraft"
   ]
  },
  {
   "cell_type": "code",
   "execution_count": null,
   "id": "294fbba7",
   "metadata": {
    "papermill": {
     "duration": null,
     "end_time": null,
     "exception": null,
     "start_time": null,
     "status": "pending"
    },
    "tags": []
   },
   "outputs": [],
   "source": [
    "#Cleaning none \n",
    "aircraft.dropna(inplace=True)"
   ]
  },
  {
   "cell_type": "code",
   "execution_count": null,
   "id": "35afb0b8",
   "metadata": {
    "papermill": {
     "duration": null,
     "end_time": null,
     "exception": null,
     "start_time": null,
     "status": "pending"
    },
    "tags": []
   },
   "outputs": [],
   "source": [
    "aircraft.isnull().sum()"
   ]
  },
  {
   "cell_type": "code",
   "execution_count": null,
   "id": "1e1e6057",
   "metadata": {
    "papermill": {
     "duration": null,
     "end_time": null,
     "exception": null,
     "start_time": null,
     "status": "pending"
    },
    "tags": []
   },
   "outputs": [],
   "source": [
    "import plotly.express as px\n",
    "fig = px.bar(aircraft.groupby('No Seats')['Aircraft Category'].value_counts().reset_index(), x='Aircraft Category', y=['No Seats'], color='Aircraft Category')\n",
    "fig.show()"
   ]
  },
  {
   "cell_type": "code",
   "execution_count": null,
   "id": "d867bdd3",
   "metadata": {
    "papermill": {
     "duration": null,
     "end_time": null,
     "exception": null,
     "start_time": null,
     "status": "pending"
    },
    "tags": []
   },
   "outputs": [],
   "source": [
    "avia_air = avia_cities.merge(aircraft, how = 'left' , on=['Make','Model'])\n",
    "avia_air.shape"
   ]
  },
  {
   "cell_type": "code",
   "execution_count": null,
   "id": "5ec9f4f4",
   "metadata": {
    "papermill": {
     "duration": null,
     "end_time": null,
     "exception": null,
     "start_time": null,
     "status": "pending"
    },
    "tags": []
   },
   "outputs": [],
   "source": [
    "# Check dublicated \n",
    "avia_air[avia_air['Event Id'].duplicated()].count()"
   ]
  },
  {
   "cell_type": "code",
   "execution_count": null,
   "id": "ee1689c7",
   "metadata": {
    "papermill": {
     "duration": null,
     "end_time": null,
     "exception": null,
     "start_time": null,
     "status": "pending"
    },
    "tags": []
   },
   "outputs": [],
   "source": [
    "avia_air.isnull().sum()"
   ]
  },
  {
   "cell_type": "code",
   "execution_count": null,
   "id": "fc934679",
   "metadata": {
    "papermill": {
     "duration": null,
     "end_time": null,
     "exception": null,
     "start_time": null,
     "status": "pending"
    },
    "tags": []
   },
   "outputs": [],
   "source": [
    "# Check for and drop duplicates from the 'event id' column\n",
    "avia_air.drop_duplicates(subset=['Event Id'], inplace=True)\n"
   ]
  },
  {
   "cell_type": "code",
   "execution_count": null,
   "id": "b5a406e7",
   "metadata": {
    "papermill": {
     "duration": null,
     "end_time": null,
     "exception": null,
     "start_time": null,
     "status": "pending"
    },
    "tags": []
   },
   "outputs": [],
   "source": [
    "avia_air.shape"
   ]
  },
  {
   "cell_type": "code",
   "execution_count": null,
   "id": "4f8ddf7e",
   "metadata": {
    "papermill": {
     "duration": null,
     "end_time": null,
     "exception": null,
     "start_time": null,
     "status": "pending"
    },
    "tags": []
   },
   "outputs": [],
   "source": [
    "avia_air[avia_air['Event Id'].duplicated()].count()"
   ]
  },
  {
   "cell_type": "code",
   "execution_count": null,
   "id": "386e0f62",
   "metadata": {
    "papermill": {
     "duration": null,
     "end_time": null,
     "exception": null,
     "start_time": null,
     "status": "pending"
    },
    "tags": []
   },
   "outputs": [],
   "source": [
    "avia_air.isnull().sum()"
   ]
  },
  {
   "cell_type": "code",
   "execution_count": null,
   "id": "8c9f5e01",
   "metadata": {
    "papermill": {
     "duration": null,
     "end_time": null,
     "exception": null,
     "start_time": null,
     "status": "pending"
    },
    "tags": []
   },
   "outputs": [],
   "source": [
    "avia_air['Aircraft Category_x'].unique()"
   ]
  },
  {
   "cell_type": "code",
   "execution_count": null,
   "id": "ff6dd2bd",
   "metadata": {
    "papermill": {
     "duration": null,
     "end_time": null,
     "exception": null,
     "start_time": null,
     "status": "pending"
    },
    "tags": []
   },
   "outputs": [],
   "source": [
    "avia_air['Aircraft Category_y'].unique()"
   ]
  },
  {
   "cell_type": "code",
   "execution_count": null,
   "id": "af246ef2",
   "metadata": {
    "papermill": {
     "duration": null,
     "end_time": null,
     "exception": null,
     "start_time": null,
     "status": "pending"
    },
    "tags": []
   },
   "outputs": [],
   "source": [
    "avia_air['Aircraft Category_x'] = avia_air['Aircraft Category_x'].fillna(avia_air['Aircraft Category_y'])\n",
    "avia_air['Aircraft Category_y'] = avia_air['Aircraft Category_y'].fillna(avia_air['Aircraft Category_x'])\n",
    "avia_air['Aircraft Category_x']=avia_air['Aircraft Category_x'].str.lower().str.strip()\n",
    "avia_air['Aircraft Category_x'].unique()"
   ]
  },
  {
   "cell_type": "code",
   "execution_count": null,
   "id": "5d85c76a",
   "metadata": {
    "papermill": {
     "duration": null,
     "end_time": null,
     "exception": null,
     "start_time": null,
     "status": "pending"
    },
    "tags": []
   },
   "outputs": [],
   "source": [
    "avia_air['Aircraft Category_x'].value_counts()"
   ]
  },
  {
   "cell_type": "markdown",
   "id": "666d716a",
   "metadata": {
    "papermill": {
     "duration": null,
     "end_time": null,
     "exception": null,
     "start_time": null,
     "status": "pending"
    },
    "tags": []
   },
   "source": [
    "### 🛫Function to convert aircraft category to numbers to imputing🛬"
   ]
  },
  {
   "cell_type": "code",
   "execution_count": null,
   "id": "8ed60bf4",
   "metadata": {
    "papermill": {
     "duration": null,
     "end_time": null,
     "exception": null,
     "start_time": null,
     "status": "pending"
    },
    "tags": []
   },
   "outputs": [],
   "source": [
    "# from sklearn.preprocessing import LabelEncoder\n",
    "# label_encoder = LabelEncoder()\n",
    "# for column in avia_air['Aircraft Category_x']:\n",
    "#     avia_air['Aircraft Category_num'] = label_encoder.fit_transform(avia_air['Aircraft Category_x'])\n",
    "def aircraft_cat(aircraft):\n",
    "\n",
    "    if aircraft == 'glider' :\n",
    "        return 1\n",
    "    elif aircraft == 'balloon' :\n",
    "        return 2\n",
    "    elif aircraft == 'blimp/dirigible' :\n",
    "        return 3\n",
    "    elif aircraft == 'fixed wing single engine' :\n",
    "        return 4\n",
    "    elif aircraft == 'fixed wing multi engine' :\n",
    "        return 5\n",
    "    elif aircraft == 'rotorcraft' :\n",
    "        return 6\n",
    "    elif aircraft == 'weight-shift-control' :\n",
    "        return 7\n",
    "    elif aircraft =='powered parachute' :\n",
    "        return 8\n",
    "    elif aircraft == 'gyroplane':\n",
    "        return 9\n",
    "    elif aircraft == 'hybrid lift' :\n",
    "        return 10\n",
    "    elif aircraft == 'helicopter' :\n",
    "        return 11\n",
    "    elif aircraft == 'airplane' :\n",
    "        return 12\n",
    "    elif aircraft == 'gyrocraft' :\n",
    "        return 13\n",
    "    elif aircraft == 'ultralight' :\n",
    "        return 14\n",
    "    elif aircraft == 'blimp' :\n",
    "        return 15\n",
    "    elif aircraft == 'powered-lift' :\n",
    "        return 16\n",
    "    elif aircraft == 'weight-shift' :\n",
    "        return 17\n",
    "    elif aircraft == 'rocket' :\n",
    "        return 18\n",
    "    elif aircraft == 'ultr' :\n",
    "        return 19\n",
    "    elif aircraft == 'unk' :\n",
    "        return 20\n",
    "    elif aircraft == 'wsft' :\n",
    "        return 21\n",
    "    else:\n",
    "        return np.nan\n",
    "\n",
    "avia_air['Type Aircraft'] = avia_air['Aircraft Category_x'].apply(aircraft_cat)\n",
    "avia_air['Type Aircraft']\n",
    "\n",
    "    "
   ]
  },
  {
   "cell_type": "code",
   "execution_count": null,
   "id": "dffe4778",
   "metadata": {
    "papermill": {
     "duration": null,
     "end_time": null,
     "exception": null,
     "start_time": null,
     "status": "pending"
    },
    "tags": []
   },
   "outputs": [],
   "source": [
    "avia_air.isnull().sum()"
   ]
  },
  {
   "cell_type": "code",
   "execution_count": null,
   "id": "a2e60837",
   "metadata": {
    "papermill": {
     "duration": null,
     "end_time": null,
     "exception": null,
     "start_time": null,
     "status": "pending"
    },
    "tags": []
   },
   "outputs": [],
   "source": [
    "avia_air['Engine Type_x'] = avia_air['Engine Type_x'].fillna(avia_air['Engine Type_y'])\n",
    "avia_air['Engine Type_y'] = avia_air['Engine Type_y'].fillna(avia_air['Engine Type_x'])\n",
    "avia_air['No Eng']=avia_air['No Eng'].fillna(avia_air['Number Of Engines'])\n",
    "avia_air['Number Of Engines'] = avia_air['Number Of Engines'].fillna(avia_air['No Eng'])"
   ]
  },
  {
   "cell_type": "code",
   "execution_count": null,
   "id": "a4dfed1d",
   "metadata": {
    "papermill": {
     "duration": null,
     "end_time": null,
     "exception": null,
     "start_time": null,
     "status": "pending"
    },
    "tags": []
   },
   "outputs": [],
   "source": [
    "avia_air['Engine Type_x']=avia_air['Engine Type_x'].str.lower().str.replace('-' , ' ').str.strip()\n",
    "avia_air['Engine Type_x'].unique()"
   ]
  },
  {
   "cell_type": "code",
   "execution_count": null,
   "id": "fe9be484",
   "metadata": {
    "papermill": {
     "duration": null,
     "end_time": null,
     "exception": null,
     "start_time": null,
     "status": "pending"
    },
    "tags": []
   },
   "outputs": [],
   "source": [
    "avia_air.isnull().sum()"
   ]
  },
  {
   "cell_type": "markdown",
   "id": "3110072f",
   "metadata": {
    "papermill": {
     "duration": null,
     "end_time": null,
     "exception": null,
     "start_time": null,
     "status": "pending"
    },
    "tags": []
   },
   "source": [
    "### 🛫Function to convert Engine category to numbers to imputing🛬"
   ]
  },
  {
   "cell_type": "code",
   "execution_count": null,
   "id": "12a95a11",
   "metadata": {
    "papermill": {
     "duration": null,
     "end_time": null,
     "exception": null,
     "start_time": null,
     "status": "pending"
    },
    "tags": []
   },
   "outputs": [],
   "source": [
    "# from sklearn.preprocessing import LabelEncoder\n",
    "# label_encoder = LabelEncoder()\n",
    "# for column in avia_air['Engine Type_x']:\n",
    "#    avia_air['Engine Type_num'] = label_encoder.fit_transform(avia_air['Engine Type_x'])\n",
    "\n",
    "# avia_air['Engine Type_num'].value_counts()\n",
    "def enging_cat(engine):\n",
    "    if engine == 'without engine' :\n",
    "        return 0\n",
    "    elif engine == 'reciprocating' :\n",
    "        return 1\n",
    "    elif engine == 'turbo prop':\n",
    "        return 2\n",
    "    elif engine == 'turbo shaft':\n",
    "        return 3\n",
    "    elif engine == 'turbo jet':\n",
    "        return 4\n",
    "    elif engine == 'turbo fan' :\n",
    "        return 5\n",
    "    elif engine == 'ramjet' :\n",
    "        return 6\n",
    "    elif engine == '2 cycle' :\n",
    "        return 7\n",
    "    elif engine == '4 cycle' :\n",
    "        return 8\n",
    "    elif engine == 'electric' :\n",
    "        return 10\n",
    "    elif engine == 'rotary' :\n",
    "        return 11\n",
    "    elif engine == 'geared turbofan' :\n",
    "        return 12\n",
    "    elif engine == 'hybrid rocket' :\n",
    "        return 13\n",
    "    elif engine == 'lr' :\n",
    "        return 14\n",
    "    else : \n",
    "        np.nan\n",
    "avia_air['Type Engine'] = avia_air['Engine Type_x'].apply(enging_cat)\n",
    "avia_air['Type Engine']"
   ]
  },
  {
   "cell_type": "code",
   "execution_count": null,
   "id": "1793f12f",
   "metadata": {
    "papermill": {
     "duration": null,
     "end_time": null,
     "exception": null,
     "start_time": null,
     "status": "pending"
    },
    "tags": []
   },
   "outputs": [],
   "source": [
    "avia_air.columns"
   ]
  },
  {
   "cell_type": "markdown",
   "id": "2bd7ce1d",
   "metadata": {
    "papermill": {
     "duration": null,
     "end_time": null,
     "exception": null,
     "start_time": null,
     "status": "pending"
    },
    "tags": []
   },
   "source": [
    "###  🛫Imputing all values🛬"
   ]
  },
  {
   "cell_type": "code",
   "execution_count": null,
   "id": "48713253",
   "metadata": {
    "papermill": {
     "duration": null,
     "end_time": null,
     "exception": null,
     "start_time": null,
     "status": "pending"
    },
    "tags": []
   },
   "outputs": [],
   "source": [
    "imputer = KNNImputer()\n",
    "avia_air.columns\n",
    "slice = avia_air[['Type Aircraft', 'Type Engine', 'Type Acft' ,'Type Eng','No Seats' ,'No Eng' ,'Number Of Engines']]\n",
    "slice.head()\n",
    "output = imputer.fit_transform(slice)\n",
    "output\n",
    "rounded_values = np.around(output)\n",
    "rounded_values = np.around(output)\n",
    "avia_air[['Type Aircraft', 'Type Engine', 'Type Acft' ,'Type Eng','No Seats' ,'No Eng' ,'Number Of Engines']] = rounded_values[:len(avia_air)]"
   ]
  },
  {
   "cell_type": "code",
   "execution_count": null,
   "id": "e245ebd8",
   "metadata": {
    "papermill": {
     "duration": null,
     "end_time": null,
     "exception": null,
     "start_time": null,
     "status": "pending"
    },
    "tags": []
   },
   "outputs": [],
   "source": [
    "avia_air[['Type Aircraft', 'Type Engine', 'Type Acft' ,'Type Eng','No Seats' ,'No Eng' ,'Number Of Engines']] =avia_air[['Type Aircraft', 'Type Engine', 'Type Acft' ,'Type Eng','No Seats' ,'No Eng' ,'Number Of Engines']].astype(int)"
   ]
  },
  {
   "cell_type": "code",
   "execution_count": null,
   "id": "b3413607",
   "metadata": {
    "papermill": {
     "duration": null,
     "end_time": null,
     "exception": null,
     "start_time": null,
     "status": "pending"
    },
    "tags": []
   },
   "outputs": [],
   "source": [
    "avia_air[['Type Aircraft', 'Type Engine', 'Type Acft' ,'Type Eng','No Seats' ,'No Eng' ,'Number Of Engines']]"
   ]
  },
  {
   "cell_type": "markdown",
   "id": "185e6ee2",
   "metadata": {
    "papermill": {
     "duration": null,
     "end_time": null,
     "exception": null,
     "start_time": null,
     "status": "pending"
    },
    "tags": []
   },
   "source": [
    "##  🛫Function to Reverse Aircraft an Enging🛬"
   ]
  },
  {
   "cell_type": "code",
   "execution_count": null,
   "id": "a9d286f7",
   "metadata": {
    "papermill": {
     "duration": null,
     "end_time": null,
     "exception": null,
     "start_time": null,
     "status": "pending"
    },
    "tags": []
   },
   "outputs": [],
   "source": [
    "# Define a reverse mapping dictionary\n",
    "reverse_aircraft_mapping = {\n",
    "    1: 'glider',\n",
    "    2: 'balloon',\n",
    "    3: 'blimp/dirigible',\n",
    "    4: 'fixed wing single engine',\n",
    "    5: 'fixed wing multi engine',\n",
    "    6: 'rotorcraft',\n",
    "    7: 'weight-shift-control',\n",
    "    8: 'powered parachute',\n",
    "    9: 'gyroplane',\n",
    "    10: 'hybrid lift',\n",
    "    11: 'helicopter',\n",
    "    12: 'airplane',\n",
    "    13: 'gyrocraft',\n",
    "    14: 'ultralight',\n",
    "    15: 'blimp',\n",
    "    16: 'powered-lift',\n",
    "    17: 'weight-shift',\n",
    "    18: 'rocket',\n",
    "    19: 'ultr',\n",
    "    20: 'unk',\n",
    "    21: 'wsft'\n",
    "}\n",
    "\n",
    "# Reverse function\n",
    "def reverse_aircraft_cat(category_num):\n",
    "    return reverse_aircraft_mapping.get(category_num) \n",
    "avia_air['Aircraft Category_x']=avia_air['Type Aircraft'].apply(reverse_aircraft_cat)\n",
    "avia_air['Aircraft Category_x']"
   ]
  },
  {
   "cell_type": "code",
   "execution_count": null,
   "id": "7a2bad8a",
   "metadata": {
    "papermill": {
     "duration": null,
     "end_time": null,
     "exception": null,
     "start_time": null,
     "status": "pending"
    },
    "tags": []
   },
   "outputs": [],
   "source": [
    "avia_air['Aircraft Category_x'].isnull().sum()"
   ]
  },
  {
   "cell_type": "code",
   "execution_count": null,
   "id": "f05c2896",
   "metadata": {
    "papermill": {
     "duration": null,
     "end_time": null,
     "exception": null,
     "start_time": null,
     "status": "pending"
    },
    "tags": []
   },
   "outputs": [],
   "source": [
    "avia_air['Aircraft Category_x'].value_counts()"
   ]
  },
  {
   "cell_type": "code",
   "execution_count": null,
   "id": "fe9e35df",
   "metadata": {
    "papermill": {
     "duration": null,
     "end_time": null,
     "exception": null,
     "start_time": null,
     "status": "pending"
    },
    "tags": []
   },
   "outputs": [],
   "source": [
    "# Define a reverse mapping dictionary for engine categories\n",
    "reverse_engine_mapping = {\n",
    "    0: 'without engine',\n",
    "    1: 'reciprocating',\n",
    "    2: 'turbo prop',\n",
    "    3: 'turbo shaft',\n",
    "    4: 'turbo jet',\n",
    "    5: 'turbo fan',\n",
    "    6: 'ramjet',\n",
    "    7: '2 cycle',\n",
    "    8: '4 cycle',\n",
    "    10: 'electric',\n",
    "    11: 'rotary',\n",
    "    12: 'geared turbofan',\n",
    "    13: 'hybrid rocket',\n",
    "    14: 'lr'\n",
    "}\n",
    "\n",
    "# Reverse function for engine categories\n",
    "def reverse_engine_cat(category_num):\n",
    "    return reverse_engine_mapping.get(category_num)\n",
    "\n",
    "avia_air['Engine Type_x']=avia_air['Type Engine'].apply(reverse_engine_cat)\n",
    "avia_air['Engine Type_x']"
   ]
  },
  {
   "cell_type": "code",
   "execution_count": null,
   "id": "f5958ba9",
   "metadata": {
    "papermill": {
     "duration": null,
     "end_time": null,
     "exception": null,
     "start_time": null,
     "status": "pending"
    },
    "tags": []
   },
   "outputs": [],
   "source": [
    "avia_air['Engine Type_x'].value_counts()"
   ]
  },
  {
   "cell_type": "code",
   "execution_count": null,
   "id": "5eca5e71",
   "metadata": {
    "papermill": {
     "duration": null,
     "end_time": null,
     "exception": null,
     "start_time": null,
     "status": "pending"
    },
    "tags": []
   },
   "outputs": [],
   "source": [
    "avia_air['Engine Type_y'].isnull().sum()"
   ]
  },
  {
   "cell_type": "code",
   "execution_count": null,
   "id": "b37d9915",
   "metadata": {
    "papermill": {
     "duration": null,
     "end_time": null,
     "exception": null,
     "start_time": null,
     "status": "pending"
    },
    "tags": []
   },
   "outputs": [],
   "source": [
    "avia_air.columns"
   ]
  },
  {
   "cell_type": "code",
   "execution_count": null,
   "id": "1690044a",
   "metadata": {
    "papermill": {
     "duration": null,
     "end_time": null,
     "exception": null,
     "start_time": null,
     "status": "pending"
    },
    "tags": []
   },
   "outputs": [],
   "source": [
    "avia_air.rename(columns={'Aircraft Category_x': 'Aircraft Category' , 'Engine Type_x' : 'Engine Type', 'No Seats' : 'Number Of Seats' }, inplace=True)\n",
    "avia_air"
   ]
  },
  {
   "cell_type": "code",
   "execution_count": null,
   "id": "92e2f255",
   "metadata": {
    "papermill": {
     "duration": null,
     "end_time": null,
     "exception": null,
     "start_time": null,
     "status": "pending"
    },
    "tags": []
   },
   "outputs": [],
   "source": [
    "avia_air.drop(columns = ['Type Acft', 'Type Eng', 'No Eng','Aircraft Category_y', 'Engine Type_y'] , axis = 1 , inplace = True)\n",
    "avia_air.isnull().sum()"
   ]
  },
  {
   "cell_type": "markdown",
   "id": "9ce1dde3",
   "metadata": {
    "papermill": {
     "duration": null,
     "end_time": null,
     "exception": null,
     "start_time": null,
     "status": "pending"
    },
    "tags": []
   },
   "source": [
    "## 🛫Result Filling Missing Value of [Aircraft Category , Make , Model , Number Of Engines , Engine Type] And imputing 🛬\n",
    "<div class=\"alert alert-block alert-success\">\n",
    "<b> ✅</b> Exported from original infpormation and Filling Missing Value of [Aircraft Category , Make , Model , Number Of Engines , Engine Type] And imputing Accident  up to real values .\n",
    "</div>"
   ]
  },
  {
   "cell_type": "markdown",
   "id": "a24e6585",
   "metadata": {
    "papermill": {
     "duration": null,
     "end_time": null,
     "exception": null,
     "start_time": null,
     "status": "pending"
    },
    "tags": []
   },
   "source": [
    "<div class=\"alert alert-block alert-success\" style=\"background-color: #CD132A; color: white; padding: 10px; border-radius: 5px; border: 1px solid black;\">\n",
    "  <b style=\"font-size: 35px;\"> 🔴now we will start to explore Aircraft Damage </b>\n",
    "    <ul style=\"font-size: 35px;\"> 🟡 and now if we will look we will find the missing values and according to analysis column we can to expect damage type  </ul>\n",
    "</div>\n",
    "\n",
    "# 🛫columns [ Aircraft Damage , Analysis ] explore Filling Airport and expect place 🛬"
   ]
  },
  {
   "cell_type": "code",
   "execution_count": null,
   "id": "6ecfc46f",
   "metadata": {
    "papermill": {
     "duration": null,
     "end_time": null,
     "exception": null,
     "start_time": null,
     "status": "pending"
    },
    "tags": []
   },
   "outputs": [],
   "source": [
    "avia_damage = avia_air.copy()\n",
    "avia_damage"
   ]
  },
  {
   "cell_type": "code",
   "execution_count": null,
   "id": "5f43fffd",
   "metadata": {
    "papermill": {
     "duration": null,
     "end_time": null,
     "exception": null,
     "start_time": null,
     "status": "pending"
    },
    "tags": []
   },
   "outputs": [],
   "source": [
    "avia_damage.isnull().sum()"
   ]
  },
  {
   "cell_type": "markdown",
   "id": "c3a32b10",
   "metadata": {
    "papermill": {
     "duration": null,
     "end_time": null,
     "exception": null,
     "start_time": null,
     "status": "pending"
    },
    "tags": []
   },
   "source": [
    "## 🛫Function Ecpect Damage from Anlysis column🛬"
   ]
  },
  {
   "cell_type": "code",
   "execution_count": null,
   "id": "331be77d",
   "metadata": {
    "papermill": {
     "duration": null,
     "end_time": null,
     "exception": null,
     "start_time": null,
     "status": "pending"
    },
    "tags": []
   },
   "outputs": [],
   "source": [
    "def expectdamage(damage):\n",
    "    if 'substantial' in damage:\n",
    "        return 'substantial'\n",
    "    elif 'minor' in damage:\n",
    "        return 'minor'\n",
    "    elif 'Destroyed' in damage:\n",
    "        return 'Destroyed'\n",
    "    elif 'damage' in  damage:\n",
    "        return 'damage'\n",
    "    elif 'damages' in damage:\n",
    "        return 'damages'\n",
    "    elif 'damageable' in damage:\n",
    "        return 'damageable'\n",
    "    elif 'damaging' in damage:\n",
    "        return 'damaging'\n",
    "    elif 'harm' in damage:\n",
    "        return 'harm'\n",
    "    elif 'injury' in damage:\n",
    "        return 'injury'\n",
    "    elif 'impairment' in damage:    \n",
    "        return 'impairment'\n",
    "    elif 'destruction' in damage:\n",
    "        return 'destruction'\n",
    "    elif 'ruin' in damage:\n",
    "        return 'ruin'\n",
    "    elif 'detriment' in damage:\n",
    "        return 'detriment'\n",
    "    elif 'loss' in damage:\n",
    "        return 'loss'\n",
    "    elif 'wreckage' in damage:\n",
    "        return 'wreckage'\n",
    "    elif 'spoilage' in damage:\n",
    "        return 'spoilage'\n",
    "    elif 'decay' in damage:\n",
    "        return 'decay'\n",
    "    elif  'considerable' in damage:\n",
    "        return 'substantial'\n",
    "    elif 'significant' in damage:\n",
    "        return 'substantial'\n",
    "    elif 'material' in damage:\n",
    "        return 'substantial'\n",
    "    elif 'sizeable' in damage:\n",
    "        return 'substantial'\n",
    "    elif 'sizable' in damage:\n",
    "        return 'substantial'\n",
    "    elif 'ample' in damage:\n",
    "        return 'substantial'\n",
    "    elif 'meaningful' in damage:\n",
    "        return 'substantial'\n",
    "    elif 'substantive' in damage:\n",
    "        return 'substantial'\n",
    "    elif 'considerable' in damage:\n",
    "        return 'substantial'\n",
    "    elif 'important' in damage:\n",
    "        return 'substantial'"
   ]
  },
  {
   "cell_type": "code",
   "execution_count": null,
   "id": "3625a505",
   "metadata": {
    "papermill": {
     "duration": null,
     "end_time": null,
     "exception": null,
     "start_time": null,
     "status": "pending"
    },
    "tags": []
   },
   "outputs": [],
   "source": [
    "avia_damage['Expect Damadge']= avia_damage['Analysis'].apply(expectdamage)\n",
    "avia_damage.isnull().sum()"
   ]
  },
  {
   "cell_type": "markdown",
   "id": "2de64c22",
   "metadata": {
    "papermill": {
     "duration": null,
     "end_time": null,
     "exception": null,
     "start_time": null,
     "status": "pending"
    },
    "tags": []
   },
   "source": [
    "## 🛫filling mising values by two columns and mode 🛬"
   ]
  },
  {
   "cell_type": "code",
   "execution_count": null,
   "id": "6fc99242",
   "metadata": {
    "papermill": {
     "duration": null,
     "end_time": null,
     "exception": null,
     "start_time": null,
     "status": "pending"
    },
    "tags": []
   },
   "outputs": [],
   "source": [
    "avia_damage['Aircraft Damage']=avia_damage['Aircraft Damage'].fillna(avia_damage['Expect Damadge'])"
   ]
  },
  {
   "cell_type": "code",
   "execution_count": null,
   "id": "f4053c46",
   "metadata": {
    "papermill": {
     "duration": null,
     "end_time": null,
     "exception": null,
     "start_time": null,
     "status": "pending"
    },
    "tags": []
   },
   "outputs": [],
   "source": [
    "avia_damage['Aircraft Damage']=avia_damage['Aircraft Damage'].fillna(avia_damage['Aircraft Damage'].mode()[0])"
   ]
  },
  {
   "cell_type": "code",
   "execution_count": null,
   "id": "85d2a4c7",
   "metadata": {
    "papermill": {
     "duration": null,
     "end_time": null,
     "exception": null,
     "start_time": null,
     "status": "pending"
    },
    "tags": []
   },
   "outputs": [],
   "source": [
    "avia_damage.drop(columns=['Expect Damadge'],inplace=True)"
   ]
  },
  {
   "cell_type": "code",
   "execution_count": null,
   "id": "16fbf2c5",
   "metadata": {
    "papermill": {
     "duration": null,
     "end_time": null,
     "exception": null,
     "start_time": null,
     "status": "pending"
    },
    "tags": []
   },
   "outputs": [],
   "source": [
    "avia_damage.isnull().sum()"
   ]
  },
  {
   "cell_type": "code",
   "execution_count": null,
   "id": "c9800f87",
   "metadata": {
    "papermill": {
     "duration": null,
     "end_time": null,
     "exception": null,
     "start_time": null,
     "status": "pending"
    },
    "tags": []
   },
   "outputs": [],
   "source": [
    "avia_air = avia_damage\n",
    "avia_air.isnull().sum()"
   ]
  },
  {
   "cell_type": "markdown",
   "id": "fcd50d92",
   "metadata": {
    "papermill": {
     "duration": null,
     "end_time": null,
     "exception": null,
     "start_time": null,
     "status": "pending"
    },
    "tags": []
   },
   "source": [
    "## 🛫Result Filling Missing Value of Aircraft Damage 🛬\n",
    "<div class=\"alert alert-block alert-success\">\n",
    "<b> ✅</b> Exported from original infpormation and Filling Missing Value of Aircraft Damage\n",
    "</div>"
   ]
  },
  {
   "cell_type": "markdown",
   "id": "43c6b39c",
   "metadata": {
    "papermill": {
     "duration": null,
     "end_time": null,
     "exception": null,
     "start_time": null,
     "status": "pending"
    },
    "tags": []
   },
   "source": [
    "<div class=\"alert alert-block alert-success\" style=\"background-color: #1387CD; color: white; padding: 10px; border-radius: 5px; border: 1px solid black;\">\n",
    "  <b style=\"font-size: 35px;\"> 🔴now we will start to explore 'Broad Phase Of Flight' </b>\n",
    "    <ul style=\"font-size: 35px;\"> 🟡 and now if we will look we will find the missing values and according to analysis column we can to expect damage type  </ul>\n",
    "</div>\n",
    "\n",
    "# 🛫columns [Broad Phase Of Flight , Analysis ] explore Filling Airport and expect place 🛬"
   ]
  },
  {
   "cell_type": "markdown",
   "id": "adc3d5a7",
   "metadata": {
    "papermill": {
     "duration": null,
     "end_time": null,
     "exception": null,
     "start_time": null,
     "status": "pending"
    },
    "tags": []
   },
   "source": [
    "##  🛫Function of find status of flight🛬"
   ]
  },
  {
   "cell_type": "code",
   "execution_count": null,
   "id": "975e314f",
   "metadata": {
    "papermill": {
     "duration": null,
     "end_time": null,
     "exception": null,
     "start_time": null,
     "status": "pending"
    },
    "tags": []
   },
   "outputs": [],
   "source": [
    "def status_flight(status):\n",
    "    if 'landing' in status:\n",
    "        return 'Landing'\n",
    "    elif 'approach' in status:\n",
    "        return 'Approach'\n",
    "    elif 'maneuvering' in status:\n",
    "        return 'Maneuvering'\n",
    "    elif 'takeoff' in status:\n",
    "        return 'Takeoff'\n",
    "    elif 'cruise' in status:\n",
    "        return 'Cruise'\n",
    "    elif 'taxi' in status:\n",
    "        return 'Taxi'\n",
    "    elif 'standing' in status:\n",
    "        return 'Standing'\n",
    "    elif 'climb' in status:\n",
    "        return 'Climb'\n",
    "    elif 'descent' in status:\n",
    "        return 'Descent'\n",
    "    else :\n",
    "        return 'Unknown'\n",
    "avia_air.columns"
   ]
  },
  {
   "cell_type": "code",
   "execution_count": null,
   "id": "288b784f",
   "metadata": {
    "papermill": {
     "duration": null,
     "end_time": null,
     "exception": null,
     "start_time": null,
     "status": "pending"
    },
    "tags": []
   },
   "outputs": [],
   "source": [
    "avia_air['Broad Phase Of Flight'].value_counts()"
   ]
  },
  {
   "cell_type": "code",
   "execution_count": null,
   "id": "58406131",
   "metadata": {
    "papermill": {
     "duration": null,
     "end_time": null,
     "exception": null,
     "start_time": null,
     "status": "pending"
    },
    "tags": []
   },
   "outputs": [],
   "source": [
    "avia_air['Expect Phase']= avia_air['Analysis'].apply(status_flight)\n",
    "avia_air.isnull().sum()"
   ]
  },
  {
   "cell_type": "code",
   "execution_count": null,
   "id": "fa54beb1",
   "metadata": {
    "papermill": {
     "duration": null,
     "end_time": null,
     "exception": null,
     "start_time": null,
     "status": "pending"
    },
    "tags": []
   },
   "outputs": [],
   "source": [
    "avia_air['Expect Phase'].value_counts()"
   ]
  },
  {
   "cell_type": "code",
   "execution_count": null,
   "id": "c3db6872",
   "metadata": {
    "papermill": {
     "duration": null,
     "end_time": null,
     "exception": null,
     "start_time": null,
     "status": "pending"
    },
    "tags": []
   },
   "outputs": [],
   "source": [
    "avia_air['Broad Phase Of Flight']=avia_air['Broad Phase Of Flight'].fillna(avia_air['Expect Phase'])"
   ]
  },
  {
   "cell_type": "code",
   "execution_count": null,
   "id": "97459c5a",
   "metadata": {
    "papermill": {
     "duration": null,
     "end_time": null,
     "exception": null,
     "start_time": null,
     "status": "pending"
    },
    "tags": []
   },
   "outputs": [],
   "source": [
    "avia_air['Broad Phase Of Flight'].value_counts()"
   ]
  },
  {
   "cell_type": "code",
   "execution_count": null,
   "id": "a02b239f",
   "metadata": {
    "papermill": {
     "duration": null,
     "end_time": null,
     "exception": null,
     "start_time": null,
     "status": "pending"
    },
    "tags": []
   },
   "outputs": [],
   "source": [
    "avia_air.isnull().sum()"
   ]
  },
  {
   "cell_type": "code",
   "execution_count": null,
   "id": "9c5a47d8",
   "metadata": {
    "papermill": {
     "duration": null,
     "end_time": null,
     "exception": null,
     "start_time": null,
     "status": "pending"
    },
    "tags": []
   },
   "outputs": [],
   "source": [
    "avia_air['Broad Phase Of Flight']=avia_air['Broad Phase Of Flight'].fillna(avia_air['Broad Phase Of Flight'].mode()[0])"
   ]
  },
  {
   "cell_type": "code",
   "execution_count": null,
   "id": "21ddc1d6",
   "metadata": {
    "papermill": {
     "duration": null,
     "end_time": null,
     "exception": null,
     "start_time": null,
     "status": "pending"
    },
    "tags": []
   },
   "outputs": [],
   "source": [
    "avia_air.drop(columns=['Expect Phase'],inplace=True)"
   ]
  },
  {
   "cell_type": "code",
   "execution_count": null,
   "id": "6eb2b38f",
   "metadata": {
    "papermill": {
     "duration": null,
     "end_time": null,
     "exception": null,
     "start_time": null,
     "status": "pending"
    },
    "tags": []
   },
   "outputs": [],
   "source": [
    "avia_air.columns"
   ]
  },
  {
   "cell_type": "code",
   "execution_count": null,
   "id": "f1b3770c",
   "metadata": {
    "papermill": {
     "duration": null,
     "end_time": null,
     "exception": null,
     "start_time": null,
     "status": "pending"
    },
    "tags": []
   },
   "outputs": [],
   "source": [
    "avia_air.isnull().sum()"
   ]
  },
  {
   "cell_type": "markdown",
   "id": "3a561873",
   "metadata": {
    "papermill": {
     "duration": null,
     "end_time": null,
     "exception": null,
     "start_time": null,
     "status": "pending"
    },
    "tags": []
   },
   "source": [
    "## 🛫Result Filling Missing Value of [Broad Phase Of Flight] And imputing 🛬\n",
    "<div class=\"alert alert-block alert-success\">\n",
    "<b> ✅</b> Exported from original infpormation and Filling Missing Value of Broad Phase Of Flight by Analysis expect \n",
    "</div>"
   ]
  },
  {
   "cell_type": "code",
   "execution_count": null,
   "id": "dc7b9d9d",
   "metadata": {
    "papermill": {
     "duration": null,
     "end_time": null,
     "exception": null,
     "start_time": null,
     "status": "pending"
    },
    "tags": []
   },
   "outputs": [],
   "source": [
    "avia_injuers = avia_air.copy()"
   ]
  },
  {
   "cell_type": "markdown",
   "id": "f3f55a20",
   "metadata": {
    "papermill": {
     "duration": null,
     "end_time": null,
     "exception": null,
     "start_time": null,
     "status": "pending"
    },
    "tags": []
   },
   "source": [
    "<div class=\"alert alert-block alert-success\" style=\"background-color: #E96215; color: white; padding: 10px; border-radius: 5px; border: 1px solid black;\">\n",
    "  <b style=\"font-size: 35px;\"> 🔴now we will start to explore ['Injury Severity' ,'Total Fatal Injuries','Total Serious Injuries', 'Total Minor Injuries', 'Total Uninjured', ] </b>\n",
    "    <ul style=\"font-size: 35px;\"> 🟡 and now if we will look we will find the missing values and according to Aircraft dataframe we will fing number of seats we will make imputing for columns using this     </ul>\n",
    "</div>\n",
    "\n",
    "# 🛫columns ['Injury Severity' ,'Total Fatal Injuries','Total Serious Injuries', 'Total Minor Injuries', 'Total Uninjured'] number_of_seats 🛬"
   ]
  },
  {
   "cell_type": "code",
   "execution_count": null,
   "id": "1eb931d8",
   "metadata": {
    "papermill": {
     "duration": null,
     "end_time": null,
     "exception": null,
     "start_time": null,
     "status": "pending"
    },
    "tags": []
   },
   "outputs": [],
   "source": [
    "import plotly.express as px\n",
    "fig = px.bar(avia_injuers.groupby('Number Of Seats')['Aircraft Category'].value_counts().reset_index(), x='Aircraft Category', y=['Number Of Seats'], color='Aircraft Category')\n",
    "fig.show()"
   ]
  },
  {
   "cell_type": "code",
   "execution_count": null,
   "id": "11b5cd00",
   "metadata": {
    "papermill": {
     "duration": null,
     "end_time": null,
     "exception": null,
     "start_time": null,
     "status": "pending"
    },
    "tags": []
   },
   "outputs": [],
   "source": [
    "avia_injuers['Number Of Seats'].value_counts()"
   ]
  },
  {
   "cell_type": "markdown",
   "id": "18f51f70",
   "metadata": {
    "papermill": {
     "duration": null,
     "end_time": null,
     "exception": null,
     "start_time": null,
     "status": "pending"
    },
    "tags": []
   },
   "source": [
    "## 🛫Code imputing with condition total injures and uninjued not bigger than number of seats 🛬"
   ]
  },
  {
   "cell_type": "code",
   "execution_count": null,
   "id": "83899b87",
   "metadata": {
    "papermill": {
     "duration": null,
     "end_time": null,
     "exception": null,
     "start_time": null,
     "status": "pending"
    },
    "tags": []
   },
   "outputs": [],
   "source": [
    "from sklearn.impute import KNNImputer\n",
    "import numpy as np\n",
    "\n",
    "# Calculate the sum of injuries\n",
    "avia_injuers['Total Injuries'] = avia_injuers[['Total Fatal Injuries', 'Total Serious Injuries', 'Total Minor Injuries', 'Total Uninjured']].sum(axis=1)\n",
    "\n",
    "# Check if the sum exceeds the number of seats\n",
    "exceed_indices = avia_injuers['Total Injuries'] > avia_injuers['Number Of Seats']\n",
    "\n",
    "# Adjust the injuries so that they do not exceed the number of seats\n",
    "avia_injuers.loc[exceed_indices, ['Total Fatal Injuries', 'Total Serious Injuries', 'Total Minor Injuries', 'Total Uninjured']] -= avia_injuers.loc[exceed_indices, 'Total Injuries'] - avia_injuers.loc[exceed_indices, 'Number Of Seats']\n",
    "\n",
    "# Perform imputation using KNNImputer\n",
    "imputer = KNNImputer()\n",
    "columns_to_impute = ['Total Fatal Injuries', 'Total Serious Injuries', 'Total Minor Injuries', 'Total Uninjured', 'Number Of Seats', 'Type Aircraft', 'Total Injuries']\n",
    "imputed_values = imputer.fit_transform(avia_injuers[columns_to_impute])\n",
    "\n",
    "# Update the original DataFrame with the imputed values\n",
    "avia_injuers[columns_to_impute] = np.around(imputed_values)"
   ]
  },
  {
   "cell_type": "code",
   "execution_count": null,
   "id": "1064117b",
   "metadata": {
    "papermill": {
     "duration": null,
     "end_time": null,
     "exception": null,
     "start_time": null,
     "status": "pending"
    },
    "tags": []
   },
   "outputs": [],
   "source": [
    "avia_injuers[columns_to_impute]= avia_injuers[columns_to_impute].astype(int)\n",
    "avia_injuers[columns_to_impute]"
   ]
  },
  {
   "cell_type": "code",
   "execution_count": null,
   "id": "d91fa1a2",
   "metadata": {
    "papermill": {
     "duration": null,
     "end_time": null,
     "exception": null,
     "start_time": null,
     "status": "pending"
    },
    "tags": []
   },
   "outputs": [],
   "source": [
    "avia_injuers.isnull().sum()"
   ]
  },
  {
   "cell_type": "code",
   "execution_count": null,
   "id": "aa2f5541",
   "metadata": {
    "papermill": {
     "duration": null,
     "end_time": null,
     "exception": null,
     "start_time": null,
     "status": "pending"
    },
    "tags": []
   },
   "outputs": [],
   "source": [
    "avia_injuers.rename(columns = {'Total Injuries' : 'Total Person'}, inplace = True)"
   ]
  },
  {
   "cell_type": "code",
   "execution_count": null,
   "id": "e2662f24",
   "metadata": {
    "papermill": {
     "duration": null,
     "end_time": null,
     "exception": null,
     "start_time": null,
     "status": "pending"
    },
    "tags": []
   },
   "outputs": [],
   "source": [
    "avia_injuers.drop(columns=['Injury Severity'],inplace=True)"
   ]
  },
  {
   "cell_type": "code",
   "execution_count": null,
   "id": "9c197202",
   "metadata": {
    "papermill": {
     "duration": null,
     "end_time": null,
     "exception": null,
     "start_time": null,
     "status": "pending"
    },
    "tags": []
   },
   "outputs": [],
   "source": [
    "avia_injuers.isnull().sum()"
   ]
  },
  {
   "cell_type": "code",
   "execution_count": null,
   "id": "8c14d740",
   "metadata": {
    "papermill": {
     "duration": null,
     "end_time": null,
     "exception": null,
     "start_time": null,
     "status": "pending"
    },
    "tags": []
   },
   "outputs": [],
   "source": [
    "import plotly.express as px\n",
    "fig = px.bar(avia_injuers.groupby('Number Of Seats')['Aircraft Category'].value_counts().reset_index(), x='Aircraft Category', y=['Number Of Seats'], color='Aircraft Category')\n",
    "fig.show()"
   ]
  },
  {
   "cell_type": "markdown",
   "id": "5c9b0449",
   "metadata": {
    "papermill": {
     "duration": null,
     "end_time": null,
     "exception": null,
     "start_time": null,
     "status": "pending"
    },
    "tags": []
   },
   "source": [
    "## 🛫Result Filling Missing Value of columns ['Injury Severity' ,'Total Fatal Injuries','Total Serious Injuries', 'Total Minor Injuries', 'Total Uninjured'] number_of_seats 🛬\n",
    "<div class=\"alert alert-block alert-success\">\n",
    "<b> ✅</b> Exported from original infpormation and Filling Missing Value of columns ['Injury Severity' ,'Total Fatal Injuries','Total Serious Injuries', 'Total Minor Injuries', 'Total Uninjured'] number_of_seats And imputing Accident  up to real values .\n",
    "</div>"
   ]
  },
  {
   "cell_type": "code",
   "execution_count": null,
   "id": "aecdc401",
   "metadata": {
    "papermill": {
     "duration": null,
     "end_time": null,
     "exception": null,
     "start_time": null,
     "status": "pending"
    },
    "tags": []
   },
   "outputs": [],
   "source": [
    "avia_injuers.isnull().sum()"
   ]
  },
  {
   "cell_type": "markdown",
   "id": "07035fec",
   "metadata": {
    "papermill": {
     "duration": null,
     "end_time": null,
     "exception": null,
     "start_time": null,
     "status": "pending"
    },
    "tags": []
   },
   "source": [
    "<div class=\"alert alert-block alert-success\" style=\"background-color: #CD132A; color: white; padding: 10px; border-radius: 5px; border: 1px solid black;\">\n",
    "  <b style=\"font-size: 35px;\"> 🔴now we will start to explore Far Description , Schedule ,Purpose Of Flight , </b>\n",
    "    <ul style=\"font-size: 35px;\"> 🟡 and now if we will look we will find the missing values and according to information from Far Description\n",
    "  </ul>\n",
    "</div>\n",
    "    \n",
    "Part 91: General aviation - This part covers non-commercial operations of small aircraft, including private pilots and recreational flyers. It is considered non-scheduled.\n",
    "\n",
    "Part 91F: Special flight operations - This part covers specific types of operations such as aerial work, air ambulance, and crop dusting. It is considered non-scheduled.\n",
    "\n",
    "Part 91 subpart k: Fractional - This part covers operations of fractional ownership programs where multiple owners share ownership of an aircraft. It is considered non-scheduled.\n",
    "\n",
    "Part 103: Ultralight - This part covers the operation of ultralight vehicles, which are very light aircraft with minimal regulations. It is considered non-scheduled.\n",
    "\n",
    "Part 107: Small UAS - This part covers the operation of small unmanned aircraft systems (drones) for commercial purposes. It is considered non-scheduled.\n",
    "\n",
    "Part 121: Air carrier - This part covers scheduled air carrier operations with aircraft that have a seating capacity of more than 9 passengers or a maximum takeoff weight of over 12,500 lbs. It is considered scheduled.\n",
    "\n",
    "Part 125: 20+ pax, 6000+ lbs - This part covers scheduled air carrier operations with aircraft that have a seating capacity of 20 or more passengers and a maximum takeoff weight of 6,000 lbs or more. It is considered scheduled.\n",
    "\n",
    "Part 129: Foreign - This part covers operations of foreign air carriers within the United States. It is considered non-scheduled.\n",
    "\n",
    "Part 133: Rotorcraft External Load - This part covers operations of helicopters carrying external loads such as construction materials or firefighting equipment. It is considered non-scheduled.\n",
    "\n",
    "Part 135: Air taxi & commuter - This part covers non-scheduled air carrier operations with aircraft that have a seating capacity of 30 passengers or less. It is considered non-scheduled.\n",
    "\n",
    "Part 137: Agricultural - This part covers agricultural operations such as crop dusting and pest control using aircraft. It is considered non-scheduled.\n",
    "\n",
    "Part 415: Commercial space flight - This part covers commercial space flight operations, including launches and reentries. It is considered non-scheduled.\n",
    "\n",
    "Part 431: Commercial space flight - This part covers commercial space flight operations, including launches and reentries. It is considered non-scheduled.\n",
    "\n",
    "Part 435: Commercial space flight - This part covers commercial space flight operations, including launches and reentries. It is considered non-scheduled.\n",
    "\n",
    "Part 437: Commercial space flight - This part covers commercial space flight operations, including launches and reentries. It is considered non-scheduled.\n",
    "\n",
    "Part 450: Commercial space flight Public aircraft - This part covers commercial space flight operations conducted by public entities such as government agencies. It is considered non-scheduled.\n",
    "# 🛫columns [Far Description , Schedule ,Purpose Of Flight , Analysis ] explore Filling Far Description and factorize and columns  🛬"
   ]
  },
  {
   "cell_type": "code",
   "execution_count": null,
   "id": "2e91fbcb",
   "metadata": {
    "papermill": {
     "duration": null,
     "end_time": null,
     "exception": null,
     "start_time": null,
     "status": "pending"
    },
    "tags": []
   },
   "outputs": [],
   "source": [
    "far_df = avia_injuers.copy()"
   ]
  },
  {
   "cell_type": "code",
   "execution_count": null,
   "id": "9ffb563c",
   "metadata": {
    "papermill": {
     "duration": null,
     "end_time": null,
     "exception": null,
     "start_time": null,
     "status": "pending"
    },
    "tags": []
   },
   "outputs": [],
   "source": [
    "far_df.info()"
   ]
  },
  {
   "cell_type": "code",
   "execution_count": null,
   "id": "99f878a5",
   "metadata": {
    "papermill": {
     "duration": null,
     "end_time": null,
     "exception": null,
     "start_time": null,
     "status": "pending"
    },
    "tags": []
   },
   "outputs": [],
   "source": [
    "\n",
    "far_df['Far Description'].value_counts()"
   ]
  },
  {
   "cell_type": "markdown",
   "id": "3fea64da",
   "metadata": {
    "papermill": {
     "duration": null,
     "end_time": null,
     "exception": null,
     "start_time": null,
     "status": "pending"
    },
    "tags": []
   },
   "source": [
    "## 🛫Function of cleaning Far Description🛬"
   ]
  },
  {
   "cell_type": "code",
   "execution_count": null,
   "id": "9e479e63",
   "metadata": {
    "papermill": {
     "duration": null,
     "end_time": null,
     "exception": null,
     "start_time": null,
     "status": "pending"
    },
    "tags": []
   },
   "outputs": [],
   "source": [
    "def far_description(far):\n",
    "    if pd.isnull(far):\n",
    "        return np.nan\n",
    "    elif '091' in far or 'Part 91: General Aviation' in far :\n",
    "        return 'part 91: general aviation'\n",
    "    elif '091K' in far :\n",
    "        return 'part 91 subpart f: fractional'\n",
    "    elif 'Part 91F: Special Flt Ops.'in far :\n",
    "        return 'part 91f: special flt ops'\n",
    "    elif 'NUSN' in far or 'Non-U.S., Non-Commercial' in far :\n",
    "        return 'non-us , non-commercial'\n",
    "    elif 'NUSC' in far or 'Non-U.S., Commercial' in far :\n",
    "        return 'non-us , commercial'\n",
    "    elif '137' in far or 'Part 137: Agricultural' in far :\n",
    "        return'part 137: agricultural'\n",
    "    elif '135' in far or 'Part 135: Air Taxi & Commuter' in far :\n",
    "        return 'part 135: air taxi & commuter'\n",
    "    elif '121' in far or 'Part 121: Air Carrier' in far :\n",
    "        return 'part 121: air carrier'\n",
    "    elif '129' in far or 'Part 129: Foreign' in far :\n",
    "        return 'part 129: Foreign'\n",
    "    elif '133' in far or 'Part 133: Rotorcraft Ext. Load' in far :\n",
    "        return 'part 133: rotorcraft ext  load'\n",
    "    elif '125' in far or 'Part 125: 20+ Pax,6000+ lbs' in far  :\n",
    "        return 'part 125: 20+ pax,6000+ lbs'\n",
    "    elif '107' in far :\n",
    "        return 'part 107: small uas'\n",
    "    elif '103' in far :\n",
    "        return 'part 103: ultralight'\n",
    "    elif '437' in far :\n",
    "        return 'part 437: commercial space flight'\n",
    "    elif 'Armed Forces' in far or 'ARMF' in far :\n",
    "        return 'armed forces'\n",
    "    elif 'Public Aircraft' in far :\n",
    "        return 'part 450: commercial space flight Public aircraft'\n",
    "    elif 'Public Use' in far or 'PUBU' in far :\n",
    "        return 'all general aviation'\n",
    "    elif 'UNK' in far or 'Unknown' in far :\n",
    "        return 'unk'"
   ]
  },
  {
   "cell_type": "code",
   "execution_count": null,
   "id": "2576152d",
   "metadata": {
    "papermill": {
     "duration": null,
     "end_time": null,
     "exception": null,
     "start_time": null,
     "status": "pending"
    },
    "tags": []
   },
   "outputs": [],
   "source": [
    "far_df['Far Description'] = far_df['Far Description'].apply(far_description)"
   ]
  },
  {
   "cell_type": "code",
   "execution_count": null,
   "id": "02bfc44b",
   "metadata": {
    "papermill": {
     "duration": null,
     "end_time": null,
     "exception": null,
     "start_time": null,
     "status": "pending"
    },
    "tags": []
   },
   "outputs": [],
   "source": [
    "far_df['Far Description'] .value_counts ()"
   ]
  },
  {
   "cell_type": "code",
   "execution_count": null,
   "id": "3cc364cc",
   "metadata": {
    "papermill": {
     "duration": null,
     "end_time": null,
     "exception": null,
     "start_time": null,
     "status": "pending"
    },
    "tags": []
   },
   "outputs": [],
   "source": [
    "far_df['Far Description'] .isnull().sum()"
   ]
  },
  {
   "cell_type": "markdown",
   "id": "576f2dba",
   "metadata": {
    "papermill": {
     "duration": null,
     "end_time": null,
     "exception": null,
     "start_time": null,
     "status": "pending"
    },
    "tags": []
   },
   "source": [
    "## 🛫Factorize [Far Description , Schedule ,Purpose Of Flight]🛬"
   ]
  },
  {
   "cell_type": "code",
   "execution_count": null,
   "id": "c4873079",
   "metadata": {
    "papermill": {
     "duration": null,
     "end_time": null,
     "exception": null,
     "start_time": null,
     "status": "pending"
    },
    "tags": []
   },
   "outputs": [],
   "source": [
    "# Factorize the 'Far Description' column\n",
    "far_df['Far Description Factorized'], far_label = pd.factorize(far_df['Far Description'])\n",
    "\n",
    "# # Convert factorized values back to original descriptions\n",
    "# far_df['Original Far Description'] = pd.Index(original_labels)[far_df['Far Description Factorized']]\n",
    "\n",
    "# Print the DataFrame to see the result\n",
    "far_df\n"
   ]
  },
  {
   "cell_type": "code",
   "execution_count": null,
   "id": "286ff26b",
   "metadata": {
    "papermill": {
     "duration": null,
     "end_time": null,
     "exception": null,
     "start_time": null,
     "status": "pending"
    },
    "tags": []
   },
   "outputs": [],
   "source": [
    "# replace -1 by nan  \n",
    "far_df['Far Description Factorized'] = far_df['Far Description Factorized'].replace(-1,np.nan)"
   ]
  },
  {
   "cell_type": "code",
   "execution_count": null,
   "id": "85f1bfee",
   "metadata": {
    "papermill": {
     "duration": null,
     "end_time": null,
     "exception": null,
     "start_time": null,
     "status": "pending"
    },
    "tags": []
   },
   "outputs": [],
   "source": [
    "far_df['Schedule'].value_counts()"
   ]
  },
  {
   "cell_type": "code",
   "execution_count": null,
   "id": "09059b9b",
   "metadata": {
    "papermill": {
     "duration": null,
     "end_time": null,
     "exception": null,
     "start_time": null,
     "status": "pending"
    },
    "tags": []
   },
   "outputs": [],
   "source": [
    "far_df['Schedule Factorized'], sch_label = pd.factorize(far_df['Schedule'])\n",
    "far_df['Schedule Factorized'] = far_df['Schedule Factorized'].replace(-1,np.nan)"
   ]
  },
  {
   "cell_type": "code",
   "execution_count": null,
   "id": "a44def13",
   "metadata": {
    "papermill": {
     "duration": null,
     "end_time": null,
     "exception": null,
     "start_time": null,
     "status": "pending"
    },
    "tags": []
   },
   "outputs": [],
   "source": [
    "far_df['Schedule Factorized'].value_counts()"
   ]
  },
  {
   "cell_type": "code",
   "execution_count": null,
   "id": "b0e694dc",
   "metadata": {
    "papermill": {
     "duration": null,
     "end_time": null,
     "exception": null,
     "start_time": null,
     "status": "pending"
    },
    "tags": []
   },
   "outputs": [],
   "source": [
    "far_df['Purpose Of Flight'].value_counts()"
   ]
  },
  {
   "cell_type": "code",
   "execution_count": null,
   "id": "92d570ad",
   "metadata": {
    "papermill": {
     "duration": null,
     "end_time": null,
     "exception": null,
     "start_time": null,
     "status": "pending"
    },
    "tags": []
   },
   "outputs": [],
   "source": [
    "far_df['Purpose Of Flight Factorized'], purpose_label = pd.factorize(far_df['Purpose Of Flight'])\n",
    "far_df['Purpose Of Flight Factorized'] = far_df['Purpose Of Flight Factorized'].replace(-1,np.nan)\n",
    "far_df['Purpose Of Flight Factorized'].value_counts()"
   ]
  },
  {
   "cell_type": "code",
   "execution_count": null,
   "id": "00fd1e4e",
   "metadata": {
    "papermill": {
     "duration": null,
     "end_time": null,
     "exception": null,
     "start_time": null,
     "status": "pending"
    },
    "tags": []
   },
   "outputs": [],
   "source": [
    "far_df.columns "
   ]
  },
  {
   "cell_type": "markdown",
   "id": "95d8bce8",
   "metadata": {
    "papermill": {
     "duration": null,
     "end_time": null,
     "exception": null,
     "start_time": null,
     "status": "pending"
    },
    "tags": []
   },
   "source": [
    "##  🛫Imputing values after factorize🛬"
   ]
  },
  {
   "cell_type": "code",
   "execution_count": null,
   "id": "a4c98799",
   "metadata": {
    "papermill": {
     "duration": null,
     "end_time": null,
     "exception": null,
     "start_time": null,
     "status": "pending"
    },
    "tags": []
   },
   "outputs": [],
   "source": [
    "from sklearn.impute import KNNImputer\n",
    "import numpy as np\n",
    "\n",
    "imputer = KNNImputer()\n",
    "\n",
    "# Select the columns for imputation\n",
    "columns_to_impute = ['Far Description Factorized', 'Schedule Factorized', 'Purpose Of Flight Factorized']\n",
    "\n",
    "# Perform imputation\n",
    "imputed_values = imputer.fit_transform(far_df[columns_to_impute])\n",
    "\n",
    "# Round the imputed values\n",
    "rounded_values = np.around(imputed_values)\n",
    "\n",
    "# Update the original DataFrame with the imputed values\n",
    "far_df[columns_to_impute] = rounded_values\n",
    "\n",
    "# Print the updated DataFrame\n",
    "far_df\n"
   ]
  },
  {
   "cell_type": "code",
   "execution_count": null,
   "id": "6c1f000f",
   "metadata": {
    "papermill": {
     "duration": null,
     "end_time": null,
     "exception": null,
     "start_time": null,
     "status": "pending"
    },
    "tags": []
   },
   "outputs": [],
   "source": [
    "far_df[columns_to_impute].isnull().sum()"
   ]
  },
  {
   "cell_type": "code",
   "execution_count": null,
   "id": "8652519f",
   "metadata": {
    "papermill": {
     "duration": null,
     "end_time": null,
     "exception": null,
     "start_time": null,
     "status": "pending"
    },
    "tags": []
   },
   "outputs": [],
   "source": [
    "far_df[columns_to_impute] = far_df[columns_to_impute] .astype(int)"
   ]
  },
  {
   "cell_type": "code",
   "execution_count": null,
   "id": "07922f8d",
   "metadata": {
    "papermill": {
     "duration": null,
     "end_time": null,
     "exception": null,
     "start_time": null,
     "status": "pending"
    },
    "tags": []
   },
   "outputs": [],
   "source": [
    "far_df.isnull().sum()"
   ]
  },
  {
   "cell_type": "markdown",
   "id": "84d95a7f",
   "metadata": {
    "papermill": {
     "duration": null,
     "end_time": null,
     "exception": null,
     "start_time": null,
     "status": "pending"
    },
    "tags": []
   },
   "source": [
    "## 🛫Reverse labels 🛬"
   ]
  },
  {
   "cell_type": "code",
   "execution_count": null,
   "id": "7a8e99df",
   "metadata": {
    "papermill": {
     "duration": null,
     "end_time": null,
     "exception": null,
     "start_time": null,
     "status": "pending"
    },
    "tags": []
   },
   "outputs": [],
   "source": [
    "far_df['Far Description'] = pd.Index(far_label)[far_df['Far Description Factorized']]\n",
    "far_df['Schedule'] = pd.Index(sch_label)[far_df['Schedule Factorized']]\n",
    "far_df['Purpose Of Flight'] = pd.Index(purpose_label)[far_df['Purpose Of Flight Factorized']]"
   ]
  },
  {
   "cell_type": "code",
   "execution_count": null,
   "id": "83e140c9",
   "metadata": {
    "papermill": {
     "duration": null,
     "end_time": null,
     "exception": null,
     "start_time": null,
     "status": "pending"
    },
    "tags": []
   },
   "outputs": [],
   "source": [
    "far_df['Schedule']"
   ]
  },
  {
   "cell_type": "code",
   "execution_count": null,
   "id": "b91aab01",
   "metadata": {
    "papermill": {
     "duration": null,
     "end_time": null,
     "exception": null,
     "start_time": null,
     "status": "pending"
    },
    "tags": []
   },
   "outputs": [],
   "source": [
    "far_df.isnull().sum()"
   ]
  },
  {
   "cell_type": "markdown",
   "id": "909440ca",
   "metadata": {
    "papermill": {
     "duration": null,
     "end_time": null,
     "exception": null,
     "start_time": null,
     "status": "pending"
    },
    "tags": []
   },
   "source": [
    "## 🛫Result Filling Missing Value of ccolumns [Far Description , Schedule ,Purpose Of Flight , Analysis ] explore Filling Far Description and factorize and columns  🛬\n",
    "<div class=\"alert alert-block alert-success\">\n",
    "<b> ✅</b> Exported from original infpormation and Filling Missing Value of columns [Far Description , Schedule ,Purpose Of Flight , Analysis ] explore Filling Far Description and factorize and columns  And factorize columns and imputing columns  up to real values .\n",
    "</div>"
   ]
  },
  {
   "cell_type": "markdown",
   "id": "0d5cd739",
   "metadata": {
    "papermill": {
     "duration": null,
     "end_time": null,
     "exception": null,
     "start_time": null,
     "status": "pending"
    },
    "tags": []
   },
   "source": [
    "<div class=\"alert alert-block alert-success\" style=\"background-color: #E6F508; color: white; padding: 10px; border-radius: 5px; border: 1px solid black;\">\n",
    "  <b style=\"font-size: 35px;\"> 🔴now we will start to explore Make and  Model column  </b>\n",
    "    <ul style=\"font-size: 35px;\"> 🟡 and now if we will look we will find the missing values and we will make factorize and imputingaccording to  'Number Of Seats', 'Type Aircraft', 'Type Engine', 'Number Of Engines'\n",
    "</div>"
   ]
  },
  {
   "cell_type": "code",
   "execution_count": null,
   "id": "ee16b023",
   "metadata": {
    "papermill": {
     "duration": null,
     "end_time": null,
     "exception": null,
     "start_time": null,
     "status": "pending"
    },
    "tags": []
   },
   "outputs": [],
   "source": [
    "far_df.isnull().sum()"
   ]
  },
  {
   "cell_type": "markdown",
   "id": "20b73372",
   "metadata": {
    "papermill": {
     "duration": null,
     "end_time": null,
     "exception": null,
     "start_time": null,
     "status": "pending"
    },
    "tags": []
   },
   "source": [
    "##  🛫Factorize columns🛬"
   ]
  },
  {
   "cell_type": "code",
   "execution_count": null,
   "id": "e6c70f13",
   "metadata": {
    "papermill": {
     "duration": null,
     "end_time": null,
     "exception": null,
     "start_time": null,
     "status": "pending"
    },
    "tags": []
   },
   "outputs": [],
   "source": [
    "far_df['Make Factorized'], original_labels = pd.factorize(far_df['Make'])"
   ]
  },
  {
   "cell_type": "code",
   "execution_count": null,
   "id": "98d9ca4f",
   "metadata": {
    "papermill": {
     "duration": null,
     "end_time": null,
     "exception": null,
     "start_time": null,
     "status": "pending"
    },
    "tags": []
   },
   "outputs": [],
   "source": [
    "far_df['Make Factorized'] = far_df['Make Factorized'].replace(-1,np.nan)"
   ]
  },
  {
   "cell_type": "code",
   "execution_count": null,
   "id": "bf93e96f",
   "metadata": {
    "papermill": {
     "duration": null,
     "end_time": null,
     "exception": null,
     "start_time": null,
     "status": "pending"
    },
    "tags": []
   },
   "outputs": [],
   "source": [
    "far_df['Make Factorized'].value_counts()"
   ]
  },
  {
   "cell_type": "code",
   "execution_count": null,
   "id": "fbf3bb81",
   "metadata": {
    "papermill": {
     "duration": null,
     "end_time": null,
     "exception": null,
     "start_time": null,
     "status": "pending"
    },
    "tags": []
   },
   "outputs": [],
   "source": [
    "far_df['Model Factorized'], original_labels = pd.factorize(far_df['Model'])\n",
    "far_df['Model Factorized'] = far_df['Model Factorized'].replace(-1,np.nan)\n",
    "far_df['Model Factorized'].value_counts()"
   ]
  },
  {
   "cell_type": "code",
   "execution_count": null,
   "id": "e46d9eb2",
   "metadata": {
    "papermill": {
     "duration": null,
     "end_time": null,
     "exception": null,
     "start_time": null,
     "status": "pending"
    },
    "tags": []
   },
   "outputs": [],
   "source": [
    "far_df.columns "
   ]
  },
  {
   "cell_type": "markdown",
   "id": "d018d740",
   "metadata": {
    "papermill": {
     "duration": null,
     "end_time": null,
     "exception": null,
     "start_time": null,
     "status": "pending"
    },
    "tags": []
   },
   "source": [
    "## 🛫imputing values and filling missing 🛬"
   ]
  },
  {
   "cell_type": "code",
   "execution_count": null,
   "id": "207e0fb0",
   "metadata": {
    "papermill": {
     "duration": null,
     "end_time": null,
     "exception": null,
     "start_time": null,
     "status": "pending"
    },
    "tags": []
   },
   "outputs": [],
   "source": [
    "# Factorize the 'Make' column\n",
    "far_df['Make Factorized'], original_make_labels = pd.factorize(far_df['Make'])\n",
    "far_df['Make Factorized'] = far_df['Make Factorized'].replace(-1, np.nan)\n",
    "\n",
    "# Factorize the 'Model' column\n",
    "far_df['Model Factorized'], original_model_labels = pd.factorize(far_df['Model'])\n",
    "far_df['Model Factorized'] = far_df['Model Factorized'].replace(-1, np.nan)\n",
    "\n",
    "from sklearn.impute import KNNImputer\n",
    "import numpy as np\n",
    "\n",
    "# Select the columns for imputation\n",
    "columns_to_impute = ['Make Factorized', 'Model Factorized', 'Number Of Seats', 'Type Aircraft', 'Type Engine', 'Number Of Engines']\n",
    "\n",
    "# Initialize the KNNImputer\n",
    "imputer = KNNImputer()\n",
    "\n",
    "# Perform imputation\n",
    "imputed_values = imputer.fit_transform(far_df[columns_to_impute])\n",
    "\n",
    "# Round the imputed values\n",
    "rounded_values = np.around(imputed_values)\n",
    "\n",
    "# Update the original DataFrame with the imputed values for 'Make Factorized' and 'Model Factorized' columns\n",
    "far_df['Make Factorized'] = rounded_values[:, 0].astype(int)\n",
    "far_df['Model Factorized'] = rounded_values[:, 1].astype(int)\n",
    "\n",
    "\n",
    "\n",
    "# Update the original DataFrame with the original labels for 'Make' and 'Model' columns\n",
    "far_df['Make'] = original_make_labels[far_df['Make Factorized']]\n",
    "far_df['Model'] = original_model_labels[far_df['Model Factorized']]\n",
    "\n",
    "# Print the updated DataFrame\n",
    "far_df.isnull().sum()\n"
   ]
  },
  {
   "cell_type": "code",
   "execution_count": null,
   "id": "f514eb2b",
   "metadata": {
    "papermill": {
     "duration": null,
     "end_time": null,
     "exception": null,
     "start_time": null,
     "status": "pending"
    },
    "tags": []
   },
   "outputs": [],
   "source": [
    "far_df.isnull().sum()"
   ]
  },
  {
   "cell_type": "code",
   "execution_count": null,
   "id": "7124187e",
   "metadata": {
    "papermill": {
     "duration": null,
     "end_time": null,
     "exception": null,
     "start_time": null,
     "status": "pending"
    },
    "tags": []
   },
   "outputs": [],
   "source": [
    "avia_mode = far_df.copy()\n",
    "avia_mode.isnull().sum()"
   ]
  },
  {
   "cell_type": "markdown",
   "id": "9184fab7",
   "metadata": {
    "papermill": {
     "duration": null,
     "end_time": null,
     "exception": null,
     "start_time": null,
     "status": "pending"
    },
    "tags": []
   },
   "source": [
    "## 🛫Result Filling Missing Value of column Make , Model  🛬\n",
    "<div class=\"alert alert-block alert-success\">\n",
    "<b> ✅</b> Exported from original infpormation and Filling Missing Value of column Make , Model after factorize and imputing  .\n",
    "</div>"
   ]
  },
  {
   "cell_type": "markdown",
   "id": "fd6cb306",
   "metadata": {
    "papermill": {
     "duration": null,
     "end_time": null,
     "exception": null,
     "start_time": null,
     "status": "pending"
    },
    "tags": []
   },
   "source": [
    "<div class=\"alert alert-block alert-success\" style=\"background-color: #82F508; color: white; padding: 10px; border-radius: 5px; border: 1px solid black;\">\n",
    "  <b style=\"font-size: 35px;\"> 🔴now we will start to explore Weather Condition , Amateur Built  </b>\n",
    "    <ul style=\"font-size: 35px;\"> 🟡 and now if we will look we will find the missing values and according to informations   </ul>\n",
    "</div>\n",
    "information of Weather Condition\n",
    "UNK (Unknown): UNK weather condition indicates that the weather information for the specified location or time is unavailable or unknown. Pilots should exercise caution and be prepared for unpredictable weather conditions in such situations.\n",
    "\n",
    "IMC (Instrument Meteorological Conditions): IMC refers to weather conditions where pilots primarily rely on flight instruments for navigation and control due to reduced visibility or other factors that make visual flight difficult or impossible. IMC conditions typically include low ceilings, reduced visibility (e.g., fog, rain, snow), and cloud cover. Pilots flying in IMC must be trained and certified to operate under instrument flight rules (IFR) and must rely on instruments such as altimeters, attitude indicators, and navigation aids to maintain safe flight.\n",
    "\n",
    "VMC (Visual Meteorological Conditions): VMC refers to weather conditions that allow pilots to navigate and control the aircraft primarily by visual reference to the ground and surrounding terrain. VMC conditions typically include good visibility (e.g., clear skies, high cloud bases) and no significant weather hazards. Pilots flying in VMC can operate under visual flight rules (VFR) and rely on visual cues such as landmarks, runway markings, and other aircraft for navigation and traffic avoidance.\n",
    "\n",
    "Understanding and adhering to weather conditions are essential for pilots to make informed decisions regarding flight planning, route selection, and safety. Pilots must monitor weather reports, forecasts, and updates before and during flights to ensure they operate safely within the appropriate weather conditions.\n",
    "# 🛫columns Weather Condition ,Amateur Built  🛬"
   ]
  },
  {
   "cell_type": "code",
   "execution_count": null,
   "id": "3623c71e",
   "metadata": {
    "papermill": {
     "duration": null,
     "end_time": null,
     "exception": null,
     "start_time": null,
     "status": "pending"
    },
    "tags": []
   },
   "outputs": [],
   "source": [
    "avia_mode['Weather Condition'].value_counts()"
   ]
  },
  {
   "cell_type": "code",
   "execution_count": null,
   "id": "ed556810",
   "metadata": {
    "papermill": {
     "duration": null,
     "end_time": null,
     "exception": null,
     "start_time": null,
     "status": "pending"
    },
    "tags": []
   },
   "outputs": [],
   "source": [
    "avia_mode['Amateur Built'].unique()"
   ]
  },
  {
   "cell_type": "code",
   "execution_count": null,
   "id": "f3deda36",
   "metadata": {
    "papermill": {
     "duration": null,
     "end_time": null,
     "exception": null,
     "start_time": null,
     "status": "pending"
    },
    "tags": []
   },
   "outputs": [],
   "source": [
    "avia_mode.isnull().sum()"
   ]
  },
  {
   "cell_type": "markdown",
   "id": "68e9ea80",
   "metadata": {
    "papermill": {
     "duration": null,
     "end_time": null,
     "exception": null,
     "start_time": null,
     "status": "pending"
    },
    "tags": []
   },
   "source": [
    "##  🛫Filling with mode because missing values is less than 10% of data set🛬"
   ]
  },
  {
   "cell_type": "code",
   "execution_count": null,
   "id": "b3da0dd9",
   "metadata": {
    "papermill": {
     "duration": null,
     "end_time": null,
     "exception": null,
     "start_time": null,
     "status": "pending"
    },
    "tags": []
   },
   "outputs": [],
   "source": [
    "avia_mode['Weather Condition'] = avia_mode['Weather Condition'].fillna(avia_mode['Weather Condition'].mode()[0])\n",
    "avia_mode['Amateur Built'] =avia_mode['Amateur Built'].fillna(avia_mode['Amateur Built'].mode()[0])\n",
    "avia_mode.isnull().sum()"
   ]
  },
  {
   "cell_type": "markdown",
   "id": "576d59bc",
   "metadata": {
    "papermill": {
     "duration": null,
     "end_time": null,
     "exception": null,
     "start_time": null,
     "status": "pending"
    },
    "tags": []
   },
   "source": [
    "## 🛫Result Filling Missing Value of columns Weather Condition ,Amateur Built  🛬\n",
    "<div class=\"alert alert-block alert-success\">\n",
    "<b> ✅</b> Exported from original infpormation and Filling Missing Value of columns Weather Condition , Amateur Built .\n",
    "</div>"
   ]
  },
  {
   "cell_type": "markdown",
   "id": "c6825cac",
   "metadata": {
    "papermill": {
     "duration": null,
     "end_time": null,
     "exception": null,
     "start_time": null,
     "status": "pending"
    },
    "tags": []
   },
   "source": [
    "<div class=\"alert alert-block alert-success\" style=\"background-color: #F508A2; color: white; padding: 10px; border-radius: 5px; border: 1px solid black;\">\n",
    "  <b style=\"font-size: 35px;\"> 🔴now we will start to explore Event Date , Publication Date  </b>\n",
    "    <ul style=\"font-size: 35px;\"> 🟡 and now if we will look we will find the missing values we will convert to date time and extract year , month , day and imputing for missing value   </ul>\n",
    "</div>\n",
    "\n",
    "# 🛫columns Event Date , Publication Date 🛬"
   ]
  },
  {
   "cell_type": "markdown",
   "id": "9d385ee5",
   "metadata": {
    "papermill": {
     "duration": null,
     "end_time": null,
     "exception": null,
     "start_time": null,
     "status": "pending"
    },
    "tags": []
   },
   "source": [
    "## 🛫convert to date time and extract  year , month , day🛬"
   ]
  },
  {
   "cell_type": "code",
   "execution_count": null,
   "id": "e64cc67b",
   "metadata": {
    "papermill": {
     "duration": null,
     "end_time": null,
     "exception": null,
     "start_time": null,
     "status": "pending"
    },
    "tags": []
   },
   "outputs": [],
   "source": [
    "avia_mode['Event Date'] = pd.to_datetime(avia_mode['Event Date'], format='%Y-%m-%d')\n",
    "avia_mode['Publication Date'] = pd.to_datetime(avia_mode['Publication Date'], format='mixed')\n",
    "avia_mode['Event Year'] = avia_mode['Event Date'].dt.year\n",
    "avia_mode['Publication Year'] = avia_mode['Publication Date'].dt.year\n",
    "avia_mode['Event Month'] = avia_mode['Event Date'].dt.month\n",
    "avia_mode['Publication Month'] = avia_mode['Publication Date'].dt.month\n",
    "avia_mode['Event Day'] = avia_mode['Event Date'].dt.day\n",
    "avia_mode['Publication Day'] = avia_mode['Publication Date'].dt.day"
   ]
  },
  {
   "cell_type": "code",
   "execution_count": null,
   "id": "f7a9c224",
   "metadata": {
    "papermill": {
     "duration": null,
     "end_time": null,
     "exception": null,
     "start_time": null,
     "status": "pending"
    },
    "tags": []
   },
   "outputs": [],
   "source": [
    "avia_mode.isnull().sum()"
   ]
  },
  {
   "cell_type": "code",
   "execution_count": null,
   "id": "94c9bd92",
   "metadata": {
    "papermill": {
     "duration": null,
     "end_time": null,
     "exception": null,
     "start_time": null,
     "status": "pending"
    },
    "tags": []
   },
   "outputs": [],
   "source": [
    "avia_mode['Publication Date']"
   ]
  },
  {
   "cell_type": "markdown",
   "id": "79a726c3",
   "metadata": {
    "papermill": {
     "duration": null,
     "end_time": null,
     "exception": null,
     "start_time": null,
     "status": "pending"
    },
    "tags": []
   },
   "source": [
    "## 🛫find difference betwwen dates 🛬"
   ]
  },
  {
   "cell_type": "code",
   "execution_count": null,
   "id": "87920d14",
   "metadata": {
    "papermill": {
     "duration": null,
     "end_time": null,
     "exception": null,
     "start_time": null,
     "status": "pending"
    },
    "tags": []
   },
   "outputs": [],
   "source": [
    "avia_mode['Date Difference']=avia_mode['Publication Year']-avia_mode['Event Year']"
   ]
  },
  {
   "cell_type": "markdown",
   "id": "567e54df",
   "metadata": {
    "papermill": {
     "duration": null,
     "end_time": null,
     "exception": null,
     "start_time": null,
     "status": "pending"
    },
    "tags": []
   },
   "source": [
    "##  🛫imputing values🛬"
   ]
  },
  {
   "cell_type": "code",
   "execution_count": null,
   "id": "4eccaf9b",
   "metadata": {
    "papermill": {
     "duration": null,
     "end_time": null,
     "exception": null,
     "start_time": null,
     "status": "pending"
    },
    "tags": []
   },
   "outputs": [],
   "source": [
    "slice = avia_mode[['Event Year' ,'Publication Year','Date Difference' , 'Event Month' ,'Publication Month' ,'Event Day']]\n",
    "slice.head()\n",
    "output = imputer.fit_transform(slice)\n",
    "output\n",
    "rounded_values = np.around(output)\n",
    "avia_mode[['Event Year' ,'Publication Year','Date Difference' , 'Event Month' ,'Publication Month','Publication Day']] = rounded_values[:len(avia_mode)]"
   ]
  },
  {
   "cell_type": "code",
   "execution_count": null,
   "id": "d38bec79",
   "metadata": {
    "papermill": {
     "duration": null,
     "end_time": null,
     "exception": null,
     "start_time": null,
     "status": "pending"
    },
    "tags": []
   },
   "outputs": [],
   "source": [
    "avia_mode[['Event Year' ,'Publication Year','Date Difference' , 'Event Month' ,'Publication Month' ,'Event Day']] = avia_mode[['Event Year' ,'Publication Year','Date Difference' , 'Event Month' ,'Publication Month' ,'Event Day']].astype(int)"
   ]
  },
  {
   "cell_type": "code",
   "execution_count": null,
   "id": "701d0f5f",
   "metadata": {
    "papermill": {
     "duration": null,
     "end_time": null,
     "exception": null,
     "start_time": null,
     "status": "pending"
    },
    "tags": []
   },
   "outputs": [],
   "source": [
    "month_names = {1: \"January\", 2: \"February\", 3: \"March\", 4: \"April\", 5: \"May\", 6: \"June\",\n",
    "              7: \"July\", 8: \"August\", 9: \"September\", 10: \"October\", 11: \"November\", 12: \"December\"}\n",
    "\n",
    "\n",
    "avia_mode['Publication Month Name'] = avia_mode['Publication Month'].apply(lambda x: month_names.get(x))\n",
    "avia_mode['Event Month Name'] = avia_mode['Event Month'].apply(lambda x: month_names.get(x))"
   ]
  },
  {
   "cell_type": "code",
   "execution_count": null,
   "id": "4d1e1554",
   "metadata": {
    "papermill": {
     "duration": null,
     "end_time": null,
     "exception": null,
     "start_time": null,
     "status": "pending"
    },
    "tags": []
   },
   "outputs": [],
   "source": [
    "avia_mode['Publication Month'].value_counts()"
   ]
  },
  {
   "cell_type": "code",
   "execution_count": null,
   "id": "8ffe7134",
   "metadata": {
    "papermill": {
     "duration": null,
     "end_time": null,
     "exception": null,
     "start_time": null,
     "status": "pending"
    },
    "tags": []
   },
   "outputs": [],
   "source": [
    "avia_mode.isnull().sum()"
   ]
  },
  {
   "cell_type": "markdown",
   "id": "5695e734",
   "metadata": {
    "papermill": {
     "duration": null,
     "end_time": null,
     "exception": null,
     "start_time": null,
     "status": "pending"
    },
    "tags": []
   },
   "source": [
    "## 🛫Result Filling Missing Value of columns  Event Date , Publication Date 🛬\n",
    "<div class=\"alert alert-block alert-success\">\n",
    "<b> ✅</b> Exported from original infpormation and Filling Missing Value of column  Event Date , Publication Date .\n",
    "</div>"
   ]
  },
  {
   "cell_type": "code",
   "execution_count": null,
   "id": "42d63e18",
   "metadata": {
    "papermill": {
     "duration": null,
     "end_time": null,
     "exception": null,
     "start_time": null,
     "status": "pending"
    },
    "tags": []
   },
   "outputs": [],
   "source": [
    "month_names = {1: \"January\", 2: \"February\", 3: \"March\", 4: \"April\", 5: \"May\", 6: \"June\",\n",
    "              7: \"July\", 8: \"August\", 9: \"September\", 10: \"October\", 11: \"November\", 12: \"December\"}\n",
    "\n",
    "\n",
    "avia_mode['Event Month Name'] = avia_mode['Event Month'].apply(lambda x: month_names.get(x))\n",
    "avia_mode['Event Month Name'] .value_counts()\n"
   ]
  },
  {
   "cell_type": "code",
   "execution_count": null,
   "id": "f2319987",
   "metadata": {
    "papermill": {
     "duration": null,
     "end_time": null,
     "exception": null,
     "start_time": null,
     "status": "pending"
    },
    "tags": []
   },
   "outputs": [],
   "source": [
    "avia_mode = gdf"
   ]
  },
  {
   "cell_type": "code",
   "execution_count": null,
   "id": "2313fdd3",
   "metadata": {
    "papermill": {
     "duration": null,
     "end_time": null,
     "exception": null,
     "start_time": null,
     "status": "pending"
    },
    "tags": []
   },
   "outputs": [],
   "source": [
    "def get_season(month):\n",
    "    season_map = {\n",
    "        1: \"Winter\",\n",
    "        2: \"Winter\",\n",
    "        3: \"Spring\",\n",
    "        4: \"Spring\",\n",
    "        5: \"Spring\",\n",
    "        6: \"Summer\",\n",
    "        7: \"Summer\",\n",
    "        8: \"Summer\",\n",
    "        9: \"Fall\",\n",
    "        10: \"Fall\",\n",
    "        11: \"Fall\",\n",
    "        12: \"Winter\"\n",
    "    }\n",
    "    return season_map.get(month)\n",
    "\n",
    "# Apply the function to the 'Event Month' column\n",
    "avia_mode['Season'] = avia_mode['Event Month'].apply(get_season)\n",
    "\n",
    "# Output the count of occurrences of each season\n",
    "print(avia_mode['Season'].value_counts())"
   ]
  },
  {
   "cell_type": "markdown",
   "id": "de3f31d0",
   "metadata": {
    "papermill": {
     "duration": null,
     "end_time": null,
     "exception": null,
     "start_time": null,
     "status": "pending"
    },
    "tags": []
   },
   "source": [
    "# 🛫Clean un useful columns and export data🛬"
   ]
  },
  {
   "cell_type": "code",
   "execution_count": null,
   "id": "83bf8fdd",
   "metadata": {
    "papermill": {
     "duration": null,
     "end_time": null,
     "exception": null,
     "start_time": null,
     "status": "pending"
    },
    "tags": []
   },
   "outputs": [],
   "source": [
    "NTSB_database = avia_mode.drop(columns= [ 'Event Date','Registration Number','Air Carrier','Publication Date'])\n",
    "NTSB_database"
   ]
  },
  {
   "cell_type": "code",
   "execution_count": null,
   "id": "cb2c1d42",
   "metadata": {
    "papermill": {
     "duration": null,
     "end_time": null,
     "exception": null,
     "start_time": null,
     "status": "pending"
    },
    "tags": []
   },
   "outputs": [],
   "source": [
    "NTSB_database['Address'] = NTSB_database['Address'].fillna(NTSB_database['Address'].mode()[0])"
   ]
  },
  {
   "cell_type": "code",
   "execution_count": null,
   "id": "8613acbe",
   "metadata": {
    "papermill": {
     "duration": null,
     "end_time": null,
     "exception": null,
     "start_time": null,
     "status": "pending"
    },
    "tags": []
   },
   "outputs": [],
   "source": [
    "NTSB_database['Weather Condition'] = NTSB_database['Weather Condition'].str.replace('Unk','UNK')\n",
    "NTSB_database['Place'] = NTSB_database['Place'].str.replace('Airport','airport')"
   ]
  },
  {
   "cell_type": "code",
   "execution_count": null,
   "id": "b388f147",
   "metadata": {
    "papermill": {
     "duration": null,
     "end_time": null,
     "exception": null,
     "start_time": null,
     "status": "pending"
    },
    "tags": []
   },
   "outputs": [],
   "source": [
    "NTSB_database.to_csv(r'F:\\Courses\\Data Science\\Omar Hammad Note Books\\MID PROJECT\\NTSB_database.csv',index=False)\n",
    "NTSB_database.isnull().sum()"
   ]
  },
  {
   "cell_type": "markdown",
   "id": "e6ec0948",
   "metadata": {
    "papermill": {
     "duration": null,
     "end_time": null,
     "exception": null,
     "start_time": null,
     "status": "pending"
    },
    "tags": []
   },
   "source": [
    "<div class=\"alert alert-block alert-success\" style=\"background-color: #000000 ; color: white; padding: 10px; border-radius: 5px; border: 1px solid black;\">\n",
    "  <b style=\"font-size: 35px;\"> 🔴now we will start Plotting and Analysis our Data  </b>\n",
    "</div>\n",
    "\n",
    "# 🛫 import our Data After Cleaning  🛬"
   ]
  },
  {
   "cell_type": "code",
   "execution_count": null,
   "id": "a1d1d5de",
   "metadata": {
    "papermill": {
     "duration": null,
     "end_time": null,
     "exception": null,
     "start_time": null,
     "status": "pending"
    },
    "tags": []
   },
   "outputs": [],
   "source": [
    "ntsb = pd.read_csv(rf\"{Main_path}\\NTSB_database.csv\")\n",
    "ntsb"
   ]
  },
  {
   "cell_type": "markdown",
   "id": "c81d58d1",
   "metadata": {
    "papermill": {
     "duration": null,
     "end_time": null,
     "exception": null,
     "start_time": null,
     "status": "pending"
    },
    "tags": []
   },
   "source": [
    "<div class=\"alert alert-block alert-success\" style=\"background-color: #85480E; color: white; padding: 10px; border-radius: 5px; border: 1px solid black;\">\n",
    "  <b style=\"font-size: 35px;\"> 🔴now we will split columns which we did Factorized</b>\n",
    "</div>\n",
    "\n",
    "## 🛫 now we will split columns which we did Factorized  🛬"
   ]
  },
  {
   "cell_type": "code",
   "execution_count": null,
   "id": "80f7b0ff",
   "metadata": {
    "papermill": {
     "duration": null,
     "end_time": null,
     "exception": null,
     "start_time": null,
     "status": "pending"
    },
    "tags": []
   },
   "outputs": [],
   "source": [
    "ntsb_fac = ntsb[['Number Of Engines','Type Aircraft', 'Type Engine', 'Far Description Factorized', 'Schedule Factorized', 'Purpose Of Flight Factorized', 'Make Factorized', 'Model Factorized']]\n",
    "ntsb_fac.to_csv('analysis_fac.csv',index=False)"
   ]
  },
  {
   "cell_type": "code",
   "execution_count": null,
   "id": "95c448f6",
   "metadata": {
    "papermill": {
     "duration": null,
     "end_time": null,
     "exception": null,
     "start_time": null,
     "status": "pending"
    },
    "tags": []
   },
   "outputs": [],
   "source": [
    "ntsb.drop(columns=['Number Of Engines','Type Aircraft', 'Type Engine', 'Far Description Factorized', 'Schedule Factorized', 'Purpose Of Flight Factorized', 'Make Factorized', 'Model Factorized'],inplace=True)"
   ]
  },
  {
   "cell_type": "markdown",
   "id": "664ea6a8",
   "metadata": {
    "papermill": {
     "duration": null,
     "end_time": null,
     "exception": null,
     "start_time": null,
     "status": "pending"
    },
    "tags": []
   },
   "source": [
    "<div class=\"alert alert-block alert-success\" style=\"background-color: #385310; color: white; padding: 10px; border-radius: 5px; border: 1px solid black;\">\n",
    "  <b style=\"font-size: 35px;\"> 🔴now we will make feature Injured Percentage from Total Person</b>\n",
    "</div>\n",
    "\n",
    "## 🛫 Injured Percentage from Total Person  🛬"
   ]
  },
  {
   "cell_type": "code",
   "execution_count": null,
   "id": "cbca7856",
   "metadata": {
    "papermill": {
     "duration": null,
     "end_time": null,
     "exception": null,
     "start_time": null,
     "status": "pending"
    },
    "tags": []
   },
   "outputs": [],
   "source": [
    "# Summing the columns 'Total Fatal Injuries', 'Total Serious Injuries', and 'Total Minor Injuries' to calculate total injuries\n",
    "ntsb['Total Injuries'] = ntsb['Total Fatal Injuries'] + ntsb['Total Serious Injuries'] + ntsb['Total Minor Injuries']"
   ]
  },
  {
   "cell_type": "code",
   "execution_count": null,
   "id": "65e30350",
   "metadata": {
    "papermill": {
     "duration": null,
     "end_time": null,
     "exception": null,
     "start_time": null,
     "status": "pending"
    },
    "tags": []
   },
   "outputs": [],
   "source": [
    "ntsb['Total Person'] = ntsb['Total Fatal Injuries'] + ntsb['Total Serious Injuries'] + ntsb['Total Minor Injuries'] + ntsb['Total Uninjured']"
   ]
  },
  {
   "cell_type": "code",
   "execution_count": null,
   "id": "2c15d99f",
   "metadata": {
    "papermill": {
     "duration": null,
     "end_time": null,
     "exception": null,
     "start_time": null,
     "status": "pending"
    },
    "tags": []
   },
   "outputs": [],
   "source": [
    "# Calculate the percentage of injured people compared to the total number of persons\n",
    "ntsb['Injured Percentage'] = (ntsb['Total Injuries'] / ntsb['Total Person']) * 100\n",
    "# Fill NaN values with 0\n",
    "ntsb['Injured Percentage'] = ntsb['Injured Percentage'].fillna(0)\n",
    "# Check the 'Injured Percentage' column\n",
    "ntsb['Injured Percentage']"
   ]
  },
  {
   "cell_type": "markdown",
   "id": "9b28b917",
   "metadata": {
    "papermill": {
     "duration": null,
     "end_time": null,
     "exception": null,
     "start_time": null,
     "status": "pending"
    },
    "tags": []
   },
   "source": [
    "<div class=\"alert alert-block alert-success\" style=\"background-color: #385340; color: white; padding: 10px; border-radius: 5px; border: 1px solid black;\">\n",
    "  <b style=\"font-size: 35px;\"> 🔴now we will start Plotting and Analysis our Data  </b>\n",
    "</div>\n",
    "\n",
    "# 🛫 now we will start Plotting and Analysis our Data 🛬"
   ]
  },
  {
   "cell_type": "markdown",
   "id": "2fdd5401",
   "metadata": {
    "papermill": {
     "duration": null,
     "end_time": null,
     "exception": null,
     "start_time": null,
     "status": "pending"
    },
    "tags": []
   },
   "source": [
    "<div class=\"alert alert-block alert-success\" style=\"background-color: #531010; color: white; padding: 10px; border-radius: 5px; border: 1px solid black;\">\n",
    "  <b style=\"font-size: 35px;\"> 🔴now we will make Pie chart to show 'Total Injuries' from 'Total Person' </b>\n",
    "</div>\n",
    "\n",
    "## 🛫 Pie chart to show 'Total Injuries' from 'Total Person'  🛬"
   ]
  },
  {
   "cell_type": "code",
   "execution_count": null,
   "id": "28962936",
   "metadata": {
    "papermill": {
     "duration": null,
     "end_time": null,
     "exception": null,
     "start_time": null,
     "status": "pending"
    },
    "tags": []
   },
   "outputs": [],
   "source": [
    "# Grouping and aggregating data\n",
    "grouped_data = ntsb.groupby('Event Year').agg({'Injured Percentage': 'mean', 'Total Injuries': 'sum', 'Total Person': 'sum'}).reset_index()\n",
    "\n",
    "# Pie chart labels\n",
    "labels = ['Total Injuries', 'Total Person']\n",
    "\n",
    "# Pie chart values\n",
    "values = grouped_data[['Total Injuries', 'Total Person']].sum()\n",
    "\n",
    "# Creating the pie chart\n",
    "fig = px.pie(values=values, names=labels, title='Total Injuries vs Total Person')\n",
    "\n",
    "fig.update_layout(\n",
    "        title_font_size=15,  # Increase title font size\n",
    "        font_size=20,  # Increase text font size\n",
    "        width=500,  # Set width of the chart\n",
    "        height=500  # Set height of the chart\n",
    "    )\n",
    "# Show the pie chart\n",
    "fig.show()"
   ]
  },
  {
   "cell_type": "code",
   "execution_count": null,
   "id": "f555045f",
   "metadata": {
    "papermill": {
     "duration": null,
     "end_time": null,
     "exception": null,
     "start_time": null,
     "status": "pending"
    },
    "tags": []
   },
   "outputs": [],
   "source": [
    "ntsb.columns"
   ]
  },
  {
   "cell_type": "markdown",
   "id": "83fc66cf",
   "metadata": {
    "papermill": {
     "duration": null,
     "end_time": null,
     "exception": null,
     "start_time": null,
     "status": "pending"
    },
    "tags": []
   },
   "source": [
    "<div class=\"alert alert-block alert-success\" style=\"background-color: #531010 ; color: white; padding: 10px; border-radius: 5px; border: 1px solid black;\">\n",
    "  <b style=\"font-size: 35px;\"> 🔴 This Loop To make Figure to Html Page For group of columns to show information by Datetime And Count Event Id  , Distribution Points On Map To Every Point  (lat='Latitude', lon='Longitude')  By Columns To Vew Our Informations\n",
    "  > list_columns = ['Event Year', 'Event Month Name', 'Event Day', 'Aircraft Category', 'Far Description', 'Schedule', 'Broad Phase Of Flight', 'Weather Condition', 'Place', 'Season', 'Amateur Built'] and to study Injuries ['Injured Percentage', 'Total Injuries', 'Total Person', 'Total Fatal Injuries', 'Total Serious Injuries', 'Total Minor Injuries', 'Total Uninjured', 'Total Injuries', 'Total Person'] </b>\n",
    "</div>\n",
    "\n",
    "\n",
    "##  🛫 Distribution Points On Map To Every Point  (lat='Latitude', lon='Longitude')  By Columns To Vew Our Informations , Distripution Distripution of count of accident and Injuries & people by  Datetime And Count Event > list_columns = ['Event Year', 'Event Month Name', 'Event Day', 'Aircraft Category', 'Far Description', 'Schedule', 'Broad Phase Of Flight', 'Weather Condition', 'Place', 'Season', 'Amateur Built']]🛬"
   ]
  },
  {
   "cell_type": "code",
   "execution_count": null,
   "id": "ffc4940f",
   "metadata": {
    "papermill": {
     "duration": null,
     "end_time": null,
     "exception": null,
     "start_time": null,
     "status": "pending"
    },
    "tags": []
   },
   "outputs": [],
   "source": [
    "list_columns = ['Event Year', 'Event Month Name', 'Event Day', 'Aircraft Category', 'Far Description', 'Schedule', 'Broad Phase Of Flight', 'Weather Condition', 'Place', 'Season', 'Amateur Built' , 'Purpose Of Flight']\n",
    "ntsb['Event Year Copy'] = ntsb['Event Year']\n",
    "# Delete old HTML files\n",
    "for i in list_columns:\n",
    "    \n",
    "    fig = px.scatter_mapbox(ntsb, lat='Latitude', lon='Longitude', hover_data=['Event Year', 'Event Month', 'Event Day', 'Country', 'City', 'Event Id', 'Aircraft Damage', 'Aircraft Category', 'Weather Condition', 'Place', 'Broad Phase Of Flight', 'Season'], zoom=1, color=i)\n",
    "    fig.update_layout(mapbox_style=\"carto-positron\", title=f\"Distribution Between Latitude and Longitude and {i}\")\n",
    "    fig.write_html(f'{i}_1.html')\n",
    "\n",
    "    count = ntsb[i].value_counts()\n",
    "    fig = px.pie(names=count.index, values=count.values)\n",
    "    fig.update_traces(textposition='inside', textinfo='percent+label')\n",
    "    fig.update_layout(title=f\"Percentages of {i}\")\n",
    "    fig.write_html(f'{i}_2.html')\n",
    "\n",
    "    fig = px.bar(ntsb.groupby(i)['Event Id'].count().reset_index(), x=i, y=['Event Id'], color=i , title=f\"Distribution By Count Of Accident By {i}\")\n",
    "    fig.write_html(f'{i}_3.html')\n",
    "\n",
    "    fig = px.bar(ntsb.groupby([i , 'Event Month'])['Event Id'].count().reset_index(), x=i, y=['Event Id'], color=i , facet_col='Event Month' , title=f\"Distribution By Count Of Accident Over Month And {i}\")\n",
    "    fig.write_html(f'{i}_4.html')\n",
    "\n",
    "    # Line plot with hover information and markers for every year\n",
    "    # Line plot with hover information and markers for every year\n",
    "    fig = px.line(ntsb.groupby(i).agg({'Event Id': 'count', 'Event Year Copy': 'count'}).reset_index(), \n",
    "                x=i, y='Event Id',\n",
    "                title = f\"Distribution By Count Of Accident By {i}\",\n",
    "                markers=True,\n",
    "                hover_data=['Event Year Copy' , i ] , \n",
    "                )\n",
    "    fig.write_html(f'{i}_5.html')\n",
    "\n",
    "    fig = px.scatter(ntsb.groupby(['Event Year Copy', i])['Event Id'].count().reset_index(), \n",
    "                x='Event Year Copy', y='Event Id',\n",
    "                hover_data = ['Event Year Copy', i, 'Event Id'],\n",
    "                color=i, \n",
    "                width=2000, height=600 ,\n",
    "                title=f\"Distribution By Count Of Accident Over Year And {i}\",\n",
    "                )\n",
    "    fig.write_html(f'{i}_6.html') \n",
    "\n",
    "    # Grouping and aggregating data for each metric\n",
    "    grouped_data_1 = ntsb.groupby(i)['Total Fatal Injuries'].sum().reset_index()\n",
    "    grouped_data_2 = ntsb.groupby(i)['Total Serious Injuries'].sum().reset_index()\n",
    "    grouped_data_3 = ntsb.groupby(i)['Total Minor Injuries'].sum().reset_index()\n",
    "    grouped_data_4 = ntsb.groupby(i)['Total Uninjured'].sum().reset_index()\n",
    "    grouped_data_5 = ntsb.groupby(i)['Total Injuries'].sum().reset_index()\n",
    "    grouped_data_6 = ntsb.groupby(i)['Total Person'].sum().reset_index()\n",
    "\n",
    "    # Creating subplots\n",
    "    fig = make_subplots(rows=2, cols=3, subplot_titles=('Total Fatal Injuries', 'Total Serious Injuries', 'Total Minor Injuries', 'Total Uninjured', 'Total Injuries', 'Total Person'))\n",
    "\n",
    "    # Adding each scatter plot to the subplots\n",
    "    fig.add_trace(go.Scatter(x=grouped_data_1[i], y=grouped_data_1['Total Fatal Injuries'], name='Total Fatal Injuries'), row=1, col=1)\n",
    "    fig.add_trace(go.Scatter(x=grouped_data_2[i], y=grouped_data_2['Total Serious Injuries'], name='Total Serious Injuries'), row=1, col=2)\n",
    "    fig.add_trace(go.Scatter(x=grouped_data_3[i], y=grouped_data_3['Total Minor Injuries'], name='Total Minor Injuries'), row=1, col=3)\n",
    "    fig.add_trace(go.Scatter(x=grouped_data_4[i], y=grouped_data_4['Total Uninjured'], name='Total Uninjured'), row=2, col=1)\n",
    "    fig.add_trace(go.Scatter(x=grouped_data_5[i], y=grouped_data_5['Total Injuries'], name='Total Injuries'), row=2, col=2)\n",
    "    fig.add_trace(go.Scatter(x=grouped_data_6[i], y=grouped_data_6['Total Person'], name='Total Person'), row=2, col=3)\n",
    "\n",
    "    # Updating layout\n",
    "    fig.update_layout(title='Scatter Plots for Various Metrics Over :' + i, height=800, width=2000)\n",
    "\n",
    "    # Showing the plot\n",
    "    fig.write_html(f'{i}_7.html')\n",
    "\n",
    "    # Scatter plot with hover information\n",
    "    fig = px.bar(ntsb.groupby(i).agg({'Injured Percentage': 'mean', 'Total Injuries': 'sum', 'Total Person': 'sum', 'Total Fatal Injuries': 'sum', 'Total Serious Injuries': 'sum', 'Total Minor Injuries': 'sum', 'Total Uninjured': 'sum'}).reset_index(),\n",
    "                 x=i, y='Total Injuries',\n",
    "                 color=i,\n",
    "                 title='Average Injured Percentage Over : ' + i,\n",
    "                 )\n",
    "    fig.write_html(f'{i}_8.html')\n",
    "\n",
    "    fig = px.scatter(ntsb,\n",
    "                     x=i, y='Total Injuries',\n",
    "                     hover_data=['Total Injuries', 'Total Person', 'Injured Percentage'],\n",
    "                     color=i,\n",
    "                     title='Average Injured Percentage Over : ' + i\n",
    "                     , marginal_x=\"histogram\", marginal_y=\"box\"\n",
    "                     )\n",
    "    fig.write_html(f'{i}_9.html')\n",
    "\n",
    "    # Line plot with hover information\n",
    "    fig = px.line(ntsb.groupby(i).agg({'Injured Percentage': 'mean', 'Total Injuries': 'sum', 'Total Person': 'sum', 'Total Fatal Injuries': 'sum', 'Total Serious Injuries': 'sum', 'Total Minor Injuries': 'sum', 'Total Uninjured': 'sum'}).reset_index(),\n",
    "                  x=i, y='Total Injuries',\n",
    "                  hover_data=['Total Injuries', 'Total Person', 'Total Fatal Injuries', 'Total Serious Injuries',\n",
    "                              'Total Minor Injuries', 'Total Uninjured', 'Injured Percentage'],\n",
    "                  title='Average Injured Percentage Over : ' + i,\n",
    "                  markers=True\n",
    "\n",
    "                  )\n",
    "    fig.write_html(f'{i}_10.html')\n",
    "\n",
    "    # Grouping and aggregating data\n",
    "    grouped_data = ntsb.groupby(i).agg(\n",
    "        {'Injured Percentage': 'mean', 'Total Injuries': 'sum', 'Total Person': 'sum'}).reset_index()\n",
    "\n",
    "    # Creating a new column for labels\n",
    "    grouped_data['label'] = (grouped_data[i].astype(str) +\n",
    "                             ' - Total Injuries: ' + grouped_data['Total Injuries'].astype(str) +\n",
    "                             ', Total Person: ' + grouped_data['Total Person'].astype(str) +\n",
    "                             ', Injured Percentage: ' + grouped_data['Injured Percentage'].astype(str))\n",
    "\n",
    "    # Sunburst chart\n",
    "    fig = px.sunburst(grouped_data, path=[i, 'label'], values='Total Injuries',\n",
    "                      title='Average Injured Percentage Over : ' + i)\n",
    "\n",
    "    # Customizing layout and appearance\n",
    "    fig.update_layout(\n",
    "        title_font_size=15,  # Increase title font size\n",
    "        font_size=20,  # Increase text font size\n",
    "        width=1000,  # Set width of the chart\n",
    "        height=1000  # Set height of the chart\n",
    "    )\n",
    "\n",
    "    fig.write_html(f'{i}_11.html')\n",
    "\n",
    "    # Line plot with hover information and markers for every year\n",
    "    fig = px.line(grouped_data, x=i, y=['Total Injuries', 'Total Person', 'Injured Percentage'],\n",
    "                  title=\"Lines for ['Total Injuries', 'Total Person', 'Injured Percentage'] By : \" + i, width=2000, height=600, markers=True)\n",
    "    fig.write_html(f'{i}_12.html')\n",
    "    # Open a new HTML file for writing\n",
    "    with open(f'combined_{i}_plots.html', 'w', encoding='utf-8') as combined_file:\n",
    "        # Write the HTML header\n",
    "        combined_file.write('<!DOCTYPE html>\\n')\n",
    "        combined_file.write('<html lang=\"en\">\\n')\n",
    "        combined_file.write('<head>\\n')\n",
    "        combined_file.write('<meta charset=\"UTF-8\">\\n')\n",
    "        combined_file.write('<meta name=\"viewport\" content=\"width=device-width, initial-scale=1.0\">\\n')\n",
    "        combined_file.write(f'<title>Combined Plots for {i}</title>\\n')\n",
    "        combined_file.write('</head>\\n')\n",
    "        combined_file.write('<body>\\n')\n",
    "\n",
    "        # Write a heading for the combined plots page\n",
    "        combined_file.write(f'<h1>Combined Plots for {i}</h1>\\n')\n",
    "\n",
    "        # Write iframe tags for each HTML file\n",
    "        for j in range(1, 13):\n",
    "            html_file = f'{i}_{j}.html'\n",
    "            if os.path.exists(html_file):\n",
    "                with open(html_file, 'r', encoding='utf-8') as f:\n",
    "                    combined_file.write(f.read())\n",
    "\n",
    "        # Write the closing tags\n",
    "        combined_file.write('</body>\\n')\n",
    "        combined_file.write('</html>\\n')\n",
    "\n",
    "    # Delete old HTML files\n",
    "    old_files = [f'{i}_1.html', f'{i}_2.html', f'{i}_3.html', f'{i}_4.html', f'{i}_5.html', f'{i}_6.html',f'{i}_7.html', f'{i}_8.html' , f'{i}_9.html' , f'{i}_10.html' , f'{i}_11.html' ,f'{i}_12.html']\n",
    "    for file in old_files:\n",
    "        if os.path.exists(file):\n",
    "            os.remove(file)\n",
    "\n",
    "    # Print a message indicating that the combined plots HTML file has been generated\n",
    "    print(f\"Combined plots HTML file for {i} generated successfully and old HTML files deleted.\")\n"
   ]
  },
  {
   "cell_type": "markdown",
   "id": "c2ac9aad",
   "metadata": {
    "papermill": {
     "duration": null,
     "end_time": null,
     "exception": null,
     "start_time": null,
     "status": "pending"
    },
    "tags": []
   },
   "source": [
    "<div class=\"alert alert-block alert-success\" style=\"background-color: #E74C3C ; color: white; padding: 10px; border-radius: 5px; border: 1px solid black;\">\n",
    "  <b style=\"font-size: 35px;\"> 🔴 This Loop To make Figure to Html Page For group of columns to show information by Datetime And Count Event Id  , Distribution Points On Map To Every Point  (lat='Latitude', lon='Longitude')  By Columns To Vew Our Informations\n",
    "   > l = ['Country', 'City'] and to study Injuries []'Injured Percentage', 'Total Injuries', 'Total Person', 'Total Fatal Injuries', 'Total Serious Injuries', 'Total Minor Injuries', 'Total Uninjured', 'Total Injuries', 'Total Person']</b>\n",
    "</div>\n",
    "\n",
    "\n",
    "## 🛫 Distribution Points On Map To Every Point  (lat='Latitude', lon='Longitude')  By Columns To Vew Our Informations , Distripution of count of accident and Injuries & people by  Datetime And Count Event > l = ['Country', 'City']🛬"
   ]
  },
  {
   "cell_type": "code",
   "execution_count": null,
   "id": "34547f53",
   "metadata": {
    "papermill": {
     "duration": null,
     "end_time": null,
     "exception": null,
     "start_time": null,
     "status": "pending"
    },
    "tags": []
   },
   "outputs": [],
   "source": [
    "l = ['Country']\n",
    "for i in l:\n",
    "    # Distribution Between Latitude and Longitude and Country\n",
    "    fig = px.scatter_mapbox(ntsb, \n",
    "                            lat='Latitude', \n",
    "                            lon='Longitude', \n",
    "                            hover_data=['Event Year', 'Event Month', 'Event Day', 'Country', 'City', 'Event Id', 'Aircraft Damage', 'Aircraft Category', 'Weather Condition', 'Place', 'Broad Phase Of Flight', 'Season'], \n",
    "                            zoom=1, \n",
    "                            color=\"Country\", \n",
    "                            title=f\"Distribution Between Latitude and Longitude and {i}\")\n",
    "    # Customize layout\n",
    "    fig.update_layout(mapbox_style=\"carto-positron\")\n",
    "    fig.write_html(f'{i}_1.html')\n",
    "\n",
    "\n",
    "    # Percentages of Country\n",
    "    count = ntsb[\"Country\"].value_counts()\n",
    "    fig = px.pie(names=count.index, values=count.values)\n",
    "    fig.update_traces(textposition='inside', textinfo='percent+label')\n",
    "    fig.update_layout(title=f\"Percentages of {i}\")\n",
    "    fig.write_html(f'{i}_2.html')\n",
    "\n",
    "    # Grouping and aggregating data for each metric\n",
    "    grouped_data_1 = ntsb.groupby(i)['Total Fatal Injuries'].sum().reset_index().nlargest(50, 'Total Fatal Injuries')\n",
    "    grouped_data_2 = ntsb.groupby(i)['Total Serious Injuries'].sum().reset_index().nlargest(50, 'Total Serious Injuries')\n",
    "    grouped_data_3 = ntsb.groupby(i)['Total Minor Injuries'].sum().reset_index().nlargest(50, 'Total Minor Injuries')\n",
    "    grouped_data_4 = ntsb.groupby(i)['Total Uninjured'].sum().reset_index().nlargest(50, 'Total Uninjured')\n",
    "    grouped_data_5 = ntsb.groupby(i)['Total Injuries'].sum().reset_index().nlargest(50, 'Total Injuries')\n",
    "    grouped_data_6 = ntsb.groupby(i)['Total Person'].sum().reset_index().nlargest(50, 'Total Person')\n",
    "\n",
    "    # Creating subplots\n",
    "    fig = make_subplots(rows=2, cols=3, subplot_titles=('Total Fatal Injuries', 'Total Serious Injuries', 'Total Minor Injuries', 'Total Uninjured', 'Total Injuries', 'Total Person'))\n",
    "\n",
    "    # Adding each bar plot to the subplots\n",
    "    fig.add_trace(go.Scatter(x=grouped_data_1[i], y=grouped_data_1['Total Fatal Injuries'], name='Total Fatal Injuries'), row=1, col=1)\n",
    "    fig.add_trace(go.Scatter(x=grouped_data_2[i], y=grouped_data_2['Total Serious Injuries'], name='Total Serious Injuries'), row=1, col=2)\n",
    "    fig.add_trace(go.Scatter(x=grouped_data_3[i], y=grouped_data_3['Total Minor Injuries'], name='Total Minor Injuries'), row=1, col=3)\n",
    "    fig.add_trace(go.Scatter(x=grouped_data_4[i], y=grouped_data_4['Total Uninjured'], name='Total Uninjured'), row=2, col=1)\n",
    "    fig.add_trace(go.Scatter(x=grouped_data_5[i], y=grouped_data_5['Total Injuries'], name='Total Injuries'), row=2, col=2)\n",
    "    fig.add_trace(go.Scatter(x=grouped_data_6[i], y=grouped_data_6['Total Person'], name='Total Person'), row=2, col=3)\n",
    "\n",
    "    # Updating layout\n",
    "    fig.update_layout(title=f'Bar Plots for Various Metrics Over {i}', height=800, width=2000)\n",
    "\n",
    "    # Write the HTML file for bar plots\n",
    "    fig.write_html(f'{i}_3.html')\n",
    "\n",
    "    # Scatter plot with hover information\n",
    "    fig = px.bar(ntsb.groupby(i).agg({'Injured Percentage': 'mean', 'Total Injuries': 'sum', 'Total Person': 'sum', 'Total Fatal Injuries': 'sum', 'Total Serious Injuries': 'sum', 'Total Minor Injuries': 'sum', 'Total Uninjured': 'sum'}).reset_index(),\n",
    "                 x=i, y='Total Injuries',\n",
    "                 color=i,\n",
    "                 title='Average Injured Percentage Over : ' + i,\n",
    "                 )\n",
    "    fig.write_html(f'{i}_4.html')\n",
    "\n",
    "    # Plotting the line plot with hover information\n",
    "    fig = px.scatter(ntsb.groupby(i).agg({'Injured Percentage': 'mean', 'Total Injuries': 'sum', 'Total Person': 'sum' ,'Total Fatal Injuries':'sum','Total Serious Injuries':'sum' , 'Total Minor Injuries':'sum','Total Uninjured':'sum' }).reset_index().nlargest(50,'Total Person'), \n",
    "                    x=i, \n",
    "                    y='Injured Percentage', \n",
    "                    hover_data=['Total Injuries', 'Total Person' , 'Total Fatal Injuries','Total Serious Injuries' , 'Total Minor Injuries','Total Uninjured'], \n",
    "                    color=i, \n",
    "                    title=f'Average Injured Percentage  by {i}',\n",
    "                    marginal_x=\"histogram\", marginal_y=\"box\" \n",
    "                    )\n",
    "\n",
    "    # Write the HTML file for scatter plot\n",
    "    fig.write_html(f'{i}_5.html')\n",
    "\n",
    "    # Grouped data for line plot\n",
    "    grouped_data = ntsb.groupby(i).agg({'Injured Percentage': 'mean', 'Total Injuries': 'sum', 'Total Person': 'sum'}).reset_index().nlargest(50,'Total Person')\n",
    "\n",
    "    # Line plot with hover information\n",
    "    fig = px.line(ntsb.groupby(i).agg({'Injured Percentage': 'mean', 'Total Injuries': 'sum', 'Total Person': 'sum', 'Total Fatal Injuries': 'sum', 'Total Serious Injuries': 'sum', 'Total Minor Injuries': 'sum', 'Total Uninjured': 'sum'}).reset_index(),\n",
    "                  x=i, y='Total Injuries',\n",
    "                  hover_data=['Total Injuries', 'Total Person', 'Total Fatal Injuries', 'Total Serious Injuries',\n",
    "                              'Total Minor Injuries', 'Total Uninjured', 'Injured Percentage'],\n",
    "                  title='Average Injured Percentage Over : ' + i,\n",
    "                  markers=True\n",
    "\n",
    "                  )\n",
    "    fig.write_html(f'{i}_6.html')\n",
    "\n",
    "    # Line plot with hover information and markers for every year\n",
    "    fig = px.line(grouped_data, x=i, y=['Total Injuries', 'Total Person', 'Injured Percentage'],\n",
    "                  title=\"Lines for ['Total Injuries', 'Total Person', 'Injured Percentage'] By : \" + i, width=2000, height=600, markers=True)\n",
    "\n",
    "    fig.write_html(f'{i}_7.html')\n",
    "\n",
    "    fig = px.scatter(ntsb.groupby([i ,'Event Year']).agg({'Injured Percentage': 'mean', 'Total Injuries': 'sum', 'Total Person': 'sum' ,'Total Fatal Injuries':'sum','Total Serious Injuries':'sum' , 'Total Minor Injuries':'sum','Total Uninjured':'sum' }).reset_index().nlargest(50,'Total Person'), \n",
    "                x=i,\n",
    "                y='Event Year',\n",
    "                hover_data=['Total Injuries', 'Total Person' , 'Total Fatal Injuries','Total Serious Injuries' , 'Total Minor Injuries','Total Uninjured' , 'Event Year'],\n",
    "                color='Event Year',\n",
    "                title=f\"Distribution By Count Of Accident Over Year And {i}\",\n",
    "                width=2000, \n",
    "                height=600,\n",
    "                )\n",
    "    # Write the HTML file for scatter plot\n",
    "    fig.write_html(f'{i}_8.html')\n",
    "\n",
    "    with open(f'combined_{i}_plots.html', 'w', encoding='utf-8') as combined_file:\n",
    "        # Write the HTML header\n",
    "        combined_file.write('<!DOCTYPE html>\\n')\n",
    "        combined_file.write('<html lang=\"en\">\\n')\n",
    "        combined_file.write('<head>\\n')\n",
    "        combined_file.write('<meta charset=\"UTF-8\">\\n')\n",
    "        combined_file.write('<meta name=\"viewport\" content=\"width=device-width, initial-scale=1.0\">\\n')\n",
    "        combined_file.write(f'<title>Combined Plots for {i}</title>\\n')            \n",
    "        combined_file.write('</head>\\n')\n",
    "        combined_file.write('<body>\\n')\n",
    "\n",
    "        # Write a heading for the combined plots page\n",
    "        combined_file.write(f'<h1>Combined Plots for {i}</h1>\\n')\n",
    "\n",
    "        # Write iframe tags for each HTML file\n",
    "        for j in range(1, 9):\n",
    "            html_file = f'{i}_{j}.html'\n",
    "            if os.path.exists(html_file):\n",
    "                with open(html_file, 'r', encoding='utf-8') as f:\n",
    "                    combined_file.write(f.read())\n",
    "\n",
    "        # Write the closing tags\n",
    "        combined_file.write('</body>\\n')\n",
    "        combined_file.write('</html>\\n')\n",
    "\n",
    "    # Delete old HTML files\n",
    "    old_files = [f'{i}_1.html', f'{i}_2.html', f'{i}_3.html', f'{i}_4.html', f'{i}_5.html', f'{i}_6.html', f'{i}_7.html' , f'{i}_8.html']\n",
    "    for file in old_files:\n",
    "        if os.path.exists(file):\n",
    "            os.remove(file)\n",
    "\n",
    "    # Print a message indicating that the combined plots HTML file has been generated\n",
    "    print(f\"Combined plots HTML file for {i} generated successfully and old HTML files deleted.\")\n"
   ]
  },
  {
   "cell_type": "code",
   "execution_count": null,
   "id": "84ec6fd0",
   "metadata": {
    "papermill": {
     "duration": null,
     "end_time": null,
     "exception": null,
     "start_time": null,
     "status": "pending"
    },
    "tags": []
   },
   "outputs": [],
   "source": [
    "ntsb.columns"
   ]
  },
  {
   "cell_type": "markdown",
   "id": "43751278",
   "metadata": {
    "papermill": {
     "duration": null,
     "end_time": null,
     "exception": null,
     "start_time": null,
     "status": "pending"
    },
    "tags": []
   },
   "source": [
    "## 🛫City🛬"
   ]
  },
  {
   "cell_type": "code",
   "execution_count": null,
   "id": "771e94b1",
   "metadata": {
    "papermill": {
     "duration": null,
     "end_time": null,
     "exception": null,
     "start_time": null,
     "status": "pending"
    },
    "tags": []
   },
   "outputs": [],
   "source": [
    "\n",
    "l = [\"City\"]\n",
    "\n",
    "# Aggregate the data by city and count the number of events\n",
    "city_counts = ntsb.groupby('City').agg({'Total Injuries': 'sum'}).reset_index()\n",
    "\n",
    "# Select the top 50 cities with the highest number of events\n",
    "top_50_cities = city_counts.nlargest(50, 'Total Injuries')['City']\n",
    "\n",
    "# Filter the original DataFrame to include only events from the top 50 cities\n",
    "ntsb_top_50 = ntsb[ntsb['City'].isin(top_50_cities)]\n",
    "\n",
    "# Iterate over each city in the top 50 cities\n",
    "for i in l:\n",
    "    # Distribution Between Latitude and Longitude and Country\n",
    "    fig = px.scatter_mapbox(ntsb, \n",
    "                            lat='Latitude', \n",
    "                            lon='Longitude', \n",
    "                            hover_data=['Event Year', 'Event Month', 'Event Day', 'Country', 'City', 'Event Id', 'Aircraft Damage', 'Aircraft Category', 'Weather Condition', 'Place', 'Broad Phase Of Flight', 'Season'], \n",
    "                            zoom=1, \n",
    "                            color=\"Country\", \n",
    "                            title=f\"Distribution Between Latitude and Longitude and {i}\")\n",
    "    # Customize layout\n",
    "    fig.update_layout(mapbox_style=\"carto-positron\")\n",
    "    fig.write_html(f'{i}_1.html')\n",
    "\n",
    "    # Percentages of Country\n",
    "    count = ntsb_top_50[i].value_counts()\n",
    "    fig = px.pie(names=count.index, values=count.values)\n",
    "    fig.update_traces(textposition='inside', textinfo='percent+label')\n",
    "    fig.update_layout(title=f\"Percentages of {i}\")\n",
    "    fig.write_html(f'{i}_2.html')\n",
    "\n",
    "    # Grouping and aggregating data for each metric\n",
    "    grouped_data_1 = ntsb_top_50.groupby(i)['Total Fatal Injuries'].sum().reset_index().nlargest(50, 'Total Fatal Injuries')\n",
    "    grouped_data_2 = ntsb_top_50.groupby(i)['Total Serious Injuries'].sum().reset_index().nlargest(50, 'Total Serious Injuries')\n",
    "    grouped_data_3 = ntsb_top_50.groupby(i)['Total Minor Injuries'].sum().reset_index().nlargest(50, 'Total Minor Injuries')\n",
    "    grouped_data_4 = ntsb_top_50.groupby(i)['Total Uninjured'].sum().reset_index().nlargest(50, 'Total Uninjured')\n",
    "    grouped_data_5 = ntsb_top_50.groupby(i)['Total Injuries'].sum().reset_index().nlargest(50, 'Total Injuries')\n",
    "    grouped_data_6 = ntsb_top_50.groupby(i)['Total Person'].sum().reset_index().nlargest(50, 'Total Person')\n",
    "\n",
    "    # Creating subplots\n",
    "    fig = make_subplots(rows=2, cols=3, subplot_titles=('Total Fatal Injuries', 'Total Serious Injuries', 'Total Minor Injuries', 'Total Uninjured', 'Total Injuries', 'Total Person'))\n",
    "\n",
    "    # Adding each bar plot to the subplots\n",
    "    fig.add_trace(go.Scatter(x=grouped_data_1[i], y=grouped_data_1['Total Fatal Injuries'], name='Total Fatal Injuries'), row=1, col=1)\n",
    "    fig.add_trace(go.Scatter(x=grouped_data_2[i], y=grouped_data_2['Total Serious Injuries'], name='Total Serious Injuries'), row=1, col=2)\n",
    "    fig.add_trace(go.Scatter(x=grouped_data_3[i], y=grouped_data_3['Total Minor Injuries'], name='Total Minor Injuries'), row=1, col=3)\n",
    "    fig.add_trace(go.Scatter(x=grouped_data_4[i], y=grouped_data_4['Total Uninjured'], name='Total Uninjured'), row=2, col=1)\n",
    "    fig.add_trace(go.Scatter(x=grouped_data_5[i], y=grouped_data_5['Total Injuries'], name='Total Injuries'), row=2, col=2)\n",
    "    fig.add_trace(go.Scatter(x=grouped_data_6[i], y=grouped_data_6['Total Person'], name='Total Person'), row=2, col=3)\n",
    "\n",
    "    # Updating layout\n",
    "    fig.update_layout(title=f'Bar Plots for Various Metrics Over {i}', height=800, width=2000)\n",
    "\n",
    "    # Write the HTML file for bar plots\n",
    "    fig.write_html(f'{i}_3.html')\n",
    "\n",
    "    # Scatter plot with hover information\n",
    "    # Check if the columns exist in grouped_data before aggregation\n",
    "    if 'Total Fatal Injuries' in grouped_data.columns and 'Total Minor Injuries' in grouped_data.columns and 'Total Serious Injuries' in grouped_data.columns and 'Total Uninjured' in grouped_data.columns:\n",
    "        # Aggregate the data\n",
    "        agg_data = grouped_data.agg({'Injured Percentage': 'mean', 'Total Injuries': 'sum', 'Total Person': 'sum', 'Total Fatal Injuries': 'sum', 'Total Serious Injuries': 'sum', 'Total Minor Injuries': 'sum', 'Total Uninjured': 'sum'}).reset_index()\n",
    "        # Plot the bar chart\n",
    "        fig = px.bar(agg_data,\n",
    "                    x=i, y='Total Injuries',\n",
    "                    color=i,\n",
    "                    title='Average Injured Percentage Over : ' + i,\n",
    "                    )\n",
    "        fig.write_html(f'{i}_4.html')\n",
    "    else:\n",
    "        print(\"Some required columns do not exist in the DataFrame.\")\n",
    "\n",
    "    # Plotting the line plot with hover information\n",
    "    fig = px.scatter(ntsb_top_50.groupby(i).agg({'Injured Percentage': 'mean', 'Total Injuries': 'sum', 'Total Person': 'sum' ,'Total Fatal Injuries':'sum','Total Serious Injuries':'sum' , 'Total Minor Injuries':'sum','Total Uninjured':'sum' }).reset_index().nlargest(50,'Total Person'), \n",
    "                    x=i, \n",
    "                    y='Injured Percentage', \n",
    "                    hover_data=['Total Injuries', 'Total Person' , 'Total Fatal Injuries','Total Serious Injuries' , 'Total Minor Injuries','Total Uninjured'], \n",
    "                    color=i, \n",
    "                    title=f'Average Injured Percentage  by {i}',\n",
    "                    marginal_x=\"histogram\", marginal_y=\"box\" \n",
    "                    )\n",
    "\n",
    "    # Write the HTML file for scatter plot\n",
    "    fig.write_html(f'{i}_5.html')\n",
    "\n",
    "\n",
    "    # Line plot with hover information\n",
    "    fig = px.line(ntsb_top_50.groupby(i).agg({'Injured Percentage': 'mean', 'Total Injuries': 'sum', 'Total Person': 'sum' ,'Total Fatal Injuries':'sum','Total Serious Injuries':'sum' , 'Total Minor Injuries':'sum','Total Uninjured':'sum'}).reset_index().nlargest(50,'Total Person'),\n",
    "                  x=i, y='Total Injuries',\n",
    "                  hover_data=['Total Injuries', 'Total Person', 'Total Fatal Injuries', 'Total Serious Injuries',\n",
    "                              'Total Minor Injuries', 'Total Uninjured', 'Injured Percentage'],\n",
    "                  title='Average Injured Percentage Over : ' + i,\n",
    "                  markers=True\n",
    "                  )\n",
    "    fig.write_html(f'{i}_6.html')\n",
    "\n",
    "    # Line plot with hover information and markers for every year\n",
    "    fig = px.line(grouped_data, x=i, y=['Total Injuries', 'Total Person', 'Injured Percentage'],\n",
    "                  title=\"Lines for ['Total Injuries', 'Total Person', 'Injured Percentage'] By : \" + i, width=2000, height=600, markers=True)\n",
    "\n",
    "    fig.write_html(f'{i}_7.html')\n",
    "\n",
    "    fig = px.scatter(ntsb_top_50.groupby([i ,'Event Year']).agg({'Injured Percentage': 'mean', 'Total Injuries': 'sum', 'Total Person': 'sum' ,'Total Fatal Injuries':'sum','Total Serious Injuries':'sum' , 'Total Minor Injuries':'sum','Total Uninjured':'sum' }).reset_index().nlargest(50,'Total Person'), \n",
    "                x=i,\n",
    "                y='Event Year',\n",
    "                hover_data=['Total Injuries', 'Total Person' , 'Total Fatal Injuries','Total Serious Injuries' , 'Total Minor Injuries','Total Uninjured' , 'Event Year'],\n",
    "                color='Event Year',\n",
    "                title=f\"Distribution By Count Of Accident Over Year And {i}\",\n",
    "                width=2000, \n",
    "                height=600,\n",
    "                )\n",
    "    # Write the HTML file for scatter plot\n",
    "    fig.write_html(f'{i}_8.html')\n",
    "\n",
    "    with open(f'combined_{i}_plots.html', 'w', encoding='utf-8') as combined_file:\n",
    "        # Write the HTML header\n",
    "        combined_file.write('<!DOCTYPE html>\\n')\n",
    "        combined_file.write('<html lang=\"en\">\\n')\n",
    "        combined_file.write('<head>\\n')\n",
    "        combined_file.write('<meta charset=\"UTF-8\">\\n')\n",
    "        combined_file.write('<meta name=\"viewport\" content=\"width=device-width, initial-scale=1.0\">\\n')\n",
    "        combined_file.write(f'<title>Combined Plots for {i}</title>\\n')            \n",
    "        combined_file.write('</head>\\n')\n",
    "        combined_file.write('<body>\\n')\n",
    "\n",
    "        # Write a heading for the combined plots page\n",
    "        combined_file.write(f'<h1>Combined Plots for {i}</h1>\\n')\n",
    "\n",
    "        # Write iframe tags for each HTML file\n",
    "        for j in range(1, 9):\n",
    "            html_file = f'{i}_{j}.html'\n",
    "            if os.path.exists(html_file):\n",
    "                with open(html_file, 'r', encoding='utf-8') as f:\n",
    "                    combined_file.write(f.read())\n",
    "\n",
    "        # Write the closing tags\n",
    "        combined_file.write('</body>\\n')\n",
    "        combined_file.write('</html>\\n')\n",
    "\n",
    "    # Delete old HTML files\n",
    "    old_files = [f'{i}_1.html', f'{i}_2.html', f'{i}_3.html', f'{i}_4.html', f'{i}_5.html', f'{i}_6.html', f'{i}_7.html' , f'{i}_8.html']\n",
    "    for file in old_files:\n",
    "        if os.path.exists(file):\n",
    "            os.remove(file)\n",
    "\n",
    "    # Print a message indicating that the combined plots HTML file has been generated\n",
    "    print(f\"Combined plots HTML file for {i} generated successfully and old HTML files deleted.\")\n"
   ]
  },
  {
   "cell_type": "markdown",
   "id": "07bca4e3",
   "metadata": {
    "papermill": {
     "duration": null,
     "end_time": null,
     "exception": null,
     "start_time": null,
     "status": "pending"
    },
    "tags": []
   },
   "source": [
    "<div class=\"alert alert-block alert-success\" style=\"background-color: #D35400; color: white; padding: 10px; border-radius: 5px; border: 1px solid black;\">\n",
    "  <b style=\"font-size: 35px;\"> 🔴 This Loop To make Figure to Html Page For group of columns to show information by Datetime And Count Event Id  , Distribution Points On Map To Every Point  (lat='Latitude', lon='Longitude')  By Columns To Vew Our Informations\n",
    "   > pub = ['Publication Year','Publication Month Name','Publication Day', 'Date Difference']  </b>\n",
    "</div>\n",
    "\n",
    "\n",
    "## 🛫 Distribution Points On Map To Every Point  (lat='Latitude', lon='Longitude')  By Columns To Vew Our Informations , Distripution by  Datetime And Count Event > pub = ['Publication Year','Publication Month Name','Publication Day', 'Date Difference']  🛬"
   ]
  },
  {
   "cell_type": "code",
   "execution_count": null,
   "id": "51d96fc1",
   "metadata": {
    "papermill": {
     "duration": null,
     "end_time": null,
     "exception": null,
     "start_time": null,
     "status": "pending"
    },
    "tags": []
   },
   "outputs": [],
   "source": [
    "pub = ['Publication Year','Publication Month Name','Publication Day', 'Date Difference']  \n",
    "ntsb['Publication Year Copy'] = ntsb['Publication Year'] \n",
    "for i in pub :\n",
    "\n",
    "    fig = px.scatter_mapbox(ntsb, lat='Latitude', lon='Longitude', hover_data=['Publication Year','Publication Month Name','Publication Day', 'Date Difference', 'Country', 'City', 'Event Id', 'Aircraft Damage', 'Aircraft Category', 'Weather Condition', 'Place', 'Broad Phase Of Flight', 'Season'], zoom=1, color=i)\n",
    "    fig.update_layout(mapbox_style=\"carto-positron\", title=f\"Distribution Between Latitude and Longitude and {i}\")\n",
    "    fig.write_html(f'{i}_1.html')\n",
    "\n",
    "    count = ntsb[i].value_counts()\n",
    "    fig = px.pie(names=count.index, values=count.values)\n",
    "    fig.update_traces(textposition='inside', textinfo='percent+label')\n",
    "    fig.update_layout(title=f\"Percentages of {i}\")\n",
    "    fig.write_html(f'{i}_2.html')\n",
    "\n",
    "    fig = px.bar(ntsb.groupby(i)['Event Id'].count().reset_index(), x=i, y=['Event Id'], color=i , title=f\"Distribution By Count Of Accident By {i}\")\n",
    "    fig.write_html(f'{i}_3.html')\n",
    "\n",
    "    fig = px.bar(ntsb.groupby([i , 'Publication Month'])['Event Id'].count().reset_index(), x=i, y=['Event Id'], color=i , facet_col='Publication Month' , title=f\"Distribution By Count Of Accident By Publication Month And {i}\")\n",
    "    fig.write_html(f'{i}_4.html')\n",
    "\n",
    "    # Line plot with hover information and markers for every year\n",
    "    # Line plot with hover information and markers for every year\n",
    "    fig = px.line(ntsb.groupby(i).agg({'Event Id': 'count', 'Publication Year Copy': 'count'}).reset_index(), \n",
    "                x=i, y='Event Id',\n",
    "                title=f\"Line By Count Of Accident By Publication Year And {i}\",\n",
    "                markers=True,\n",
    "                hover_data=['Publication Year Copy' , i] \n",
    "                )\n",
    "    fig.write_html(f'{i}_5.html')\n",
    "\n",
    "    fig = px.scatter(ntsb.groupby(['Publication Year Copy', i])['Event Id'].count().reset_index(), \n",
    "                x='Publication Year Copy', y='Event Id',\n",
    "                hover_data = ['Publication Year Copy', i, 'Event Id'],\n",
    "                color=i,\n",
    "                title=f\"Distribution By Count Of Accident Over Year And {i}\" ,\n",
    "                width=2000, height=600,\n",
    "                \n",
    "                )\n",
    "    fig.write_html(f'{i}_6.html') \n",
    "\n",
    "    with open(f'combined_{i}_plots.html', 'w', encoding='utf-8') as combined_file:\n",
    "        # Write the HTML header\n",
    "        combined_file.write('<!DOCTYPE html>\\n')\n",
    "        combined_file.write('<html lang=\"en\">\\n')\n",
    "        combined_file.write('<head>\\n')\n",
    "        combined_file.write('<meta charset=\"UTF-8\">\\n')\n",
    "        combined_file.write('<meta name=\"viewport\" content=\"width=device-width, initial-scale=1.0\">\\n')\n",
    "        combined_file.write(f'<title>Combined Plots for {i}</title>\\n')\n",
    "        combined_file.write('</head>\\n')\n",
    "        combined_file.write('<body>\\n')\n",
    "\n",
    "        # Write a heading for the combined plots page\n",
    "        combined_file.write(f'<h1>Combined Plots for {i}</h1>\\n')\n",
    "\n",
    "        # Write iframe tags for each HTML file\n",
    "        for j in range(1, 7):\n",
    "            html_file = f'{i}_{j}.html'\n",
    "            if os.path.exists(html_file):\n",
    "                with open(html_file, 'r', encoding='utf-8') as f:\n",
    "                    combined_file.write(f.read())\n",
    "\n",
    "        # Write the closing tags\n",
    "        combined_file.write('</body>\\n')\n",
    "        combined_file.write('</html>\\n')\n",
    "\n",
    "    # Delete old HTML files\n",
    "    old_files = [f'{i}_1.html', f'{i}_2.html', f'{i}_3.html', f'{i}_4.html', f'{i}_5.html' , f'{i}_6.html']\n",
    "    for file in old_files:\n",
    "        if os.path.exists(file):\n",
    "            os.remove(file)\n",
    "\n",
    "    # Print a message indicating that the combined plots HTML file has been generated\n",
    "    print(f\"Combined plots HTML file for {i} generated successfully and old HTML files deleted.\")"
   ]
  },
  {
   "cell_type": "markdown",
   "id": "c2c85fbe",
   "metadata": {
    "papermill": {
     "duration": null,
     "end_time": null,
     "exception": null,
     "start_time": null,
     "status": "pending"
    },
    "tags": []
   },
   "source": [
    "<div class=\"alert alert-block alert-success\" style=\"background-color: #145A32; color: white; padding: 10px; border-radius: 5px; border: 1px solid black;\">\n",
    "  <b style=\"font-size: 35px;\"> 🔴now we will Plotting to show information by Datetime And Count Event Id , Number Of Seats , 'Injured Percentage', 'Total Injuries', 'Total Person', 'Total Fatal Injuries', 'Total Serious Injuries', 'Total Minor Injuries', 'Total Uninjured', 'Total Injuries', 'Total Person'</b>\n",
    "</div>\n",
    "\n",
    "## 🛫 Make and Model  🛬\n",
    "\n",
    "## 🛫 Plotting for  'Make', 'Model' to show  all Injuries and Percentage , Total People 🛬"
   ]
  },
  {
   "cell_type": "code",
   "execution_count": null,
   "id": "9af46594",
   "metadata": {
    "papermill": {
     "duration": null,
     "end_time": null,
     "exception": null,
     "start_time": null,
     "status": "pending"
    },
    "tags": []
   },
   "outputs": [],
   "source": [
    "grouped_data = ntsb.groupby(['Make', 'Model']).agg({'Injured Percentage': 'mean', 'Total Injuries': 'sum', 'Total Person': 'sum', 'Total Fatal Injuries': 'sum', 'Total Serious Injuries': 'sum', 'Total Minor Injuries': 'sum', 'Total Uninjured': 'sum'}).reset_index().nlargest(200, 'Total Person')\n",
    "\n",
    "# Plotting using Plotly scatter_mapbox\n",
    "fig = px.scatter(grouped_data, x='Make', y='Total Person', hover_data=['Injured Percentage', 'Total Injuries', 'Total Person', 'Total Fatal Injuries', 'Total Serious Injuries', 'Total Minor Injuries', 'Total Uninjured', 'Total Injuries', 'Total Person', 'Make', 'Model'], color='Make')\n",
    "fig.show()\n"
   ]
  },
  {
   "cell_type": "markdown",
   "id": "29212db8",
   "metadata": {
    "papermill": {
     "duration": null,
     "end_time": null,
     "exception": null,
     "start_time": null,
     "status": "pending"
    },
    "tags": []
   },
   "source": [
    "<div class=\"alert alert-block alert-success\" style=\"background-color: #2980B9; color: white; padding: 10px; border-radius: 5px; border: 1px solid black;\">\n",
    "  <b style=\"font-size: 35px;\"> 🔴now we will Plotting to show information by Datetime And Count Event Id , Number Of Seats , 'Injured Percentage', 'Total Injuries', 'Total Person', 'Total Fatal Injuries', 'Total Serious Injuries', 'Total Minor Injuries', 'Total Uninjured', 'Total Injuries', 'Total Person'</b>\n",
    "</div>\n",
    "\n",
    "\n",
    "## 🛫 Plotting for  'Make' to show  all Injuries and Percentage , Total People 🛬"
   ]
  },
  {
   "cell_type": "code",
   "execution_count": null,
   "id": "64d5d9c4",
   "metadata": {
    "papermill": {
     "duration": null,
     "end_time": null,
     "exception": null,
     "start_time": null,
     "status": "pending"
    },
    "tags": []
   },
   "outputs": [],
   "source": [
    "grouped_data = ntsb.groupby(['Make']).agg({'Injured Percentage': 'mean', 'Total Injuries': 'sum', 'Total Person': 'sum', 'Total Fatal Injuries': 'sum', 'Total Serious Injuries': 'sum', 'Total Minor Injuries': 'sum', 'Total Uninjured': 'sum'}).reset_index().nlargest(50, 'Total Person')\n",
    "\n",
    "# Plotting using Plotly scatter_mapbox\n",
    "fig = px.bar(grouped_data, x='Make', y='Total Person', hover_data=['Injured Percentage', 'Total Injuries', 'Total Person', 'Total Fatal Injuries', 'Total Serious Injuries', 'Total Minor Injuries', 'Total Uninjured', 'Total Injuries', 'Total Person', 'Make'], color='Make')\n",
    "fig.show()"
   ]
  },
  {
   "cell_type": "markdown",
   "id": "74b8c1ca",
   "metadata": {
    "papermill": {
     "duration": null,
     "end_time": null,
     "exception": null,
     "start_time": null,
     "status": "pending"
    },
    "tags": []
   },
   "source": [
    "<div class=\"alert alert-block alert-success\" style=\"background-color: #2ECC71 ; color: white; padding: 10px; border-radius: 5px; border: 1px solid black;\">\n",
    "  <b style=\"font-size: 35px;\"> 🔴now we will Plotting to show information by Datetime And Count Event Id , Number Of Seats , 'Injured Percentage', 'Total Injuries', 'Total Person', 'Total Fatal Injuries', 'Total Serious Injuries', 'Total Minor Injuries', 'Total Uninjured', 'Total Injuries', 'Total Person'</b>\n",
    "</div>\n",
    "\n",
    "\n",
    "## 🛫 Plotting for  'Make' , 'Number Of Seats'  to show  all Injuries and Percentage , Total People 🛬"
   ]
  },
  {
   "cell_type": "code",
   "execution_count": null,
   "id": "7256f85a",
   "metadata": {
    "papermill": {
     "duration": null,
     "end_time": null,
     "exception": null,
     "start_time": null,
     "status": "pending"
    },
    "tags": []
   },
   "outputs": [],
   "source": [
    "grouped_data = ntsb.groupby(['Make' , 'Number Of Seats']).agg({'Injured Percentage': 'mean', 'Total Injuries': 'sum', 'Total Person': 'sum', 'Total Fatal Injuries': 'sum', 'Total Serious Injuries': 'sum', 'Total Minor Injuries': 'sum', 'Total Uninjured': 'sum'}).reset_index().nlargest(100, 'Total Person')\n",
    "\n",
    "# Plotting using Plotly scatter_mapbox\n",
    "fig = px.bar(grouped_data, x='Make', y='Total Person', hover_data=['Injured Percentage', 'Total Injuries', 'Total Person', 'Total Fatal Injuries', 'Total Serious Injuries', 'Total Minor Injuries', 'Total Uninjured', 'Total Injuries', 'Total Person', 'Make' , 'Number Of Seats'], color='Make')\n",
    "fig.show()"
   ]
  },
  {
   "cell_type": "markdown",
   "id": "94a8aa8d",
   "metadata": {
    "papermill": {
     "duration": null,
     "end_time": null,
     "exception": null,
     "start_time": null,
     "status": "pending"
    },
    "tags": []
   },
   "source": [
    "<div class=\"alert alert-block alert-success\" style=\"background-color: #F4D03F; color: white; padding: 10px; border-radius: 5px; border: 1px solid black;\">\n",
    "  <b style=\"font-size: 35px;\"> 🔴now we will Plotting to show information by Datetime And Count Event Id , Number Of Seats , 'Injured Percentage', 'Total Injuries', 'Total Person', 'Total Fatal Injuries', 'Total Serious Injuries', 'Total Minor Injuries', 'Total Uninjured', 'Total Injuries', 'Total Person'</b>\n",
    "</div>\n",
    "\n",
    "\n",
    "## 🛫 Plotting for  'Make'   to show  count  of accident 🛬"
   ]
  },
  {
   "cell_type": "code",
   "execution_count": null,
   "id": "dbd1db89",
   "metadata": {
    "papermill": {
     "duration": null,
     "end_time": null,
     "exception": null,
     "start_time": null,
     "status": "pending"
    },
    "tags": []
   },
   "outputs": [],
   "source": [
    "grouped_data = ntsb.groupby(['Make']).agg({'Event Id': 'count' , 'Model' : 'count'}).reset_index()\n",
    "grouped_data = grouped_data.groupby(['Make' , 'Model'])['Event Id'].sum().reset_index().nlargest(50 , 'Event Id')\n",
    "grouped_data\n",
    "# Plotting using Plotly scatter_mapbox\n",
    "fig = px.bar(grouped_data, x='Make', y='Event Id',  hover_data=['Make', 'Event Id' , 'Model'], color='Make', title='Number of Events by Make and Model Over Years')\n",
    "fig.show()"
   ]
  },
  {
   "cell_type": "markdown",
   "id": "6c42954f",
   "metadata": {
    "papermill": {
     "duration": null,
     "end_time": null,
     "exception": null,
     "start_time": null,
     "status": "pending"
    },
    "tags": []
   },
   "source": [
    "<div class=\"alert alert-block alert-success\" style=\"background-color: #c528A2; color: white; padding: 10px; border-radius: 5px; border: 1px solid black;\">\n",
    "  <b style=\"font-size: 35px;\"> 🔴now we will Plotting to show information by Datetime And Count Event Id , Number Of Seats , 'Injured Percentage', 'Total Injuries', 'Total Person', 'Total Fatal Injuries', 'Total Serious Injuries', 'Total Minor Injuries', 'Total Uninjured', 'Total Injuries', 'Total Person'</b>\n",
    "</div>\n",
    "\n",
    "\n",
    "## 🛫 Plotting for  'Make', 'Event Year'  to show  count  of accident over Years 🛬"
   ]
  },
  {
   "cell_type": "code",
   "execution_count": null,
   "id": "74a9a712",
   "metadata": {
    "papermill": {
     "duration": null,
     "end_time": null,
     "exception": null,
     "start_time": null,
     "status": "pending"
    },
    "tags": []
   },
   "outputs": [],
   "source": [
    "grouped_data = ntsb.groupby(['Make','Event Year']).agg({'Event Id': 'count' , 'Model' : 'count'}).reset_index()\n",
    "grouped_data = grouped_data.groupby(['Make' ,'Event Year' , 'Model'])['Event Id'].sum().reset_index().nlargest(500 , 'Event Id')\n",
    "grouped_data\n",
    "# Plotting using Plotly scatter_mapbox\n",
    "fig = px.scatter(grouped_data, x='Make', y='Event Id',  hover_data=['Make', 'Event Id' ,'Model'], color='Event Year', title='Number of Events by Make and Model Over Years')\n",
    "fig.show()"
   ]
  },
  {
   "cell_type": "markdown",
   "id": "95024642",
   "metadata": {
    "papermill": {
     "duration": null,
     "end_time": null,
     "exception": null,
     "start_time": null,
     "status": "pending"
    },
    "tags": []
   },
   "source": [
    "<div class=\"alert alert-block alert-success\" style=\"background-color: #512E5F; color: white; padding: 10px; border-radius: 5px; border: 1px solid black;\">\n",
    "  <b style=\"font-size: 35px;\"> 🔴now we will Plotting to show information by Datetime And Count Event Id , Number Of Seats , 'Injured Percentage', 'Total Injuries', 'Total Person', 'Total Fatal Injuries', 'Total Serious Injuries', 'Total Minor Injuries', 'Total Uninjured', 'Total Injuries', 'Total Person'</b>\n",
    "</div>\n",
    "\n",
    "\n",
    "## 🛫 Plotting for  'Make' , 'Number Of Seats'  to show  count of accident for every Maker 🛬"
   ]
  },
  {
   "cell_type": "code",
   "execution_count": null,
   "id": "d7c15657",
   "metadata": {
    "papermill": {
     "duration": null,
     "end_time": null,
     "exception": null,
     "start_time": null,
     "status": "pending"
    },
    "tags": []
   },
   "outputs": [],
   "source": [
    "grouped_data = ntsb.groupby(['Make' ,  'Number Of Seats']).agg({'Event Id': 'count' }).reset_index()\n",
    "grouped_data = grouped_data.groupby(['Make' , 'Number Of Seats' ])['Event Id'].sum().reset_index().nlargest(100 , 'Event Id')\n",
    "grouped_data\n",
    "# Plotting using Plotly scatter_mapbox\n",
    "fig = px.bar(grouped_data, x='Make', y='Event Id',  hover_data=['Make', 'Event Id' ,  'Number Of Seats'], color='Make', title='Number of Events by Make and Model Over Years')\n",
    "fig.show()"
   ]
  },
  {
   "cell_type": "markdown",
   "id": "1587f29a",
   "metadata": {
    "papermill": {
     "duration": null,
     "end_time": null,
     "exception": null,
     "start_time": null,
     "status": "pending"
    },
    "tags": []
   },
   "source": [
    "<div class=\"alert alert-block alert-success\" style=\"background-color: #EC0E33 ; color: white; padding: 10px; border-radius: 5px; border: 1px solid black;\">\n",
    "  <b style=\"font-size: 35px;\"> 🔴Thank You  For You Efforts And Your Attention</b>\n",
    "</div>"
   ]
  }
 ],
 "metadata": {
  "kaggle": {
   "accelerator": "none",
   "dataSources": [
    {
     "datasetId": 521,
     "sourceId": 4875576,
     "sourceType": "datasetVersion"
    }
   ],
   "dockerImageVersionId": 30698,
   "isGpuEnabled": false,
   "isInternetEnabled": true,
   "language": "python",
   "sourceType": "notebook"
  },
  "kernelspec": {
   "display_name": "Python 3",
   "language": "python",
   "name": "python3"
  },
  "language_info": {
   "codemirror_mode": {
    "name": "ipython",
    "version": 3
   },
   "file_extension": ".py",
   "mimetype": "text/x-python",
   "name": "python",
   "nbconvert_exporter": "python",
   "pygments_lexer": "ipython3",
   "version": "3.10.13"
  },
  "papermill": {
   "default_parameters": {},
   "duration": 4.516866,
   "end_time": "2024-04-29T08:36:51.218155",
   "environment_variables": {},
   "exception": true,
   "input_path": "__notebook__.ipynb",
   "output_path": "__notebook__.ipynb",
   "parameters": {},
   "start_time": "2024-04-29T08:36:46.701289",
   "version": "2.5.0"
  },
  "polyglot_notebook": {
   "kernelInfo": {
    "defaultKernelName": "csharp",
    "items": [
     {
      "aliases": [],
      "name": "csharp"
     }
    ]
   }
  }
 },
 "nbformat": 4,
 "nbformat_minor": 5
}
